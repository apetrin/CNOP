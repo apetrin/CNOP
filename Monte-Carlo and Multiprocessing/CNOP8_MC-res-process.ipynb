{
 "metadata": {
  "name": "",
  "signature": "sha256:b434c561bac0a499cdce008a0a784d73e7ca961d0c3fa9e819d5ee72d609f8b3"
 },
 "nbformat": 3,
 "nbformat_minor": 0,
 "worksheets": [
  {
   "cells": [
    {
     "cell_type": "code",
     "collapsed": false,
     "input": [
      "from IPython import parallel\n",
      "clients = parallel.Client(profile='parallel')"
     ],
     "language": "python",
     "metadata": {},
     "outputs": [],
     "prompt_number": 1
    },
    {
     "cell_type": "code",
     "collapsed": false,
     "input": [
      "print clients.ids\n",
      "print \"Total %i cores\"%(len(clients.ids))"
     ],
     "language": "python",
     "metadata": {},
     "outputs": [
      {
       "output_type": "stream",
       "stream": "stdout",
       "text": [
        "[0, 1, 2, 3, 4, 5, 6, 15, 16]\n",
        "Total 9 cores\n"
       ]
      }
     ],
     "prompt_number": 2
    },
    {
     "cell_type": "code",
     "collapsed": false,
     "input": [
      "%%px --local\n",
      "import cPickle as pickle\n",
      "import glob\n",
      "import os"
     ],
     "language": "python",
     "metadata": {},
     "outputs": [],
     "prompt_number": 3
    },
    {
     "cell_type": "code",
     "collapsed": false,
     "input": [
      "%%px --local\n",
      "\n",
      "import sys\n",
      "sys.path.append(\"\\\\\\\\DAP-NAS\\\\work\\\\CNOP\")\n",
      "import cPickle as pickle\n",
      "import numpy as np\n",
      "import pandas as pd\n",
      "from statsmodels.tsa.arima_process import arma_generate_sample\n",
      "import matplotlib.pyplot as plt\n",
      "import numpy as np\n",
      "from CNOP import CNOP\n",
      "import winsound\n",
      "def threshold(x,thresholds=[],values=[-1,0,1]):\n",
      "    for threshold,val in zip(thresholds,values):\n",
      "        if x < threshold: \n",
      "            return val\n",
      "    return values[-1]\n",
      "import time\n",
      "from itertools import repeat\n",
      "import os\n",
      "from datetime import datetime\n",
      "import numpy as np\n",
      "import numpy.linalg as linalg"
     ],
     "language": "python",
     "metadata": {},
     "outputs": [],
     "prompt_number": 4
    },
    {
     "cell_type": "code",
     "collapsed": false,
     "input": [
      "%%px --local\n",
      "def pickle_folder(path, wait_interactive=True, chunksize=1):\n",
      "    '''Pickles all objects (except !README.txt) from the folder assynchronically'''\n",
      "    try:\n",
      "        print \"INFO FROM FILE:\", file(path+\"!README.txt\").read()\n",
      "    except:\n",
      "        print \"NO README file\"\n",
      "\n",
      "    view = clients.load_balanced_view()\n",
      "    files = os.listdir(path)\n",
      "    if len(files) < 2:\n",
      "        raise RuntimeError, \"Less than 2 files\"\n",
      "    ar = view.map_async(lambda x: pickle.load(file(x)), \n",
      "                        [path+x for x in os.listdir(path) if x != \"!README.txt\"], \n",
      "                        chunksize=chunksize)\n",
      "    if wait_interactive:\n",
      "        ar.wait_interactive()\n",
      "        return ar.get()\n",
      "    else:\n",
      "        return ar\n",
      "\n",
      "def get_folder_info(path):\n",
      "    print \"INFO FROM FILE:\", file(path+\"!README.txt\").read()\n",
      "    files = os.listdir(path)\n",
      "    print \"With %i files\"%(len(files))"
     ],
     "language": "python",
     "metadata": {},
     "outputs": [],
     "prompt_number": 5
    },
    {
     "cell_type": "code",
     "collapsed": false,
     "input": [
      "get_folder_info(\"\\\\\\\\DAP-NAS\\\\work\\\\CNOP\\\\dumps\\\\temp\\\\20150323_212714\\\\\")"
     ],
     "language": "python",
     "metadata": {},
     "outputs": [
      {
       "output_type": "stream",
       "stream": "stdout",
       "text": [
        "INFO FROM FILE: "
       ]
      },
      {
       "output_type": "stream",
       "stream": "stdout",
       "text": [
        "Doing MC on 8 cores, 10000 replications of \"full_overlap\" with 250 observations\n",
        "With 10001 files"
       ]
      },
      {
       "output_type": "stream",
       "stream": "stdout",
       "text": [
        "\n"
       ]
      }
     ],
     "prompt_number": 44
    },
    {
     "cell_type": "code",
     "collapsed": false,
     "input": [
      "res250Full=pickle_folder(\"\\\\\\\\DAP-NAS\\\\work\\\\CNOP\\\\dumps\\\\temp\\\\20150323_212714\\\\\")"
     ],
     "language": "python",
     "metadata": {},
     "outputs": [
      {
       "output_type": "stream",
       "stream": "stdout",
       "text": [
        "10000/10000 tasks finished after  140 s"
       ]
      },
      {
       "output_type": "stream",
       "stream": "stdout",
       "text": [
        "\n",
        "done\n"
       ]
      }
     ],
     "prompt_number": 45
    },
    {
     "cell_type": "code",
     "collapsed": false,
     "input": [
      "len(res250Full)"
     ],
     "language": "python",
     "metadata": {},
     "outputs": [
      {
       "metadata": {},
       "output_type": "pyout",
       "prompt_number": 46,
       "text": [
        "10000"
       ]
      }
     ],
     "prompt_number": 46
    },
    {
     "cell_type": "code",
     "collapsed": false,
     "input": [
      "pickle.dump(res250Full, file(\"\\\\\\\\DAP-NAS\\\\work\\\\CNOP\\\\dumps\\\\MC 31.03-results\\\\3Full\\\\res250_CHECKED\", \"w\"))"
     ],
     "language": "python",
     "metadata": {},
     "outputs": [],
     "prompt_number": 48
    },
    {
     "cell_type": "code",
     "collapsed": false,
     "input": [
      "del res250Full"
     ],
     "language": "python",
     "metadata": {},
     "outputs": [],
     "prompt_number": 54
    },
    {
     "cell_type": "code",
     "collapsed": false,
     "input": [
      "get_folder_info(\"\\\\\\\\DAP-NAS\\\\work\\\\CNOP\\\\dumps\\\\temp\\\\20150324_101209\\\\\")"
     ],
     "language": "python",
     "metadata": {},
     "outputs": [
      {
       "output_type": "stream",
       "stream": "stdout",
       "text": [
        "INFO FROM FILE: "
       ]
      },
      {
       "output_type": "stream",
       "stream": "stdout",
       "text": [
        "Doing MC on 8 cores, 10000 replications of \"full_overlap\" with 500 observations\n",
        "With 10001 files"
       ]
      },
      {
       "output_type": "stream",
       "stream": "stdout",
       "text": [
        "\n"
       ]
      }
     ],
     "prompt_number": 49
    },
    {
     "cell_type": "code",
     "collapsed": false,
     "input": [
      "res500Full=pickle_folder(\"\\\\\\\\DAP-NAS\\\\work\\\\CNOP\\\\dumps\\\\temp\\\\20150324_101209\\\\\")"
     ],
     "language": "python",
     "metadata": {},
     "outputs": [
      {
       "output_type": "stream",
       "stream": "stdout",
       "text": [
        "10000/10000 tasks finished after  133 s"
       ]
      },
      {
       "output_type": "stream",
       "stream": "stdout",
       "text": [
        "\n",
        "done\n"
       ]
      }
     ],
     "prompt_number": 55
    },
    {
     "cell_type": "code",
     "collapsed": false,
     "input": [
      "len(res500Full)"
     ],
     "language": "python",
     "metadata": {},
     "outputs": [
      {
       "metadata": {},
       "output_type": "pyout",
       "prompt_number": 56,
       "text": [
        "10000"
       ]
      }
     ],
     "prompt_number": 56
    },
    {
     "cell_type": "code",
     "collapsed": false,
     "input": [
      "pickle.dump(res500Full, file(\"\\\\\\\\DAP-NAS\\\\work\\\\CNOP\\\\dumps\\\\MC 31.03-results\\\\3Full\\\\res500_CHECKED\", \"w\"))"
     ],
     "language": "python",
     "metadata": {},
     "outputs": [],
     "prompt_number": 57
    },
    {
     "cell_type": "code",
     "collapsed": false,
     "input": [
      "get_folder_info(\"\\\\\\\\DAP-NAS\\\\work\\\\CNOP\\\\dumps\\\\temp\\\\20150325_051321\\\\\")"
     ],
     "language": "python",
     "metadata": {},
     "outputs": [
      {
       "output_type": "stream",
       "stream": "stdout",
       "text": [
        "INFO FROM FILE: "
       ]
      },
      {
       "output_type": "stream",
       "stream": "stdout",
       "text": [
        "Doing MC on 8 cores, 10000 replications of \"full_overlap\" with 1000 observations\n",
        "With 5140 files"
       ]
      },
      {
       "output_type": "stream",
       "stream": "stdout",
       "text": [
        "\n"
       ]
      }
     ],
     "prompt_number": 59
    },
    {
     "cell_type": "code",
     "collapsed": false,
     "input": [
      "res1000Full0=pickle_folder(\"\\\\\\\\DAP-NAS\\\\work\\\\CNOP\\\\dumps\\\\temp\\\\20150325_051321\\\\\")"
     ],
     "language": "python",
     "metadata": {},
     "outputs": [
      {
       "output_type": "stream",
       "stream": "stdout",
       "text": [
        "5139/5139 tasks finished after   81 s"
       ]
      },
      {
       "output_type": "stream",
       "stream": "stdout",
       "text": [
        "\n",
        "done\n"
       ]
      }
     ],
     "prompt_number": 60
    },
    {
     "cell_type": "code",
     "collapsed": false,
     "input": [
      "len(res1000Full0)"
     ],
     "language": "python",
     "metadata": {},
     "outputs": [
      {
       "metadata": {},
       "output_type": "pyout",
       "prompt_number": 62,
       "text": [
        "5139"
       ]
      }
     ],
     "prompt_number": 62
    },
    {
     "cell_type": "code",
     "collapsed": false,
     "input": [
      "res1000Full1=pickle_folder(\"\\\\\\\\DAP-NAS\\\\work\\\\CNOP\\\\dumps\\\\temp\\\\20150326_120353\\\\\")"
     ],
     "language": "python",
     "metadata": {},
     "outputs": [
      {
       "output_type": "stream",
       "stream": "stdout",
       "text": [
        "4861/4861 tasks finished after  132 s"
       ]
      },
      {
       "output_type": "stream",
       "stream": "stdout",
       "text": [
        "\n",
        "done\n"
       ]
      }
     ],
     "prompt_number": 63
    },
    {
     "cell_type": "code",
     "collapsed": false,
     "input": [
      "pickle.dump(res1000Full0+res1000Full1, file(\"\\\\\\\\DAP-NAS\\\\work\\\\CNOP\\\\dumps\\\\MC 31.03-results\\\\3Full\\\\res1000_CHECKED\", \"w\"))"
     ],
     "language": "python",
     "metadata": {},
     "outputs": [],
     "prompt_number": 64
    },
    {
     "cell_type": "code",
     "collapsed": false,
     "input": [
      "get_folder_info(\"\\\\\\\\DAP-NAS\\\\work\\\\CNOP\\\\dumps\\\\temp\\\\20150323_212714\\\\\")"
     ],
     "language": "python",
     "metadata": {},
     "outputs": [
      {
       "output_type": "stream",
       "stream": "stdout",
       "text": [
        "INFO FROM FILE: "
       ]
      },
      {
       "output_type": "stream",
       "stream": "stdout",
       "text": [
        "Doing MC on 8 cores, 10000 replications of \"full_overlap\" with 250 observations\n",
        "With 10001 files"
       ]
      },
      {
       "output_type": "stream",
       "stream": "stdout",
       "text": [
        "\n"
       ]
      }
     ],
     "prompt_number": 66
    },
    {
     "cell_type": "code",
     "collapsed": false,
     "input": [
      "get_folder_info(\"\\\\\\\\DAP-NAS\\\\work\\\\CNOP\\\\dumps\\\\temp\\\\20150328_094006\\\\\")"
     ],
     "language": "python",
     "metadata": {},
     "outputs": [
      {
       "output_type": "stream",
       "stream": "stdout",
       "text": [
        "INFO FROM FILE: "
       ]
      },
      {
       "output_type": "stream",
       "stream": "stdout",
       "text": [
        "Doing MC on 15 cores, 4225 replications of \"no_overlap\" with 500 observations\n",
        "With 4224 files"
       ]
      },
      {
       "output_type": "stream",
       "stream": "stdout",
       "text": [
        "\n"
       ]
      }
     ],
     "prompt_number": 24
    },
    {
     "cell_type": "code",
     "collapsed": false,
     "input": [
      "get_folder_info(\"\\\\\\\\DAP-NAS\\\\work\\\\CNOP\\\\dumps\\\\temp\\\\20150328_004236\\\\\")"
     ],
     "language": "python",
     "metadata": {},
     "outputs": [
      {
       "output_type": "stream",
       "stream": "stdout",
       "text": [
        "INFO FROM FILE: "
       ]
      },
      {
       "output_type": "stream",
       "stream": "stdout",
       "text": [
        "Doing MC on 17 cores, 10000 replications of \"no_overlap\" with 500 observations\n",
        "With 5776 files"
       ]
      },
      {
       "output_type": "stream",
       "stream": "stdout",
       "text": [
        "\n"
       ]
      }
     ],
     "prompt_number": 25
    },
    {
     "cell_type": "code",
     "collapsed": false,
     "input": [
      "res500No0=pickle_folder(\"\\\\\\\\DAP-NAS\\\\work\\\\CNOP\\\\dumps\\\\temp\\\\20150328_094006\\\\\")"
     ],
     "language": "python",
     "metadata": {},
     "outputs": [
      {
       "output_type": "stream",
       "stream": "stdout",
       "text": [
        "4223/4223 tasks finished after   71 s"
       ]
      },
      {
       "output_type": "stream",
       "stream": "stdout",
       "text": [
        "\n",
        "done\n"
       ]
      }
     ],
     "prompt_number": 26
    },
    {
     "cell_type": "code",
     "collapsed": false,
     "input": [
      "res500No1=pickle_folder(\"\\\\\\\\DAP-NAS\\\\work\\\\CNOP\\\\dumps\\\\temp\\\\20150328_004236\\\\\")"
     ],
     "language": "python",
     "metadata": {},
     "outputs": [
      {
       "output_type": "stream",
       "stream": "stdout",
       "text": [
        "5775/5775 tasks finished after   99 s"
       ]
      },
      {
       "output_type": "stream",
       "stream": "stdout",
       "text": [
        "\n",
        "done\n"
       ]
      }
     ],
     "prompt_number": 27
    },
    {
     "cell_type": "code",
     "collapsed": false,
     "input": [
      "res500No0 = [[i, \"\"] for i in res500No0]\n",
      "res500No1 = [[i, \"\"] for i in res500No1]"
     ],
     "language": "python",
     "metadata": {},
     "outputs": [],
     "prompt_number": 34
    },
    {
     "cell_type": "code",
     "collapsed": false,
     "input": [
      "pickle.dump(res500No0+res500No1, file(\"\\\\\\\\DAP-NAS\\\\work\\\\CNOP\\\\dumps\\\\MC 31.03-results\\\\1No+\\\\res500_CHECKED\", \"w\"))"
     ],
     "language": "python",
     "metadata": {},
     "outputs": [],
     "prompt_number": 37
    },
    {
     "cell_type": "code",
     "collapsed": false,
     "input": [
      "del res100Full"
     ],
     "language": "python",
     "metadata": {},
     "outputs": [],
     "prompt_number": 70
    },
    {
     "cell_type": "heading",
     "level": 3,
     "metadata": {},
     "source": [
      "\u041e\u0431\u0440\u0430\u0431\u043e\u0442\u043a\u0430 \u0438 \u043f\u0440\u043e\u0432\u0435\u0440\u043a\u0430 \u0434\u0430\u043c\u043f\u043e\u0432"
     ]
    },
    {
     "cell_type": "code",
     "collapsed": false,
     "input": [
      "res1000_NOT_CHECKED=pickle.load(file(\"\\\\\\\\DAP-NAS\\\\work\\\\CNOP\\\\dumps\\\\MC 31.03-results\\\\2Partial\\\\res1000_NOT_CHECKED\"))"
     ],
     "language": "python",
     "metadata": {},
     "outputs": [],
     "prompt_number": 81
    },
    {
     "cell_type": "code",
     "collapsed": false,
     "input": [
      "len(res1000_NOT_CHECKED)"
     ],
     "language": "python",
     "metadata": {},
     "outputs": [
      {
       "metadata": {},
       "output_type": "pyout",
       "prompt_number": 82,
       "text": [
        "10000"
       ]
      }
     ],
     "prompt_number": 82
    },
    {
     "cell_type": "markdown",
     "metadata": {},
     "source": [
      "---"
     ]
    },
    {
     "cell_type": "heading",
     "level": 1,
     "metadata": {},
     "source": [
      "MC analysis"
     ]
    },
    {
     "cell_type": "code",
     "collapsed": false,
     "input": [
      "import numpy as np\n",
      "import numpy.linalg as linalg"
     ],
     "language": "python",
     "metadata": {},
     "outputs": [],
     "prompt_number": 2
    },
    {
     "cell_type": "code",
     "collapsed": false,
     "input": [
      "def process_dump(path, res_real):\n",
      "    mc_res = pickle.load(file(path))\n",
      "    xs = np.array([item[0][0].x for item in mc_res if len(item)==2 and linalg.norm(item[0][0].x, ord=np.inf) < 100 ])\n",
      "    ses = np.array([item[0][0].se for item in mc_res \n",
      "                    if len(item)==2 and linalg.norm(item[0][0].x, ord=np.inf) < 100 \\\n",
      "                    and \"se\" in item[0][0].keys() and not np.isnan(item[0][0].se).any() \\\n",
      "                    #and linalg.norm(item[0][0].se, ord=np.inf) < 100 ])    \n",
      "                    ])  \n",
      "    \n",
      "    xs = pd.Dataframe(xs)\n",
      "    ses = pd.Dataframe(ses)\n",
      "    \n",
      "    rmse =  ((res_real - xs) ** 2).mean()\n",
      "    bias = (res_real - xs).mean()\n",
      "    a_ratio = (ses.mean()/xs.std()).mean()\n",
      "    m_ratio = (ses.median()/xs.std()).mean()\n",
      "    \n",
      "    print \"FILE: %s\"%(path.split(\"\\\\\")[-1])\n",
      "    print \"BIAS: %2.3f\"%(bias)\n",
      "    print \"RMSE: %2.3f\"%(rmse)\n",
      "    print \"A-ratio: %s\"%(a_ratio)\n",
      "    print \"M-ratio: %s\"%(m_ratio)\n",
      "    print\n",
      "    print \"XS len: %s\" % len(xs)\n",
      "    print \"SE len: %s\" % len(ses)\n",
      "    print \"XS variance: %s \"% xs.std(axis=0)\n",
      "  \n",
      "    \n",
      "    "
     ],
     "language": "python",
     "metadata": {},
     "outputs": [],
     "prompt_number": 6
    },
    {
     "cell_type": "code",
     "collapsed": false,
     "input": [
      "res1000_NOT_CHECKED = pickle.load(file(u\"C:\\\\Users\\\\User\\\\Dropbox\\\\\u041b\u0435\u043a\u0446\u0438\u0438\\\\\u0412\u041a\u0420\\\\My Monte-carlo\\\\MC 31.03-results\\\\2Partial\\\\res100_CHECKED\"))"
     ],
     "language": "python",
     "metadata": {},
     "outputs": [],
     "prompt_number": 12
    },
    {
     "cell_type": "code",
     "collapsed": false,
     "input": [
      "path=u\"C:\\\\Users\\\\User\\\\Dropbox\\\\\u041b\u0435\u043a\u0446\u0438\u0438\\\\\u0412\u041a\u0420\\\\My Monte-carlo\\\\MC 31.03-results\\\\2Partial\\\\res100_CHECKED\"\n",
      "process_dump(path, res_real)"
     ],
     "language": "python",
     "metadata": {},
     "outputs": [
      {
       "output_type": "stream",
       "stream": "stdout",
       "text": [
        "FILE: res100_CHECKED\n",
        "BIAS: -0.102\n",
        "RMSE: 6.714\n",
        "A-ratio: 5.41139855272e+140\n",
        "M-ratio: 0.321047317994\n"
       ]
      }
     ],
     "prompt_number": 116
    },
    {
     "cell_type": "code",
     "collapsed": false,
     "input": [
      "beta,   alpha   = [0.6, 0.4, 0.8], [0.85, 1.55]\n",
      "gammam, mum =     [0.4, 0.3, 0.9], [-1.2, 0.07]\n",
      "gammap, mup =     [0.2, 0.8, 0.3], [1.28, 2.5]\n",
      "res_real_full = beta+alpha+gammam+mum+gammap+mup\n",
      "beta,   alpha   = [0.6, 0.4], [0.9, 1.5]\n",
      "gammam, mum =     [0.3, 0.9], [-0.67, 0.36]\n",
      "gammap, mup =     [0.2, 0.3], [0.02, 1.28]\n",
      "res_real_partial = beta+alpha+gammam+mum+gammap+mup\n",
      "beta,   alpha   = [0.6], [0.95, 1.45]\n",
      "gammam, mum =     [0.9], [-1.22, 0.03]\n",
      "gammap, mup =     [0.8], [-0.03, 1.18]\n",
      "res_real_no = beta+alpha+gammam+mum+gammap+mup"
     ],
     "language": "python",
     "metadata": {},
     "outputs": [],
     "prompt_number": 7
    },
    {
     "cell_type": "code",
     "collapsed": false,
     "input": [
      "beta,   alpha   = [0.6, 0.4], [0.9, 1.5]\n",
      "gammam, mum =     [0.3, 0.9], [-0.67, 0.36]\n",
      "gammap, mup =     [0.2, 0.3], [0.02, 1.28]\n",
      "res_real_partial = beta+alpha+gammam+mum+gammap+mup"
     ],
     "language": "python",
     "metadata": {},
     "outputs": [],
     "prompt_number": 8
    },
    {
     "cell_type": "code",
     "collapsed": false,
     "input": [
      "beta,   alpha   = [0.6], [0.95, 1.45]\n",
      "gammam, mum =     [0.9], [-1.22, 0.03]\n",
      "gammap, mup =     [0.8], [-0.03, 1.18]\n",
      "res_real_no = beta+alpha+gammam+mum+gammap+mup"
     ],
     "language": "python",
     "metadata": {},
     "outputs": [],
     "prompt_number": 9
    },
    {
     "cell_type": "heading",
     "level": 1,
     "metadata": {},
     "source": [
      "150 obs"
     ]
    },
    {
     "cell_type": "code",
     "collapsed": false,
     "input": [
      "path=u\"W:\\\\CNOP\\\\dumps\\\\MC 31.03-results\\\\3Full\\\\\"\n",
      "process_dump(path + \"res150_CHECKED\", res_real_full)"
     ],
     "language": "python",
     "metadata": {},
     "outputs": [
      {
       "output_type": "stream",
       "stream": "stdout",
       "text": [
        "FILE: res150_CHECKED\n",
        "BIAS: -0.280\n",
        "RMSE: 10.400\n",
        "A-ratio: 35935.1136818\n",
        "M-ratio: 0.175399313066\n"
       ]
      }
     ],
     "prompt_number": 191
    },
    {
     "cell_type": "code",
     "collapsed": false,
     "input": [
      "path=u\"W:\\\\CNOP\\\\dumps\\\\MC 31.03-results\\\\3Full\\\\\"\n",
      "process_dump(path + \"res150_CHECKED\", res_real_full)"
     ],
     "language": "python",
     "metadata": {},
     "outputs": [
      {
       "output_type": "stream",
       "stream": "stdout",
       "text": [
        "FILE: res150_CHECKED\n",
        "BIAS: -0.280\n",
        "RMSE: 10.400\n",
        "A-ratio: 0.251587434582\n",
        "M-ratio: 0.175614207518\n",
        "\n",
        "XS len: 8514\n",
        "SE len: 1195\n",
        "XS variance: [ 1.1554774   1.10966607  2.53651001  2.08770918  2.25000791  1.54851286\n",
        "  1.61313639  3.41722933  3.93851742  4.94660503  1.40904432  2.392834\n",
        "  2.85243582  5.24450798  5.32106036] \n"
       ]
      }
     ],
     "prompt_number": 198
    },
    {
     "cell_type": "code",
     "collapsed": false,
     "input": [
      "process_dump(\"W:\\\\CNOP\\\\dumps\\\\MC 31.03-results\\\\2Partial\\\\res150_CHECKED\", res_real_partial)"
     ],
     "language": "python",
     "metadata": {},
     "outputs": [
      {
       "output_type": "stream",
       "stream": "stdout",
       "text": [
        "FILE: res150_CHECKED\n",
        "BIAS: 0.011\n",
        "RMSE: 0.978\n",
        "A-ratio: 4.34731895038e+13\n",
        "M-ratio: 0.521236619654\n",
        "\n",
        "XS len: 9972\n",
        "SE len: 5466\n",
        "XS variance: [ 0.30280266  0.24669125  0.7045185   0.5066124   0.37580024  0.6462535\n",
        "  0.66332632  1.0424209   0.56516882  0.79194061  2.33731737  0.87763953] \n"
       ]
      }
     ],
     "prompt_number": 200
    },
    {
     "cell_type": "code",
     "collapsed": false,
     "input": [
      "process_dump(\"W:\\\\CNOP\\\\dumps\\\\MC 31.03-results\\\\1No+\\\\res150_CHECKED\", res_real_no)"
     ],
     "language": "python",
     "metadata": {},
     "outputs": [
      {
       "output_type": "stream",
       "stream": "stdout",
       "text": [
        "FILE: res150_CHECKED\n",
        "BIAS: -0.041\n",
        "RMSE: 0.304\n",
        "A-ratio: 13.4976140604\n",
        "M-ratio: 0.644672743941\n",
        "\n",
        "XS len: 9999\n",
        "SE len: 7315\n",
        "XS variance: [ 0.20827329  0.54688004  0.41749412  0.46636337  0.48699761  0.63612905\n",
        "  0.52249531  0.88121121  0.44566477] \n"
       ]
      }
     ],
     "prompt_number": 201
    },
    {
     "cell_type": "code",
     "collapsed": false,
     "input": [],
     "language": "python",
     "metadata": {},
     "outputs": []
    },
    {
     "cell_type": "heading",
     "level": 2,
     "metadata": {},
     "source": [
      "No Overlap Results:"
     ]
    },
    {
     "cell_type": "code",
     "collapsed": false,
     "input": [
      "path_no=u\"W:\\\\CNOP\\\\dumps\\\\MC 31.03-results\\\\1No+\\\\\"\n",
      "process_dump(path_no + \"res100_CHECKED\", res_real_no)\n",
      "print\n",
      "process_dump(path_no + \"res250_CHECKED\", res_real_no)\n",
      "print\n",
      "#process_dump(path_no + \"res500_CHECKED\", res_real_no)\n",
      "print\n",
      "process_dump(path_no + \"res1000_OK\", res_real_no)"
     ],
     "language": "python",
     "metadata": {},
     "outputs": [
      {
       "output_type": "stream",
       "stream": "stdout",
       "text": [
        "FILE: res100_CHECKED\n",
        "BIAS: -0.083\n",
        "RMSE: 1.297\n",
        "A-ratio: 5.23583135829e+58\n",
        "M-ratio: 0.504675009963\n",
        "\n",
        "FILE: res250_CHECKED"
       ]
      },
      {
       "output_type": "stream",
       "stream": "stdout",
       "text": [
        "\n",
        "BIAS: -0.029\n",
        "RMSE: 0.090\n",
        "A-ratio: 1.10624749965\n",
        "M-ratio: 0.923506266575\n",
        "\n"
       ]
      },
      {
       "output_type": "stream",
       "stream": "stdout",
       "text": [
        "\n",
        "FILE: res1000_OK"
       ]
      },
      {
       "output_type": "stream",
       "stream": "stdout",
       "text": [
        "\n",
        "BIAS: -0.008\n",
        "RMSE: 0.020\n",
        "A-ratio: 0.988147836321\n",
        "M-ratio: 0.974229890311\n"
       ]
      }
     ],
     "prompt_number": 17
    },
    {
     "cell_type": "code",
     "collapsed": false,
     "input": [
      "path_no=u\"W:\\\\CNOP\\\\dumps\\\\MC 31.03-results\\\\1No+\\\\\"\n",
      "process_dump2(path_no + \"res500_WRONG_FORMAL\", res_real_no)"
     ],
     "language": "python",
     "metadata": {},
     "outputs": [
      {
       "output_type": "stream",
       "stream": "stdout",
       "text": [
        "FILE: res500_WRONG_FORMAL\n",
        "BIAS: -0.016\n",
        "RMSE: 0.042\n",
        "A-ratio: 0.983974826146\n",
        "M-ratio: 0.955236960605\n"
       ]
      }
     ],
     "prompt_number": 174
    },
    {
     "cell_type": "code",
     "collapsed": false,
     "input": [
      "mc_res = pickle.load(file(path_no+\"res500_WRONG_FORMAL\"))\n",
      "res_real = res_real_no"
     ],
     "language": "python",
     "metadata": {},
     "outputs": [],
     "prompt_number": 162
    },
    {
     "cell_type": "code",
     "collapsed": false,
     "input": [
      "mc_res[210][0].x"
     ],
     "language": "python",
     "metadata": {},
     "outputs": [
      {
       "metadata": {},
       "output_type": "pyout",
       "prompt_number": 168,
       "text": [
        "array([ 0.50534012,  0.46968066,  1.34641935,  1.35828922, -1.11020074,\n",
        "        0.9499147 ,  0.81643529, -0.25452674,  0.85107151])"
       ]
      }
     ],
     "prompt_number": 168
    },
    {
     "cell_type": "code",
     "collapsed": false,
     "input": [
      "for i in "
     ],
     "language": "python",
     "metadata": {},
     "outputs": []
    },
    {
     "cell_type": "code",
     "collapsed": false,
     "input": [
      "xs = np.array([item[0].x for item in mc_res if type(item) != IndexError and type(item[0])!=int\n",
      "               and linalg.norm(item[0].x, ord=np.inf) < 100 \\\n",
      "               and len(item[0].x) == len(res_real)])\n",
      "ses = np.array([item[0].se for item in mc_res \n",
      "                if type(item) != IndexError and type(item[0])!=int \\\n",
      "                and linalg.norm(item[0].x, ord=np.inf) < 100 \\\n",
      "                and \"se\" in item[0].keys() and not np.isnan(item[0].se).any()\\\n",
      "                and len(item[0].x) == len(res_real)])    \n",
      "\n",
      "rmse =  ((res_real - xs) ** 2).mean()\n",
      "bias = (res_real - xs).mean()\n",
      "a_ratio = (ses.mean(axis=0)/xs.std(axis=0)).mean()\n",
      "m_ratio = (np.median(ses, axis=0)/xs.std(axis=0)).mean()\n",
      "\n",
      "print \"FILE: %s\"%(path.split(\"\\\\\")[-1])\n",
      "print \"BIAS: %2.3f\"%(bias)\n",
      "print \"RMSE: %2.3f\"%(rmse)\n",
      "print \"A-ratio: %s\"%(a_ratio)\n",
      "print \"M-ratio: %s\"%(m_ratio)\n",
      "  "
     ],
     "language": "python",
     "metadata": {},
     "outputs": [
      {
       "ename": "NameError",
       "evalue": "name 'path' is not defined",
       "output_type": "pyerr",
       "traceback": [
        "\u001b[1;31m---------------------------------------------------------------------------\u001b[0m\n\u001b[1;31mNameError\u001b[0m                                 Traceback (most recent call last)",
        "\u001b[1;32m<ipython-input-172-08899174e2a7>\u001b[0m in \u001b[0;36m<module>\u001b[1;34m()\u001b[0m\n\u001b[0;32m     13\u001b[0m \u001b[0mm_ratio\u001b[0m \u001b[1;33m=\u001b[0m \u001b[1;33m(\u001b[0m\u001b[0mnp\u001b[0m\u001b[1;33m.\u001b[0m\u001b[0mmedian\u001b[0m\u001b[1;33m(\u001b[0m\u001b[0mses\u001b[0m\u001b[1;33m,\u001b[0m \u001b[0maxis\u001b[0m\u001b[1;33m=\u001b[0m\u001b[1;36m0\u001b[0m\u001b[1;33m)\u001b[0m\u001b[1;33m/\u001b[0m\u001b[0mxs\u001b[0m\u001b[1;33m.\u001b[0m\u001b[0mstd\u001b[0m\u001b[1;33m(\u001b[0m\u001b[0maxis\u001b[0m\u001b[1;33m=\u001b[0m\u001b[1;36m0\u001b[0m\u001b[1;33m)\u001b[0m\u001b[1;33m)\u001b[0m\u001b[1;33m.\u001b[0m\u001b[0mmean\u001b[0m\u001b[1;33m(\u001b[0m\u001b[1;33m)\u001b[0m\u001b[1;33m\u001b[0m\u001b[0m\n\u001b[0;32m     14\u001b[0m \u001b[1;33m\u001b[0m\u001b[0m\n\u001b[1;32m---> 15\u001b[1;33m \u001b[1;32mprint\u001b[0m \u001b[1;34m\"FILE: %s\"\u001b[0m\u001b[1;33m%\u001b[0m\u001b[1;33m(\u001b[0m\u001b[0mpath\u001b[0m\u001b[1;33m.\u001b[0m\u001b[0msplit\u001b[0m\u001b[1;33m(\u001b[0m\u001b[1;34m\"\\\\\"\u001b[0m\u001b[1;33m)\u001b[0m\u001b[1;33m[\u001b[0m\u001b[1;33m-\u001b[0m\u001b[1;36m1\u001b[0m\u001b[1;33m]\u001b[0m\u001b[1;33m)\u001b[0m\u001b[1;33m\u001b[0m\u001b[0m\n\u001b[0m\u001b[0;32m     16\u001b[0m \u001b[1;32mprint\u001b[0m \u001b[1;34m\"BIAS: %2.3f\"\u001b[0m\u001b[1;33m%\u001b[0m\u001b[1;33m(\u001b[0m\u001b[0mbias\u001b[0m\u001b[1;33m)\u001b[0m\u001b[1;33m\u001b[0m\u001b[0m\n\u001b[0;32m     17\u001b[0m \u001b[1;32mprint\u001b[0m \u001b[1;34m\"RMSE: %2.3f\"\u001b[0m\u001b[1;33m%\u001b[0m\u001b[1;33m(\u001b[0m\u001b[0mrmse\u001b[0m\u001b[1;33m)\u001b[0m\u001b[1;33m\u001b[0m\u001b[0m\n",
        "\u001b[1;31mNameError\u001b[0m: name 'path' is not defined"
       ]
      }
     ],
     "prompt_number": 172
    },
    {
     "cell_type": "code",
     "collapsed": false,
     "input": [
      "len(xs)"
     ],
     "language": "python",
     "metadata": {},
     "outputs": [
      {
       "metadata": {},
       "output_type": "pyout",
       "prompt_number": 175,
       "text": [
        "9996"
       ]
      }
     ],
     "prompt_number": 175
    },
    {
     "cell_type": "code",
     "collapsed": false,
     "input": [],
     "language": "python",
     "metadata": {},
     "outputs": []
    },
    {
     "cell_type": "code",
     "collapsed": false,
     "input": [
      "mc_res = pickle.load(file(path_no+\"res500_CHECKED\"))\n",
      "xs = np.array([item[0][0].x for item in mc_res if len(item)==2 and linalg.norm(item[0][0].x, ord=np.inf) < 100 ])\n"
     ],
     "language": "python",
     "metadata": {},
     "outputs": [
      {
       "ename": "KeyError",
       "evalue": "0",
       "output_type": "pyerr",
       "traceback": [
        "\u001b[1;31m---------------------------------------------------------------------------\u001b[0m\n\u001b[1;31mKeyError\u001b[0m                                  Traceback (most recent call last)",
        "\u001b[1;32m<ipython-input-13-b8f78aefb810>\u001b[0m in \u001b[0;36m<module>\u001b[1;34m()\u001b[0m\n\u001b[0;32m      1\u001b[0m \u001b[0mmc_res\u001b[0m \u001b[1;33m=\u001b[0m \u001b[0mpickle\u001b[0m\u001b[1;33m.\u001b[0m\u001b[0mload\u001b[0m\u001b[1;33m(\u001b[0m\u001b[0mfile\u001b[0m\u001b[1;33m(\u001b[0m\u001b[0mpath_no\u001b[0m\u001b[1;33m+\u001b[0m\u001b[1;34m\"res500_CHECKED\"\u001b[0m\u001b[1;33m)\u001b[0m\u001b[1;33m)\u001b[0m\u001b[1;33m\u001b[0m\u001b[0m\n\u001b[1;32m----> 2\u001b[1;33m \u001b[0mxs\u001b[0m \u001b[1;33m=\u001b[0m \u001b[0mnp\u001b[0m\u001b[1;33m.\u001b[0m\u001b[0marray\u001b[0m\u001b[1;33m(\u001b[0m\u001b[1;33m[\u001b[0m\u001b[0mitem\u001b[0m\u001b[1;33m[\u001b[0m\u001b[1;36m0\u001b[0m\u001b[1;33m]\u001b[0m\u001b[1;33m[\u001b[0m\u001b[1;36m0\u001b[0m\u001b[1;33m]\u001b[0m\u001b[1;33m.\u001b[0m\u001b[0mx\u001b[0m \u001b[1;32mfor\u001b[0m \u001b[0mitem\u001b[0m \u001b[1;32min\u001b[0m \u001b[0mmc_res\u001b[0m \u001b[1;32mif\u001b[0m \u001b[0mlen\u001b[0m\u001b[1;33m(\u001b[0m\u001b[0mitem\u001b[0m\u001b[1;33m)\u001b[0m\u001b[1;33m==\u001b[0m\u001b[1;36m2\u001b[0m \u001b[1;32mand\u001b[0m \u001b[0mlinalg\u001b[0m\u001b[1;33m.\u001b[0m\u001b[0mnorm\u001b[0m\u001b[1;33m(\u001b[0m\u001b[0mitem\u001b[0m\u001b[1;33m[\u001b[0m\u001b[1;36m0\u001b[0m\u001b[1;33m]\u001b[0m\u001b[1;33m[\u001b[0m\u001b[1;36m0\u001b[0m\u001b[1;33m]\u001b[0m\u001b[1;33m.\u001b[0m\u001b[0mx\u001b[0m\u001b[1;33m,\u001b[0m \u001b[0mord\u001b[0m\u001b[1;33m=\u001b[0m\u001b[0mnp\u001b[0m\u001b[1;33m.\u001b[0m\u001b[0minf\u001b[0m\u001b[1;33m)\u001b[0m \u001b[1;33m<\u001b[0m \u001b[1;36m100\u001b[0m \u001b[1;33m]\u001b[0m\u001b[1;33m)\u001b[0m\u001b[1;33m\u001b[0m\u001b[0m\n\u001b[0m",
        "\u001b[1;31mKeyError\u001b[0m: 0"
       ]
      }
     ],
     "prompt_number": 13
    },
    {
     "cell_type": "code",
     "collapsed": false,
     "input": [
      "xs=[]\n",
      "for i,item in enumerate(mc_res):\n",
      "    print i\n",
      "    if len(item)==2 and linalg.norm(item[0][0].x, ord=np.inf) < 100 : \n",
      "        xs.append(item[0][0].x)"
     ],
     "language": "python",
     "metadata": {},
     "outputs": [
      {
       "output_type": "stream",
       "stream": "stdout",
       "text": [
        "0\n"
       ]
      },
      {
       "ename": "KeyError",
       "evalue": "0",
       "output_type": "pyerr",
       "traceback": [
        "\u001b[1;31m---------------------------------------------------------------------------\u001b[0m\n\u001b[1;31mKeyError\u001b[0m                                  Traceback (most recent call last)",
        "\u001b[1;32m<ipython-input-15-b2ed36692c69>\u001b[0m in \u001b[0;36m<module>\u001b[1;34m()\u001b[0m\n\u001b[0;32m      2\u001b[0m \u001b[1;32mfor\u001b[0m \u001b[0mi\u001b[0m\u001b[1;33m,\u001b[0m\u001b[0mitem\u001b[0m \u001b[1;32min\u001b[0m \u001b[0menumerate\u001b[0m\u001b[1;33m(\u001b[0m\u001b[0mmc_res\u001b[0m\u001b[1;33m)\u001b[0m\u001b[1;33m:\u001b[0m\u001b[1;33m\u001b[0m\u001b[0m\n\u001b[0;32m      3\u001b[0m     \u001b[1;32mprint\u001b[0m \u001b[0mi\u001b[0m\u001b[1;33m\u001b[0m\u001b[0m\n\u001b[1;32m----> 4\u001b[1;33m     \u001b[1;32mif\u001b[0m \u001b[0mlen\u001b[0m\u001b[1;33m(\u001b[0m\u001b[0mitem\u001b[0m\u001b[1;33m)\u001b[0m\u001b[1;33m==\u001b[0m\u001b[1;36m2\u001b[0m \u001b[1;32mand\u001b[0m \u001b[0mlinalg\u001b[0m\u001b[1;33m.\u001b[0m\u001b[0mnorm\u001b[0m\u001b[1;33m(\u001b[0m\u001b[0mitem\u001b[0m\u001b[1;33m[\u001b[0m\u001b[1;36m0\u001b[0m\u001b[1;33m]\u001b[0m\u001b[1;33m[\u001b[0m\u001b[1;36m0\u001b[0m\u001b[1;33m]\u001b[0m\u001b[1;33m.\u001b[0m\u001b[0mx\u001b[0m\u001b[1;33m,\u001b[0m \u001b[0mord\u001b[0m\u001b[1;33m=\u001b[0m\u001b[0mnp\u001b[0m\u001b[1;33m.\u001b[0m\u001b[0minf\u001b[0m\u001b[1;33m)\u001b[0m \u001b[1;33m<\u001b[0m \u001b[1;36m100\u001b[0m \u001b[1;33m:\u001b[0m\u001b[1;33m\u001b[0m\u001b[0m\n\u001b[0m\u001b[0;32m      5\u001b[0m         \u001b[0mxs\u001b[0m\u001b[1;33m.\u001b[0m\u001b[0mappend\u001b[0m\u001b[1;33m(\u001b[0m\u001b[0mitem\u001b[0m\u001b[1;33m[\u001b[0m\u001b[1;36m0\u001b[0m\u001b[1;33m]\u001b[0m\u001b[1;33m[\u001b[0m\u001b[1;36m0\u001b[0m\u001b[1;33m]\u001b[0m\u001b[1;33m.\u001b[0m\u001b[0mx\u001b[0m\u001b[1;33m)\u001b[0m\u001b[1;33m\u001b[0m\u001b[0m\n",
        "\u001b[1;31mKeyError\u001b[0m: 0"
       ]
      }
     ],
     "prompt_number": 15
    },
    {
     "cell_type": "code",
     "collapsed": false,
     "input": [
      "process_dump(path_no + \"res500_CHECKED\", res_real_no)\n"
     ],
     "language": "python",
     "metadata": {},
     "outputs": [
      {
       "ename": "AttributeError",
       "evalue": "'int' object has no attribute 'x'",
       "output_type": "pyerr",
       "traceback": [
        "\u001b[1;31m---------------------------------------------------------------------------\u001b[0m\n\u001b[1;31mAttributeError\u001b[0m                            Traceback (most recent call last)",
        "\u001b[1;32m<ipython-input-38-f5d2c5f3bf91>\u001b[0m in \u001b[0;36m<module>\u001b[1;34m()\u001b[0m\n\u001b[1;32m----> 1\u001b[1;33m \u001b[0mprocess_dump\u001b[0m\u001b[1;33m(\u001b[0m\u001b[0mpath_no\u001b[0m \u001b[1;33m+\u001b[0m \u001b[1;34m\"res500_CHECKED\"\u001b[0m\u001b[1;33m,\u001b[0m \u001b[0mres_real_no\u001b[0m\u001b[1;33m)\u001b[0m\u001b[1;33m\u001b[0m\u001b[0m\n\u001b[0m",
        "\u001b[1;32m<ipython-input-7-b7cc45a6ba54>\u001b[0m in \u001b[0;36mprocess_dump\u001b[1;34m(path, res_real)\u001b[0m\n\u001b[0;32m      1\u001b[0m \u001b[1;32mdef\u001b[0m \u001b[0mprocess_dump\u001b[0m\u001b[1;33m(\u001b[0m\u001b[0mpath\u001b[0m\u001b[1;33m,\u001b[0m \u001b[0mres_real\u001b[0m\u001b[1;33m)\u001b[0m\u001b[1;33m:\u001b[0m\u001b[1;33m\u001b[0m\u001b[0m\n\u001b[0;32m      2\u001b[0m     \u001b[0mmc_res\u001b[0m \u001b[1;33m=\u001b[0m \u001b[0mpickle\u001b[0m\u001b[1;33m.\u001b[0m\u001b[0mload\u001b[0m\u001b[1;33m(\u001b[0m\u001b[0mfile\u001b[0m\u001b[1;33m(\u001b[0m\u001b[0mpath\u001b[0m\u001b[1;33m)\u001b[0m\u001b[1;33m)\u001b[0m\u001b[1;33m\u001b[0m\u001b[0m\n\u001b[1;32m----> 3\u001b[1;33m     \u001b[0mxs\u001b[0m \u001b[1;33m=\u001b[0m \u001b[0mnp\u001b[0m\u001b[1;33m.\u001b[0m\u001b[0marray\u001b[0m\u001b[1;33m(\u001b[0m\u001b[1;33m[\u001b[0m\u001b[0mitem\u001b[0m\u001b[1;33m[\u001b[0m\u001b[1;36m0\u001b[0m\u001b[1;33m]\u001b[0m\u001b[1;33m[\u001b[0m\u001b[1;36m0\u001b[0m\u001b[1;33m]\u001b[0m\u001b[1;33m.\u001b[0m\u001b[0mx\u001b[0m \u001b[1;32mfor\u001b[0m \u001b[0mitem\u001b[0m \u001b[1;32min\u001b[0m \u001b[0mmc_res\u001b[0m \u001b[1;32mif\u001b[0m \u001b[0mlen\u001b[0m\u001b[1;33m(\u001b[0m\u001b[0mitem\u001b[0m\u001b[1;33m)\u001b[0m\u001b[1;33m==\u001b[0m\u001b[1;36m2\u001b[0m \u001b[1;32mand\u001b[0m \u001b[0mlinalg\u001b[0m\u001b[1;33m.\u001b[0m\u001b[0mnorm\u001b[0m\u001b[1;33m(\u001b[0m\u001b[0mitem\u001b[0m\u001b[1;33m[\u001b[0m\u001b[1;36m0\u001b[0m\u001b[1;33m]\u001b[0m\u001b[1;33m[\u001b[0m\u001b[1;36m0\u001b[0m\u001b[1;33m]\u001b[0m\u001b[1;33m.\u001b[0m\u001b[0mx\u001b[0m\u001b[1;33m,\u001b[0m \u001b[0mord\u001b[0m\u001b[1;33m=\u001b[0m\u001b[0mnp\u001b[0m\u001b[1;33m.\u001b[0m\u001b[0minf\u001b[0m\u001b[1;33m)\u001b[0m \u001b[1;33m<\u001b[0m \u001b[1;36m100\u001b[0m \u001b[1;33m]\u001b[0m\u001b[1;33m)\u001b[0m\u001b[1;33m\u001b[0m\u001b[0m\n\u001b[0m\u001b[0;32m      4\u001b[0m     ses = np.array([item[0][0].se for item in mc_res \n\u001b[0;32m      5\u001b[0m                     \u001b[1;32mif\u001b[0m \u001b[0mlen\u001b[0m\u001b[1;33m(\u001b[0m\u001b[0mitem\u001b[0m\u001b[1;33m)\u001b[0m\u001b[1;33m==\u001b[0m\u001b[1;36m2\u001b[0m \u001b[1;32mand\u001b[0m \u001b[0mlinalg\u001b[0m\u001b[1;33m.\u001b[0m\u001b[0mnorm\u001b[0m\u001b[1;33m(\u001b[0m\u001b[0mitem\u001b[0m\u001b[1;33m[\u001b[0m\u001b[1;36m0\u001b[0m\u001b[1;33m]\u001b[0m\u001b[1;33m[\u001b[0m\u001b[1;36m0\u001b[0m\u001b[1;33m]\u001b[0m\u001b[1;33m.\u001b[0m\u001b[0mx\u001b[0m\u001b[1;33m,\u001b[0m \u001b[0mord\u001b[0m\u001b[1;33m=\u001b[0m\u001b[0mnp\u001b[0m\u001b[1;33m.\u001b[0m\u001b[0minf\u001b[0m\u001b[1;33m)\u001b[0m \u001b[1;33m<\u001b[0m \u001b[1;36m100\u001b[0m\u001b[0;31m \u001b[0m\u001b[0;31m\\\u001b[0m\u001b[1;33m\u001b[0m\u001b[0m\n",
        "\u001b[1;31mAttributeError\u001b[0m: 'int' object has no attribute 'x'"
       ]
      }
     ],
     "prompt_number": 38
    },
    {
     "cell_type": "code",
     "collapsed": false,
     "input": [
      "mc_res = pickle.load(file(path_no+\"res100_CHECKED\"))\n"
     ],
     "language": "python",
     "metadata": {},
     "outputs": [],
     "prompt_number": 30
    },
    {
     "cell_type": "code",
     "collapsed": false,
     "input": [
      "res500No0[1][0][0].x"
     ],
     "language": "python",
     "metadata": {},
     "outputs": [
      {
       "metadata": {},
       "output_type": "pyout",
       "prompt_number": 56,
       "text": [
        "array([ 0.62671246,  1.02496687,  1.47209305,  0.89534815, -1.21529914,\n",
        "        0.00714367,  0.72925652,  0.19039956,  1.15774118])"
       ]
      }
     ],
     "prompt_number": 56
    },
    {
     "cell_type": "code",
     "collapsed": false,
     "input": [
      "mc_res[2][0][0].x"
     ],
     "language": "python",
     "metadata": {},
     "outputs": [
      {
       "metadata": {},
       "output_type": "pyout",
       "prompt_number": 57,
       "text": [
        "array([ 0.84679601,  1.37658051,  2.2288862 ,  1.12325832, -0.91816145,\n",
        "        0.37881604,  1.62014918, -0.16429745,  1.72127041])"
       ]
      }
     ],
     "prompt_number": 57
    },
    {
     "cell_type": "heading",
     "level": 2,
     "metadata": {},
     "source": [
      "Partial overlap"
     ]
    },
    {
     "cell_type": "code",
     "collapsed": false,
     "input": [
      "path_no=u\"W:\\\\CNOP\\\\dumps\\\\MC 31.03-results\\\\2Partial\\\\\"\n",
      "process_dump(path_no + \"res100_CHECKED\", res_real_partial)\n",
      "print\n",
      "process_dump(path_no + \"res250_CHECKED\", res_real_partial)\n",
      "print\n",
      "process_dump(path_no + \"res500_CHECKED\", res_real_partial)\n",
      "print\n",
      "process_dump(path_no + \"res1000_CHECKED\", res_real_partial)"
     ],
     "language": "python",
     "metadata": {},
     "outputs": [
      {
       "output_type": "stream",
       "stream": "stdout",
       "text": [
        "FILE: res100_CHECKED\n",
        "BIAS: -0.073\n",
        "RMSE: 6.881\n",
        "A-ratio: 5.41139855272e+140\n",
        "M-ratio: 0.321047317994\n",
        "\n",
        "FILE: res250_CHECKED"
       ]
      },
      {
       "output_type": "stream",
       "stream": "stdout",
       "text": [
        "\n",
        "BIAS: 0.049\n",
        "RMSE: 0.535\n",
        "A-ratio: 2.49132448918\n",
        "M-ratio: 0.729842391546\n",
        "\n"
       ]
      },
      {
       "output_type": "stream",
       "stream": "stdout",
       "text": [
        "FILE: res500_CHECKED\n",
        "BIAS: 0.008\n",
        "RMSE: 0.154\n",
        "A-ratio: 1.39862764424\n",
        "M-ratio: 0.833354113928\n",
        "\n"
       ]
      },
      {
       "output_type": "stream",
       "stream": "stdout",
       "text": [
        "FILE: res1000_CHECKED\n",
        "BIAS: -0.003\n",
        "RMSE: 0.037\n",
        "A-ratio: 1.01862149737\n",
        "M-ratio: 0.908802775334\n"
       ]
      }
     ],
     "prompt_number": 58
    },
    {
     "cell_type": "heading",
     "level": 2,
     "metadata": {},
     "source": [
      "Full overlap\n"
     ]
    },
    {
     "cell_type": "code",
     "collapsed": false,
     "input": [
      "path_no=u\"W:\\\\CNOP\\\\dumps\\\\MC 31.03-results\\\\3Full\\\\\"\n",
      "process_dump2(path_no + \"res100_CHECKED\", res_real_full)\n",
      "print\n",
      "process_dump2(path_no + \"res250_CHECKED\", res_real_full)\n",
      "print\n",
      "process_dump2(path_no + \"res500_CHECKED\", res_real_full)\n",
      "print\n",
      "process_dump2(path_no + \"res1000_CHECKED\", res_real_full)"
     ],
     "language": "python",
     "metadata": {},
     "outputs": [
      {
       "output_type": "stream",
       "stream": "stdout",
       "text": [
        "FILE: res100_CHECKED\n",
        "BIAS: -0.334\n",
        "RMSE: 29.428\n",
        "A-ratio: 4.06928585651e+52\n",
        "M-ratio: 0.18334951266\n",
        "\n",
        "FILE: res250_CHECKED"
       ]
      },
      {
       "output_type": "stream",
       "stream": "stdout",
       "text": [
        "\n",
        "BIAS: -0.105\n",
        "RMSE: 2.185\n",
        "A-ratio: 8.71899096624e+15\n",
        "M-ratio: 0.449445462746\n",
        "\n",
        "FILE: res500_CHECKED"
       ]
      },
      {
       "output_type": "stream",
       "stream": "stdout",
       "text": [
        "\n",
        "BIAS: -0.046\n",
        "RMSE: 0.934\n",
        "A-ratio: 6.4193297699\n",
        "M-ratio: 0.644375604958\n",
        "\n"
       ]
      },
      {
       "ename": "AttributeError",
       "evalue": "'tuple' object has no attribute 'x'",
       "output_type": "pyerr",
       "traceback": [
        "\u001b[1;31m---------------------------------------------------------------------------\u001b[0m\n\u001b[1;31mAttributeError\u001b[0m                            Traceback (most recent call last)",
        "\u001b[1;32m<ipython-input-156-c1b821479a28>\u001b[0m in \u001b[0;36m<module>\u001b[1;34m()\u001b[0m\n\u001b[0;32m      6\u001b[0m \u001b[0mprocess_dump2\u001b[0m\u001b[1;33m(\u001b[0m\u001b[0mpath_no\u001b[0m \u001b[1;33m+\u001b[0m \u001b[1;34m\"res500_CHECKED\"\u001b[0m\u001b[1;33m,\u001b[0m \u001b[0mres_real_full\u001b[0m\u001b[1;33m)\u001b[0m\u001b[1;33m\u001b[0m\u001b[0m\n\u001b[0;32m      7\u001b[0m \u001b[1;32mprint\u001b[0m\u001b[1;33m\u001b[0m\u001b[0m\n\u001b[1;32m----> 8\u001b[1;33m \u001b[0mprocess_dump2\u001b[0m\u001b[1;33m(\u001b[0m\u001b[0mpath_no\u001b[0m \u001b[1;33m+\u001b[0m \u001b[1;34m\"res1000_CHECKED\"\u001b[0m\u001b[1;33m,\u001b[0m \u001b[0mres_real_full\u001b[0m\u001b[1;33m)\u001b[0m\u001b[1;33m\u001b[0m\u001b[0m\n\u001b[0m",
        "\u001b[1;32m<ipython-input-153-f0fe0cec8e53>\u001b[0m in \u001b[0;36mprocess_dump2\u001b[1;34m(path, res_real)\u001b[0m\n\u001b[0;32m      1\u001b[0m \u001b[1;32mdef\u001b[0m \u001b[0mprocess_dump2\u001b[0m\u001b[1;33m(\u001b[0m\u001b[0mpath\u001b[0m\u001b[1;33m,\u001b[0m \u001b[0mres_real\u001b[0m\u001b[1;33m)\u001b[0m\u001b[1;33m:\u001b[0m\u001b[1;33m\u001b[0m\u001b[0m\n\u001b[0;32m      2\u001b[0m     \u001b[0mmc_res\u001b[0m \u001b[1;33m=\u001b[0m \u001b[0mpickle\u001b[0m\u001b[1;33m.\u001b[0m\u001b[0mload\u001b[0m\u001b[1;33m(\u001b[0m\u001b[0mfile\u001b[0m\u001b[1;33m(\u001b[0m\u001b[0mpath\u001b[0m\u001b[1;33m)\u001b[0m\u001b[1;33m)\u001b[0m\u001b[1;33m\u001b[0m\u001b[0m\n\u001b[1;32m----> 3\u001b[1;33m     \u001b[0mxs\u001b[0m \u001b[1;33m=\u001b[0m \u001b[0mnp\u001b[0m\u001b[1;33m.\u001b[0m\u001b[0marray\u001b[0m\u001b[1;33m(\u001b[0m\u001b[1;33m[\u001b[0m\u001b[0mitem\u001b[0m\u001b[1;33m[\u001b[0m\u001b[1;36m0\u001b[0m\u001b[1;33m]\u001b[0m\u001b[1;33m.\u001b[0m\u001b[0mx\u001b[0m \u001b[1;32mfor\u001b[0m \u001b[0mitem\u001b[0m \u001b[1;32min\u001b[0m \u001b[0mmc_res\u001b[0m \u001b[1;32mif\u001b[0m \u001b[0mtype\u001b[0m\u001b[1;33m(\u001b[0m\u001b[0mitem\u001b[0m\u001b[1;33m)\u001b[0m \u001b[1;33m!=\u001b[0m \u001b[0mIndexError\u001b[0m \u001b[1;32mand\u001b[0m \u001b[0mlinalg\u001b[0m\u001b[1;33m.\u001b[0m\u001b[0mnorm\u001b[0m\u001b[1;33m(\u001b[0m\u001b[0mitem\u001b[0m\u001b[1;33m[\u001b[0m\u001b[1;36m0\u001b[0m\u001b[1;33m]\u001b[0m\u001b[1;33m.\u001b[0m\u001b[0mx\u001b[0m\u001b[1;33m,\u001b[0m \u001b[0mord\u001b[0m\u001b[1;33m=\u001b[0m\u001b[0mnp\u001b[0m\u001b[1;33m.\u001b[0m\u001b[0minf\u001b[0m\u001b[1;33m)\u001b[0m \u001b[1;33m<\u001b[0m \u001b[1;36m100\u001b[0m                                                    \u001b[1;32mand\u001b[0m \u001b[0mlen\u001b[0m\u001b[1;33m(\u001b[0m\u001b[0mitem\u001b[0m\u001b[1;33m[\u001b[0m\u001b[1;36m0\u001b[0m\u001b[1;33m]\u001b[0m\u001b[1;33m.\u001b[0m\u001b[0mx\u001b[0m\u001b[1;33m)\u001b[0m \u001b[1;33m==\u001b[0m \u001b[0mlen\u001b[0m\u001b[1;33m(\u001b[0m\u001b[0mres_real\u001b[0m\u001b[1;33m)\u001b[0m\u001b[1;33m]\u001b[0m\u001b[1;33m)\u001b[0m\u001b[1;33m\u001b[0m\u001b[0m\n\u001b[0m\u001b[0;32m      4\u001b[0m     ses = np.array([item[0].se for item in mc_res \n\u001b[0;32m      5\u001b[0m                     \u001b[1;32mif\u001b[0m \u001b[0mtype\u001b[0m\u001b[1;33m(\u001b[0m\u001b[0mitem\u001b[0m\u001b[1;33m)\u001b[0m \u001b[1;33m!=\u001b[0m \u001b[0mIndexError\u001b[0m \u001b[1;32mand\u001b[0m \u001b[0mlinalg\u001b[0m\u001b[1;33m.\u001b[0m\u001b[0mnorm\u001b[0m\u001b[1;33m(\u001b[0m\u001b[0mitem\u001b[0m\u001b[1;33m[\u001b[0m\u001b[1;36m0\u001b[0m\u001b[1;33m]\u001b[0m\u001b[1;33m.\u001b[0m\u001b[0mx\u001b[0m\u001b[1;33m,\u001b[0m \u001b[0mord\u001b[0m\u001b[1;33m=\u001b[0m\u001b[0mnp\u001b[0m\u001b[1;33m.\u001b[0m\u001b[0minf\u001b[0m\u001b[1;33m)\u001b[0m \u001b[1;33m<\u001b[0m \u001b[1;36m100\u001b[0m\u001b[0;31m \u001b[0m\u001b[0;31m\\\u001b[0m\u001b[1;33m\u001b[0m\u001b[0m\n",
        "\u001b[1;31mAttributeError\u001b[0m: 'tuple' object has no attribute 'x'"
       ]
      }
     ],
     "prompt_number": 156
    },
    {
     "cell_type": "code",
     "collapsed": false,
     "input": [
      "path_no=u\"W:\\\\CNOP\\\\dumps\\\\MC 31.03-results\\\\3Full\\\\\"\n",
      "\n",
      "process_dump2(path_no + \"res1000_CHECKED\", res_real_full)\n"
     ],
     "language": "python",
     "metadata": {},
     "outputs": [
      {
       "output_type": "stream",
       "stream": "stdout",
       "text": [
        "FILE: res1000_CHECKED\n",
        "BIAS: -0.026\n",
        "RMSE: 0.676\n",
        "A-ratio: 1.92570525581\n",
        "M-ratio: 0.677401473318\n"
       ]
      }
     ],
     "prompt_number": 184
    },
    {
     "cell_type": "code",
     "collapsed": false,
     "input": [
      "xs = np.array([item[0].x for item in mc_res if type(item) != IndexError and type(item[0])!=int \n",
      "               and type(item[0])!=tuple\n",
      "               and linalg.norm(item[0].x, ord=np.inf) < 100 \\\n",
      "               and len(item[0].x) == len(res_real)])\n",
      "ses = np.array([item[0].se for item in mc_res \n",
      "                if type(item) != IndexError and type(item[0])!=int \\\n",
      "                and type(item[0])!=tuple\n",
      "                and linalg.norm(item[0].x, ord=np.inf) < 100 \\\n",
      "                and \"se\" in item[0].keys() and not np.isnan(item[0].se).any()\\\n",
      "                and len(item[0].x) == len(res_real)])    \n",
      "\n",
      "rmse =  ((res_real - xs) ** 2).mean()\n",
      "bias = (res_real - xs).mean()\n",
      "a_ratio = (ses.mean(axis=0)/xs.std(axis=0)).mean()\n",
      "m_ratio = (np.median(ses, axis=0)/xs.std(axis=0)).mean()\n",
      "\n",
      "print \"FILE: %s\"%(path.split(\"\\\\\")[-1])\n",
      "print \"BIAS: %2.3f\"%(bias)\n",
      "print \"RMSE: %2.3f\"%(rmse)\n",
      "print \"A-ratio: %s\"%(a_ratio)\n",
      "print \"M-ratio: %s\"%(m_ratio)\n",
      "  "
     ],
     "language": "python",
     "metadata": {},
     "outputs": [
      {
       "ename": "NameError",
       "evalue": "name 'path' is not defined",
       "output_type": "pyerr",
       "traceback": [
        "\u001b[1;31m---------------------------------------------------------------------------\u001b[0m\n\u001b[1;31mNameError\u001b[0m                                 Traceback (most recent call last)",
        "\u001b[1;32m<ipython-input-179-c0972ff224c4>\u001b[0m in \u001b[0;36m<module>\u001b[1;34m()\u001b[0m\n\u001b[0;32m     15\u001b[0m \u001b[0mm_ratio\u001b[0m \u001b[1;33m=\u001b[0m \u001b[1;33m(\u001b[0m\u001b[0mnp\u001b[0m\u001b[1;33m.\u001b[0m\u001b[0mmedian\u001b[0m\u001b[1;33m(\u001b[0m\u001b[0mses\u001b[0m\u001b[1;33m,\u001b[0m \u001b[0maxis\u001b[0m\u001b[1;33m=\u001b[0m\u001b[1;36m0\u001b[0m\u001b[1;33m)\u001b[0m\u001b[1;33m/\u001b[0m\u001b[0mxs\u001b[0m\u001b[1;33m.\u001b[0m\u001b[0mstd\u001b[0m\u001b[1;33m(\u001b[0m\u001b[0maxis\u001b[0m\u001b[1;33m=\u001b[0m\u001b[1;36m0\u001b[0m\u001b[1;33m)\u001b[0m\u001b[1;33m)\u001b[0m\u001b[1;33m.\u001b[0m\u001b[0mmean\u001b[0m\u001b[1;33m(\u001b[0m\u001b[1;33m)\u001b[0m\u001b[1;33m\u001b[0m\u001b[0m\n\u001b[0;32m     16\u001b[0m \u001b[1;33m\u001b[0m\u001b[0m\n\u001b[1;32m---> 17\u001b[1;33m \u001b[1;32mprint\u001b[0m \u001b[1;34m\"FILE: %s\"\u001b[0m\u001b[1;33m%\u001b[0m\u001b[1;33m(\u001b[0m\u001b[0mpath\u001b[0m\u001b[1;33m.\u001b[0m\u001b[0msplit\u001b[0m\u001b[1;33m(\u001b[0m\u001b[1;34m\"\\\\\"\u001b[0m\u001b[1;33m)\u001b[0m\u001b[1;33m[\u001b[0m\u001b[1;33m-\u001b[0m\u001b[1;36m1\u001b[0m\u001b[1;33m]\u001b[0m\u001b[1;33m)\u001b[0m\u001b[1;33m\u001b[0m\u001b[0m\n\u001b[0m\u001b[0;32m     18\u001b[0m \u001b[1;32mprint\u001b[0m \u001b[1;34m\"BIAS: %2.3f\"\u001b[0m\u001b[1;33m%\u001b[0m\u001b[1;33m(\u001b[0m\u001b[0mbias\u001b[0m\u001b[1;33m)\u001b[0m\u001b[1;33m\u001b[0m\u001b[0m\n\u001b[0;32m     19\u001b[0m \u001b[1;32mprint\u001b[0m \u001b[1;34m\"RMSE: %2.3f\"\u001b[0m\u001b[1;33m%\u001b[0m\u001b[1;33m(\u001b[0m\u001b[0mrmse\u001b[0m\u001b[1;33m)\u001b[0m\u001b[1;33m\u001b[0m\u001b[0m\n",
        "\u001b[1;31mNameError\u001b[0m: name 'path' is not defined"
       ]
      }
     ],
     "prompt_number": 179
    },
    {
     "cell_type": "code",
     "collapsed": false,
     "input": [
      "del mc_res"
     ],
     "language": "python",
     "metadata": {},
     "outputs": [],
     "prompt_number": 183
    },
    {
     "cell_type": "code",
     "collapsed": false,
     "input": [],
     "language": "python",
     "metadata": {},
     "outputs": []
    },
    {
     "cell_type": "code",
     "collapsed": false,
     "input": [],
     "language": "python",
     "metadata": {},
     "outputs": []
    },
    {
     "cell_type": "code",
     "collapsed": false,
     "input": [
      "def process_dump2(path, res_real):\n",
      "    mc_res = pickle.load(file(path))\n",
      "    xs = np.array([item[0].x for item in mc_res if type(item) != IndexError and type(item[0])!=int \n",
      "                   and type(item[0])!=tuple\n",
      "                   and linalg.norm(item[0].x, ord=np.inf) < 100 \\\n",
      "                   and len(item[0].x) == len(res_real)])\n",
      "    ses = np.array([item[0].se for item in mc_res \n",
      "                    if type(item) != IndexError and type(item[0])!=int \\\n",
      "                    and type(item[0])!=tuple\n",
      "                    and linalg.norm(item[0].x, ord=np.inf) < 100 \\\n",
      "                    and \"se\" in item[0].keys() and not np.isnan(item[0].se).any()\\\n",
      "                    and len(item[0].x) == len(res_real)])    \n",
      "    \n",
      "    rmse =  ((res_real - xs) ** 2).mean()\n",
      "    bias = (res_real - xs).mean()\n",
      "    a_ratio = (ses.mean(axis=0)/xs.std(axis=0)).mean()\n",
      "    m_ratio = (np.median(ses, axis=0)/xs.std(axis=0)).mean()\n",
      "        \n",
      "    print \"FILE: %s\"%(path.split(\"\\\\\")[-1])\n",
      "    print \"BIAS: %2.3f\"%(bias)\n",
      "    print \"RMSE: %2.3f\"%(rmse)\n",
      "    print \"A-ratio: %s\"%(a_ratio)\n",
      "    print \"M-ratio: %s\"%(m_ratio)\n",
      "  "
     ],
     "language": "python",
     "metadata": {},
     "outputs": [],
     "prompt_number": 8
    },
    {
     "cell_type": "code",
     "collapsed": false,
     "input": [
      "mc_res = pickle.load(file(path_no + \"res100_CHECKED\"))\n",
      "xs = np.array([item[0].x for item in mc_res if type(item) != IndexError and linalg.norm(item[0].x, ord=np.inf) < 100 ])\n",
      "ses = np.array([item[0].se for item in mc_res \n",
      "                if type(item) != IndexError and linalg.norm(item[0].x, ord=np.inf) < 100 \\\n",
      "                and \"se\" in item[0].keys() and not np.isnan(item[0].se).any()])    \n"
     ],
     "language": "python",
     "metadata": {},
     "outputs": [],
     "prompt_number": 98
    },
    {
     "cell_type": "code",
     "collapsed": false,
     "input": [
      "xs=[]\n",
      "for i, item in enumerate(mc_res):\n",
      "    print i\n",
      "    if type(item) != IndexError and linalg.norm(item[0].x, ord=np.inf) < 100:\n",
      "        xs.append(item[0].x)"
     ],
     "language": "python",
     "metadata": {},
     "outputs": []
    },
    {
     "cell_type": "code",
     "collapsed": false,
     "input": [
      "xs = [item[0].x for item in mc_res if type(item) != IndexError and linalg.norm(item[0].x, ord=np.inf) < 100 and len(item[0].x) = len(res_resl)]\n"
     ],
     "language": "python",
     "metadata": {},
     "outputs": [],
     "prompt_number": 128
    },
    {
     "cell_type": "code",
     "collapsed": false,
     "input": [
      "np.asarray(xs[0:131])"
     ],
     "language": "python",
     "metadata": {},
     "outputs": []
    },
    {
     "cell_type": "code",
     "collapsed": false,
     "input": [
      "len(xs[130])"
     ],
     "language": "python",
     "metadata": {},
     "outputs": [
      {
       "metadata": {},
       "output_type": "pyout",
       "prompt_number": 147,
       "text": [
        "13"
       ]
      }
     ],
     "prompt_number": 147
    },
    {
     "cell_type": "code",
     "collapsed": false,
     "input": [
      "arrs = [np.array([1,2,3]), np.array([4,5,6]), np.array([7,8,9])]\n"
     ],
     "language": "python",
     "metadata": {},
     "outputs": [],
     "prompt_number": 126
    },
    {
     "cell_type": "code",
     "collapsed": false,
     "input": [
      "arrs"
     ],
     "language": "python",
     "metadata": {},
     "outputs": [
      {
       "metadata": {},
       "output_type": "pyout",
       "prompt_number": 127,
       "text": [
        "[array([1, 2, 3]), array([4, 5, 6]), array([7, 8, 9])]"
       ]
      }
     ],
     "prompt_number": 127
    },
    {
     "cell_type": "markdown",
     "metadata": {},
     "source": [
      "---"
     ]
    },
    {
     "cell_type": "heading",
     "level": 1,
     "metadata": {},
     "source": [
      "Autocorrelation"
     ]
    },
    {
     "cell_type": "code",
     "collapsed": false,
     "input": [
      "def process_dump(obj, res_real, cutpoints = (.2, .8)):\n",
      "    if type(obj) is str:\n",
      "        mc_res = pickle.load(file(obj))\n",
      "    else:\n",
      "        mc_res = obj\n",
      "    xs = np.array([item[0].x for item in mc_res if type(item)==tuple and item[0].success\n",
      "                   ])\n",
      "    ses = np.array([np.array(item[0].se)[0] for item in mc_res \n",
      "                    if type(item)==tuple and item[0].success\n",
      "                    #and linalg.norm(item[0][0].x, ord=np.inf) < 100 \n",
      "                    and \"se\" in item[0].keys() #and not np.isnan(item[0][0].se).any() \\\n",
      "                    #and linalg.norm(item[0][0].se, ord=np.inf) < 100\n",
      "                    ])\n",
      "    ses = np.nan_to_num(ses)\n",
      "    \n",
      "    \n",
      "    xs = pd.DataFrame(xs)\n",
      "    ses = pd.DataFrame(ses)\n",
      "\n",
      "    \n",
      "    rmse =  ((res_real - xs) ** 2).mean().mean()\n",
      "    bias = (res_real - xs).mean().mean()\n",
      "    #a_ratio = (ses.mean()/xs.std()).mean()\n",
      "    #m_ratio = (ses.median()/xs.std()).mean()\n",
      "    a_ratio = (ses[(ses<ses.quantile(cutpoints[1]))&(ses>ses.quantile(cutpoints[0]))].mean()  \\\n",
      "                  / xs[(xs<xs.quantile(cutpoints[1]))&(xs>xs.quantile(cutpoints[0]))].std()).mean()\n",
      "    m_ratio = (ses[(ses<ses.quantile(cutpoints[1]))&(ses>ses.quantile(cutpoints[0]))].median()  \\\n",
      "                  / xs[(xs<xs.quantile(cutpoints[1]))&(xs>xs.quantile(cutpoints[0]))].std()).mean()\n",
      "\n",
      "    if type(obj) is str:\n",
      "        print \"FILE: %s\"%(obj.split(\"\\\\\")[-1])\n",
      "    print \"BIAS: %2.3f\"%(bias)\n",
      "    print \"RMSE: %2.3f\"%(rmse)\n",
      "    print \"A-ratio: %2.3f\"%(a_ratio)\n",
      "    print \"M-ratio: %2.3f\"%(m_ratio)\n",
      "    print\n",
      "    print \"XS len: %s\" % len(xs)\n",
      "    print \"SE len: %s\" % len(ses)\n",
      "    #print \"SE mean: %s \"% ses.mean()\n",
      "    #print \"XS variance: %s \"% xs.std()\n",
      "    \n",
      "    return xs, ses\n"
     ],
     "language": "python",
     "metadata": {},
     "outputs": [],
     "prompt_number": 9
    },
    {
     "cell_type": "heading",
     "level": 2,
     "metadata": {},
     "source": [
      "Full"
     ]
    },
    {
     "cell_type": "code",
     "collapsed": false,
     "input": [
      "get_folder_info(\"\\\\\\\\DAP-NAS\\\\work\\\\CNOP\\\\dumps\\\\temp\\\\20150412_132614\\\\\")"
     ],
     "language": "python",
     "metadata": {},
     "outputs": [
      {
       "output_type": "stream",
       "stream": "stdout",
       "text": [
        "INFO FROM FILE: "
       ]
      },
      {
       "output_type": "stream",
       "stream": "stdout",
       "text": [
        "Doing MC on 17 cores, 10000 replications of \"autocorrelated_errors\" with rho = 0.30 observations\n",
        "With 744 files"
       ]
      },
      {
       "output_type": "stream",
       "stream": "stdout",
       "text": [
        "\n"
       ]
      }
     ],
     "prompt_number": 8
    },
    {
     "cell_type": "code",
     "collapsed": false,
     "input": [
      "get_folder_info(\"\\\\\\\\DAP-NAS\\\\work\\\\CNOP\\\\dumps\\\\temp\\\\20150412_141301\\\\\")"
     ],
     "language": "python",
     "metadata": {},
     "outputs": [
      {
       "output_type": "stream",
       "stream": "stdout",
       "text": [
        "INFO FROM FILE: "
       ]
      },
      {
       "output_type": "stream",
       "stream": "stdout",
       "text": [
        "Doing MC on 17 cores, 9300 replications of \"autocorrelated_errors\" with rho = 0.30 observations\n",
        "With 307 files"
       ]
      },
      {
       "output_type": "stream",
       "stream": "stdout",
       "text": [
        "\n"
       ]
      }
     ],
     "prompt_number": 9
    },
    {
     "cell_type": "code",
     "collapsed": false,
     "input": [
      "get_folder_info(\"\\\\\\\\DAP-NAS\\\\work\\\\CNOP\\\\dumps\\\\temp\\\\20150412_143656\\\\\")"
     ],
     "language": "python",
     "metadata": {},
     "outputs": [
      {
       "output_type": "stream",
       "stream": "stdout",
       "text": [
        "INFO FROM FILE: "
       ]
      },
      {
       "output_type": "stream",
       "stream": "stdout",
       "text": [
        "Doing MC on 17 cores, 9000 replications of \"autocorrelated_errors\" with rho = 0.30 observations\n",
        "With 10046 files"
       ]
      },
      {
       "output_type": "stream",
       "stream": "stdout",
       "text": [
        "\n"
       ]
      }
     ],
     "prompt_number": 12
    },
    {
     "cell_type": "code",
     "collapsed": false,
     "input": [
      "res03full = pickle_folder(\"\\\\\\\\DAP-NAS\\\\work\\\\CNOP\\\\dumps\\\\temp\\\\20150412_143656\\\\\")"
     ],
     "language": "python",
     "metadata": {},
     "outputs": [
      {
       "output_type": "stream",
       "stream": "stdout",
       "text": [
        "10045/10045 tasks finished after  332 s"
       ]
      },
      {
       "output_type": "stream",
       "stream": "stdout",
       "text": [
        "\n",
        "done\n"
       ]
      }
     ],
     "prompt_number": 13
    },
    {
     "cell_type": "code",
     "collapsed": false,
     "input": [
      "pickle.dump(res03full, file(\"\\\\\\\\DAP-NAS\\\\work\\\\CNOP\\\\dumps\\\\MC 16.04 -autocorrelation results\\\\resFull03\", \"w\"))"
     ],
     "language": "python",
     "metadata": {},
     "outputs": [],
     "prompt_number": 15
    },
    {
     "cell_type": "code",
     "collapsed": false,
     "input": [
      "xs, ses = process_dump(res03full, res_real_partial, cutpoints=(0.001,0.9))"
     ],
     "language": "python",
     "metadata": {},
     "outputs": [
      {
       "output_type": "stream",
       "stream": "stdout",
       "text": [
        "BIAS: 0.035\n",
        "RMSE: 0.177\n",
        "A-ratio: 1.004\n",
        "M-ratio: 1.001\n",
        "\n",
        "XS len: 10037\n",
        "SE len: 10037\n"
       ]
      }
     ],
     "prompt_number": 56
    },
    {
     "cell_type": "code",
     "collapsed": false,
     "input": [
      "del xs, ses, res03full"
     ],
     "language": "python",
     "metadata": {},
     "outputs": [],
     "prompt_number": 57
    },
    {
     "cell_type": "code",
     "collapsed": false,
     "input": [
      "get_folder_info(\"\\\\\\\\DAP-NAS\\\\work\\\\CNOP\\\\dumps\\\\temp\\\\20150413_005610\\\\\")"
     ],
     "language": "python",
     "metadata": {},
     "outputs": [
      {
       "output_type": "stream",
       "stream": "stdout",
       "text": [
        "INFO FROM FILE: "
       ]
      },
      {
       "output_type": "stream",
       "stream": "stdout",
       "text": [
        "Doing MC on 13 cores, 10000 replications of \"autocorrelated_errors\" with rho = 0.60 observations\n",
        "With 9999 files"
       ]
      },
      {
       "output_type": "stream",
       "stream": "stdout",
       "text": [
        "\n"
       ]
      }
     ],
     "prompt_number": 58
    },
    {
     "cell_type": "code",
     "collapsed": false,
     "input": [
      "res06full = pickle_folder(\"\\\\\\\\DAP-NAS\\\\work\\\\CNOP\\\\dumps\\\\temp\\\\20150413_005610\\\\\", chunksize=30)"
     ],
     "language": "python",
     "metadata": {},
     "outputs": [
      {
       "output_type": "stream",
       "stream": "stdout",
       "text": [
        " 334/334 tasks finished after  292 s"
       ]
      },
      {
       "output_type": "stream",
       "stream": "stdout",
       "text": [
        "\n",
        "done\n"
       ]
      }
     ],
     "prompt_number": 14
    },
    {
     "cell_type": "code",
     "collapsed": false,
     "input": [
      "pickle.dump(res06full, file(\"\\\\\\\\DAP-NAS\\\\work\\\\CNOP\\\\dumps\\\\MC 16.04 -autocorrelation results\\\\resFull06\", \"w\"))"
     ],
     "language": "python",
     "metadata": {},
     "outputs": [],
     "prompt_number": 15
    },
    {
     "cell_type": "code",
     "collapsed": false,
     "input": [
      "process_dump(res06full, res_real_partial, cutpoints=(0.001,0.9));"
     ],
     "language": "python",
     "metadata": {},
     "outputs": [
      {
       "output_type": "stream",
       "stream": "stdout",
       "text": [
        "BIAS: 0.140\n",
        "RMSE: 0.311\n",
        "A-ratio: 0.992\n",
        "M-ratio: 0.980\n",
        "\n",
        "XS len: 9989\n",
        "SE len: 9988\n"
       ]
      }
     ],
     "prompt_number": 12
    },
    {
     "cell_type": "code",
     "collapsed": false,
     "input": [
      "del res06full"
     ],
     "language": "python",
     "metadata": {},
     "outputs": [],
     "prompt_number": 16
    },
    {
     "cell_type": "code",
     "collapsed": false,
     "input": [
      "res09full = pickle_folder(\"\\\\\\\\DAP-NAS\\\\work\\\\CNOP\\\\dumps\\\\temp\\\\20150413_112135\\\\\", chunksize=30)"
     ],
     "language": "python",
     "metadata": {},
     "outputs": [
      {
       "output_type": "stream",
       "stream": "stdout",
       "text": [
        " 334/334 tasks finished after  329 s"
       ]
      },
      {
       "output_type": "stream",
       "stream": "stdout",
       "text": [
        "\n",
        "done\n"
       ]
      }
     ],
     "prompt_number": 17
    },
    {
     "cell_type": "code",
     "collapsed": false,
     "input": [
      "pickle.dump(res09full, file(\"\\\\\\\\DAP-NAS\\\\work\\\\CNOP\\\\dumps\\\\MC 16.04 -autocorrelation results\\\\resFull09\", \"w\"))"
     ],
     "language": "python",
     "metadata": {},
     "outputs": [],
     "prompt_number": 18
    },
    {
     "cell_type": "code",
     "collapsed": false,
     "input": [
      "process_dump(res09full, res_real_partial, cutpoints=(0.001,0.9));"
     ],
     "language": "python",
     "metadata": {},
     "outputs": [
      {
       "output_type": "stream",
       "stream": "stdout",
       "text": [
        "BIAS: 0.362\n",
        "RMSE: 1.118\n",
        "A-ratio: 1.006\n",
        "M-ratio: 0.899\n",
        "\n",
        "XS len: 10013\n",
        "SE len: 9988\n"
       ]
      }
     ],
     "prompt_number": 19
    },
    {
     "cell_type": "code",
     "collapsed": false,
     "input": [
      "del res09full"
     ],
     "language": "python",
     "metadata": {},
     "outputs": [],
     "prompt_number": 20
    },
    {
     "cell_type": "code",
     "collapsed": false,
     "input": [
      "res09xs = pickle_folder(\"\\\\\\\\DAP-NAS\\\\work\\\\CNOP\\\\dumps\\\\temp\\\\20150415_000032\\\\\", chunksize=30)"
     ],
     "language": "python",
     "metadata": {},
     "outputs": [
      {
       "output_type": "stream",
       "stream": "stdout",
       "text": [
        " 334/334 tasks finished after  307 s"
       ]
      },
      {
       "output_type": "stream",
       "stream": "stdout",
       "text": [
        "\n",
        "done\n"
       ]
      }
     ],
     "prompt_number": 10
    },
    {
     "cell_type": "code",
     "collapsed": false,
     "input": [
      "pickle.dump(res09xs, file(\"\\\\\\\\DAP-NAS\\\\work\\\\CNOP\\\\dumps\\\\MC 16.04 -autocorrelation results\\\\resXs09\", \"w\"))"
     ],
     "language": "python",
     "metadata": {},
     "outputs": [],
     "prompt_number": 11
    },
    {
     "cell_type": "code",
     "collapsed": false,
     "input": [
      "process_dump(res09xs, res_real_partial, cutpoints=(0.001,0.9));"
     ],
     "language": "python",
     "metadata": {},
     "outputs": [
      {
       "output_type": "stream",
       "stream": "stdout",
       "text": [
        "BIAS: 0.197\n",
        "RMSE: 0.352\n",
        "A-ratio: 1.069\n",
        "M-ratio: 1.015\n",
        "\n",
        "XS len: 9993\n",
        "SE len: 9993\n"
       ]
      }
     ],
     "prompt_number": 12
    },
    {
     "cell_type": "code",
     "collapsed": false,
     "input": [
      "del res09xs"
     ],
     "language": "python",
     "metadata": {},
     "outputs": [],
     "prompt_number": 13
    },
    {
     "cell_type": "code",
     "collapsed": false,
     "input": [
      "res06xs = pickle_folder(\"\\\\\\\\DAP-NAS\\\\work\\\\CNOP\\\\dumps\\\\temp\\\\20150414_085358\\\\\", chunksize=30)"
     ],
     "language": "python",
     "metadata": {},
     "outputs": [
      {
       "output_type": "stream",
       "stream": "stdout",
       "text": [
        " 334/334 tasks finished after  245 s"
       ]
      },
      {
       "output_type": "stream",
       "stream": "stdout",
       "text": [
        "\n",
        "done\n"
       ]
      }
     ],
     "prompt_number": 14
    },
    {
     "cell_type": "code",
     "collapsed": false,
     "input": [
      "pickle.dump(res06xs, file(\"\\\\\\\\DAP-NAS\\\\work\\\\CNOP\\\\dumps\\\\MC 16.04 -autocorrelation results\\\\resXs06\", \"w\"))"
     ],
     "language": "python",
     "metadata": {},
     "outputs": [],
     "prompt_number": 15
    },
    {
     "cell_type": "code",
     "collapsed": false,
     "input": [
      "process_dump(res06xs, res_real_partial, cutpoints=(0.001,0.9));"
     ],
     "language": "python",
     "metadata": {},
     "outputs": [
      {
       "output_type": "stream",
       "stream": "stdout",
       "text": [
        "BIAS: 0.078\n",
        "RMSE: 0.210\n",
        "A-ratio: 1.010\n",
        "M-ratio: 1.009\n",
        "\n",
        "XS len: 9990\n",
        "SE len: 9990\n"
       ]
      }
     ],
     "prompt_number": 16
    },
    {
     "cell_type": "code",
     "collapsed": false,
     "input": [
      "del res06xs"
     ],
     "language": "python",
     "metadata": {},
     "outputs": [],
     "prompt_number": 17
    },
    {
     "cell_type": "code",
     "collapsed": false,
     "input": [
      "res03xs = pickle_folder(\"\\\\\\\\DAP-NAS\\\\work\\\\CNOP\\\\dumps\\\\temp\\\\20150413_234307\\\\\", chunksize=30)"
     ],
     "language": "python",
     "metadata": {},
     "outputs": [
      {
       "output_type": "stream",
       "stream": "stdout",
       "text": [
        " 284/284 tasks finished after  275 s"
       ]
      },
      {
       "output_type": "stream",
       "stream": "stdout",
       "text": [
        "\n",
        "done\n"
       ]
      }
     ],
     "prompt_number": 18
    },
    {
     "cell_type": "code",
     "collapsed": false,
     "input": [
      "pickle.dump(res03xs, file(\"\\\\\\\\DAP-NAS\\\\work\\\\CNOP\\\\dumps\\\\MC 16.04 -autocorrelation results\\\\resXs03\", \"w\"))"
     ],
     "language": "python",
     "metadata": {},
     "outputs": [],
     "prompt_number": 19
    },
    {
     "cell_type": "code",
     "collapsed": false,
     "input": [
      "process_dump(res03xs, res_real_partial, cutpoints=(0.001,0.9));"
     ],
     "language": "python",
     "metadata": {},
     "outputs": [
      {
       "output_type": "stream",
       "stream": "stdout",
       "text": [
        "BIAS: 0.024\n",
        "RMSE: 0.168\n",
        "A-ratio: 1.007\n",
        "M-ratio: 1.016\n",
        "\n",
        "XS len: 8498\n",
        "SE len: 8498\n"
       ]
      }
     ],
     "prompt_number": 20
    },
    {
     "cell_type": "code",
     "collapsed": false,
     "input": [],
     "language": "python",
     "metadata": {},
     "outputs": []
    },
    {
     "cell_type": "code",
     "collapsed": false,
     "input": [],
     "language": "python",
     "metadata": {},
     "outputs": []
    },
    {
     "cell_type": "code",
     "collapsed": false,
     "input": [],
     "language": "python",
     "metadata": {},
     "outputs": []
    },
    {
     "cell_type": "code",
     "collapsed": false,
     "input": [],
     "language": "python",
     "metadata": {},
     "outputs": []
    },
    {
     "cell_type": "code",
     "collapsed": false,
     "input": [
      "type(res03full[45]) "
     ],
     "language": "python",
     "metadata": {},
     "outputs": [
      {
       "metadata": {},
       "output_type": "pyout",
       "prompt_number": 35,
       "text": [
        "tuple"
       ]
      }
     ],
     "prompt_number": 35
    }
   ],
   "metadata": {}
  }
 ]
}