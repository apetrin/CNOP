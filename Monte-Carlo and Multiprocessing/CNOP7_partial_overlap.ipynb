{
 "metadata": {
  "name": "",
  "signature": "sha256:c0f14af16e0c091e61d0ab3651e141c2fcd2b4092c0303da8b233237519a1b7f"
 },
 "nbformat": 3,
 "nbformat_minor": 0,
 "worksheets": [
  {
   "cells": [
    {
     "cell_type": "code",
     "collapsed": false,
     "input": [
      "from IPython import parallel\n",
      "clients = parallel.Client(profile='parallel')"
     ],
     "language": "python",
     "metadata": {},
     "outputs": [],
     "prompt_number": 1
    },
    {
     "cell_type": "code",
     "collapsed": false,
     "input": [
      "print clients.ids\n",
      "print \"Total %i cores\"%(len(clients.ids))"
     ],
     "language": "python",
     "metadata": {},
     "outputs": [
      {
       "output_type": "stream",
       "stream": "stdout",
       "text": [
        "[0, 1, 2, 3, 4, 5, 6, 7, 8, 9, 10, 11, 12, 13, 14, 15, 16]\n",
        "Total 17 cores\n"
       ]
      }
     ],
     "prompt_number": 2
    },
    {
     "cell_type": "code",
     "collapsed": false,
     "input": [
      "%%px --local\n",
      "\n",
      "import sys\n",
      "sys.path.append(\"\\\\\\\\DAP-NAS\\\\work\\\\CNOP\")\n",
      "import cPickle as pickle\n",
      "import numpy as np\n",
      "import pandas as pd\n",
      "from statsmodels.tsa.arima_process import arma_generate_sample\n",
      "import matplotlib.pyplot as plt\n",
      "import numpy as np\n",
      "from CNOP import CNOP\n",
      "import winsound\n",
      "def threshold(x,thresholds=[],values=[-1,0,1]):\n",
      "    for threshold,val in zip(thresholds,values):\n",
      "        if x < threshold: \n",
      "            return val\n",
      "    return values[-1]\n",
      "import time\n",
      "from itertools import repeat\n",
      "import os\n",
      "from datetime import datetime\n"
     ],
     "language": "python",
     "metadata": {},
     "outputs": [],
     "prompt_number": 3
    },
    {
     "cell_type": "code",
     "collapsed": false,
     "input": [
      "%%px --local\n",
      "x2000 = pd.read_csv(\"\\\\\\\\DAP-NAS\\\\work\\\\CNOP\\\\x2000.csv\", delimiter=\";\")"
     ],
     "language": "python",
     "metadata": {},
     "outputs": [],
     "prompt_number": 4
    },
    {
     "cell_type": "code",
     "collapsed": false,
     "input": [
      "%%px --local\n",
      "\n",
      "N=100\n",
      "\n",
      "def partial_overlap(N, df, give_distortion=True):\n",
      "    ###########################################################\n",
      "    ##### This code is for partial-overlap case of CNOP########\n",
      "    ###########################################################\n",
      "\n",
      "    #PreSampling:\n",
      "    df = df[:N]\n",
      "    #df = x2000[:N]\n",
      "    \n",
      "    ### DGP generation\n",
      "    regime = pd.DataFrame() \n",
      "    beta,   alpha   = [0.6, 0.4], [0.9, 1.5]\n",
      "    gammam, mum =     [0.3, 0.9], [-0.67, 0.36]\n",
      "    gammap, mup =     [0.2, 0.3], [0.02, 1.28]\n",
      "    distortion = np.random.randn(3,N)\n",
      "    regime[\"xbeta\"]    = df[[\"X1\", \"X2\"]].dot(beta)    + distortion[0]\n",
      "    regime['z-gammam'] = df[[\"X1\", \"X3\"]].dot(gammam)  + distortion[1]\n",
      "    regime['z+gammap'] = df[[\"X2\", \"X3\"]].dot(gammap)  + distortion[2]\n",
      "    regime['regime'] = regime['xbeta'].apply(lambda x: threshold(x,thresholds=alpha))\n",
      "    regime['Y-']=regime['z-gammam'].apply(lambda x: threshold(x, thresholds=mum,values=[-2,-1,0]))\n",
      "    regime['Y+']=regime['z+gammap'].apply(lambda x: threshold(x, thresholds=mup,values=[0,1,2]))\n",
      "    df['Y'] = 0\n",
      "    df['Y'] += np.where(regime['regime']==-1,regime['Y-'],0)\n",
      "    df['Y'] += np.where(regime['regime']==1,regime['Y+'],0)\n",
      "    ###df is full data matrix\n",
      "\n",
      "    #Model starts here:\n",
      "    exog = df[[\"X1\", \"X2\", \"X3\"]]\n",
      "    endog = df[[\"Y\"]]\n",
      "    l = {0:df}\n",
      "    pan = pd.Panel(l)\n",
      "    y      = pan.ix[:,:,['Y']]\n",
      "    x      = pan.ix[:,:,[\"X1\", \"X2\"]]\n",
      "    zminus = pan.ix[:,:,[\"X1\", \"X3\"]]\n",
      "    zplus  = pan.ix[:,:,[\"X2\", \"X3\"]]\n",
      "    exog = {'x':x,'zplus':zplus,'zminus':zminus}\n",
      "    CNOP4 = CNOP(y,exog, model='CNOP',interest_step=1)\n",
      "\n",
      "    #Counting execution time for fit ...\n",
      "    exec_time = {\"fit\":0,\"se\":0}\n",
      "    start_time = time.time()\n",
      "    res = CNOP4.fit( maxiter=250, disp=0)\n",
      "    exec_time[\"fit\"] = time.time() - start_time\n",
      "\n",
      "    # And for Standard Errors as well\n",
      "    try:\n",
      "        start_time = time.time()\n",
      "        res[\"se\"] = CNOP4.se(res.x)\n",
      "        exec_time[\"se\"] = time.time() - start_time\n",
      "        res['status'] = \"OK\"\n",
      "    except Exception, e:\n",
      "        print e\n",
      "        res['status'] = e\n",
      "\n",
      "    res[\"exec_time\"]=exec_time\n",
      "\n",
      "    if give_distortion:\n",
      "        return res, distortion\n",
      "    else:\n",
      "        return res    "
     ],
     "language": "python",
     "metadata": {},
     "outputs": [],
     "prompt_number": 5
    },
    {
     "cell_type": "code",
     "collapsed": false,
     "input": [
      "N=100\n",
      "res, distortion = partial_overlap(N, df=x2000)\n",
      "print \"Done for N=%i\" % (N)\n",
      "print \"Res.status:\", res.success\n",
      "\n",
      "beta,   alpha   = [0.6, 0.4], [0.9, 1.5]\n",
      "gammam, mum =     [0.3, 0.9], [-0.67, 0.36]\n",
      "gammap, mup =     [0.2, 0.3], [0.02, 1.28]\n",
      "res_real = beta+alpha+gammam+mum+gammap+mup\n",
      "%matplotlib inline\n",
      "_ = plt.bar(np.arange(len(res.x-res_real)),\n",
      "                  list(res.x-res_real))\n",
      "\n",
      "winsound.PlaySound(u'C:\\Windows\\Media\\Windows Print complete.wav', winsound.SND_FILENAME)\n",
      "print \"X & SE:\", np.dstack((res[\"x\"],res[\"se\"]))"
     ],
     "language": "python",
     "metadata": {},
     "outputs": [
      {
       "ename": "NameError",
       "evalue": "name 'partial_overlap' is not defined",
       "output_type": "pyerr",
       "traceback": [
        "\u001b[1;31m---------------------------------------------------------------------------\u001b[0m\n\u001b[1;31mNameError\u001b[0m                                 Traceback (most recent call last)",
        "\u001b[1;32m<ipython-input-1-3e155f24f1ef>\u001b[0m in \u001b[0;36m<module>\u001b[1;34m()\u001b[0m\n\u001b[0;32m      1\u001b[0m \u001b[0mN\u001b[0m\u001b[1;33m=\u001b[0m\u001b[1;36m100\u001b[0m\u001b[1;33m\u001b[0m\u001b[0m\n\u001b[1;32m----> 2\u001b[1;33m \u001b[0mres\u001b[0m\u001b[1;33m,\u001b[0m \u001b[0mdistortion\u001b[0m \u001b[1;33m=\u001b[0m \u001b[0mpartial_overlap\u001b[0m\u001b[1;33m(\u001b[0m\u001b[0mN\u001b[0m\u001b[1;33m,\u001b[0m \u001b[0mdf\u001b[0m\u001b[1;33m=\u001b[0m\u001b[0mx2000\u001b[0m\u001b[1;33m)\u001b[0m\u001b[1;33m\u001b[0m\u001b[0m\n\u001b[0m\u001b[0;32m      3\u001b[0m \u001b[1;32mprint\u001b[0m \u001b[1;34m\"Done for N=%i\"\u001b[0m \u001b[1;33m%\u001b[0m \u001b[1;33m(\u001b[0m\u001b[0mN\u001b[0m\u001b[1;33m)\u001b[0m\u001b[1;33m\u001b[0m\u001b[0m\n\u001b[0;32m      4\u001b[0m \u001b[1;32mprint\u001b[0m \u001b[1;34m\"Res.status:\"\u001b[0m\u001b[1;33m,\u001b[0m \u001b[0mres\u001b[0m\u001b[1;33m.\u001b[0m\u001b[0msuccess\u001b[0m\u001b[1;33m\u001b[0m\u001b[0m\n\u001b[0;32m      5\u001b[0m \u001b[1;33m\u001b[0m\u001b[0m\n",
        "\u001b[1;31mNameError\u001b[0m: name 'partial_overlap' is not defined"
       ]
      }
     ],
     "prompt_number": 1
    },
    {
     "cell_type": "code",
     "collapsed": false,
     "input": [
      "%%px --local\n",
      "\n",
      "def runMC(n_obs, n_repl, fun, path=\"\\\\\\\\DAP-NAS\\\\work\\\\CNOP\\\\dumps\\\\\", prefix = \"CNOPres\", ext = \".p\", **kwargs):\n",
      "    print \"Starting MC on %i cores, %i replications of \\\"%s\\\" with %i observations\"\\\n",
      "               %(len(clients.ids), n_repl, fun.__name__, n_obs)\n",
      "    print \"If you again run next(), you will get wait_interactive() form and results would be backed up\"\n",
      "    print \"Untill then you are free to use AsyncResult object that was apready yielded, but data will not be backed up!\"\n",
      "    view = clients.load_balanced_view()\n",
      "\n",
      "    def doJob(i):\n",
      "        n_obs,path,fun, kwargs=i\n",
      "        dumb_str=time.strftime(\"%Y%m%d%H%M%S\")+str(np.random.rand())\n",
      "\n",
      "        filename = path + dumb_str\n",
      "\n",
      "        try:\n",
      "            local_res = fun(n_obs, **kwargs)\n",
      "            pickle.dump(local_res, open( filename, \"wb\" ) )\n",
      "            return local_res, filename\n",
      "        except Exception, e:\n",
      "            pickle.dump(e, open( filename, \"wb\" ) )\n",
      "            return Exception, e, filename\n",
      "    \n",
      "    cur_time_str=time.strftime('%Y%m%d_%H%M%S')\n",
      "    temp_folder_str = path+'temp/'+cur_time_str+\"/\"\n",
      "    if not os.path.exists(temp_folder_str):\n",
      "        os.makedirs(temp_folder_str)\n",
      "\n",
      "    print temp_folder_str\n",
      "    readme_f = file(temp_folder_str+\"!README.txt\", \"w\")\n",
      "    readme_f.write(\"Doing MC on %i cores, %i replications of \\\"%s\\\" with %i observations\"\\\n",
      "                   %(len(clients.ids), n_repl, fun.__name__, n_obs))\n",
      "    readme_f.close()\n",
      "\n",
      "    ar = view.map_async(doJob, [[n_obs, temp_folder_str, fun, kwargs]]*n_repl)\n",
      "    yield ar\n",
      "\n",
      "    ar.wait_interactive()\n",
      "    results = ar.get()\n",
      "    cur_time_str=time.strftime('%Y%m%d_%H%M%S')\n",
      "    filename = path + prefix + cur_time_str + ext\n",
      "    print \"DONE! DB in %s\"%(temp_folder_str)\n",
      "    yield results\n",
      "\n",
      "        "
     ],
     "language": "python",
     "metadata": {},
     "outputs": [],
     "prompt_number": 6
    },
    {
     "cell_type": "code",
     "collapsed": false,
     "input": [
      "MCgenr100 = runMC(500, 20, partial_overlap, df=x2000, path=\"\\\\\\\\DAP-NAS\\\\work\\\\CNOP\\\\dumps\\\\\")\n",
      "MCAsyncMapResult100 = next(MCgenr100)"
     ],
     "language": "python",
     "metadata": {},
     "outputs": [
      {
       "output_type": "stream",
       "stream": "stdout",
       "text": [
        "Starting MC on 8 cores, 20 replications of \"partial_overlap\" with 500 observations\n",
        "If you again run next(), you will get wait_interactive() form and results would be backed up\n",
        "Untill then you are free to use AsyncResult object that was apready yielded, but data will not be backed up!\n",
        "\\\\DAP-NAS\\work\\CNOP\\dumps\\temp/20150329_163212/"
       ]
      },
      {
       "output_type": "stream",
       "stream": "stdout",
       "text": [
        "\n"
       ]
      }
     ],
     "prompt_number": 13
    },
    {
     "cell_type": "code",
     "collapsed": false,
     "input": [
      "results100=next(MCgenr100)\n"
     ],
     "language": "python",
     "metadata": {},
     "outputs": [
      {
       "output_type": "stream",
       "stream": "stdout",
       "text": [
        "  20/20 tasks finished after  138 s"
       ]
      },
      {
       "output_type": "stream",
       "stream": "stdout",
       "text": [
        "\n",
        "done\n",
        "DONE! DB in \\\\DAP-NAS\\work\\CNOP\\dumps\\temp/20150329_163212/\n"
       ]
      }
     ],
     "prompt_number": 14
    },
    {
     "cell_type": "code",
     "collapsed": false,
     "input": [
      "res_100obs = [x[0][0] for x in results100 if len(x[0])>0 and x[0][0].success]"
     ],
     "language": "python",
     "metadata": {},
     "outputs": [],
     "prompt_number": 15
    },
    {
     "cell_type": "code",
     "collapsed": false,
     "input": [
      "xs100 =np.mean([i.x for i in res_100obs], axis = 0)\n",
      "se100_true = np.std([i.x for i in res_100obs], axis=0)\n",
      "ses100 =np.nanmean([i.se for i in res_100obs if \"se\" in i], axis = 0)"
     ],
     "language": "python",
     "metadata": {},
     "outputs": [],
     "prompt_number": 16
    },
    {
     "cell_type": "code",
     "collapsed": false,
     "input": [
      "_ = plt.bar(np.arange(len(xs100-res_real)),\n",
      "                  list(xs100-res_real), label=\"params\")\n",
      "print \"SE (true):\", se100_true\n",
      "print \"Bias:\", np.mean(xs100-res_real)\n",
      "print \"RMSE:\", np.sqrt(np.mean((xs100-res_real)**2))"
     ],
     "language": "python",
     "metadata": {},
     "outputs": [
      {
       "output_type": "stream",
       "stream": "stdout",
       "text": [
        "SE (true): [ 0.09546612  0.12776311  0.36486905  0.23048422  0.13358977  0.15915175\n",
        "  0.16057161  0.2271023   0.15993511  0.18941529  1.15444552  0.24456778]\n",
        "Bias: -0.0447156672673\n",
        "RMSE: 0.16225886409\n"
       ]
      },
      {
       "metadata": {},
       "output_type": "display_data",
       "png": "[encoded data removed]",
       "text": [
        "<matplotlib.figure.Figure at 0x1a2c8ac8>"
       ]
      }
     ],
     "prompt_number": 17
    },
    {
     "cell_type": "code",
     "collapsed": false,
     "input": [
      "MCgenr500 = runMC(500, 10000, partial_overlap, df=x2000, path=\"\\\\\\\\DAP-NAS\\\\work\\\\CNOP\\\\dumps\\\\\")\n",
      "MCAsyncMapResult500 = next(MCgenr500)"
     ],
     "language": "python",
     "metadata": {},
     "outputs": [
      {
       "output_type": "stream",
       "stream": "stdout",
       "text": [
        "Starting MC on 17 cores, 10000 replications of \"partial_overlap\" with 500 observations\n",
        "If you again run next(), you will get wait_interactive() form and results would be backed up\n",
        "Untill then you are free to use AsyncResult object that was apready yielded, but data will not be backed up!\n",
        "\\\\DAP-NAS\\work\\CNOP\\dumps\\temp/20150329_164457/\n"
       ]
      }
     ],
     "prompt_number": 7
    },
    {
     "cell_type": "code",
     "collapsed": false,
     "input": [
      "results500=next(MCgenr500)\n",
      "pickle.dump(results500, file(\"\\\\\\\\DAP-NAS\\\\work\\\\CNOP\\\\dumps\\\\res500PartialOverlap\", \"w\"))"
     ],
     "language": "python",
     "metadata": {},
     "outputs": [
      {
       "output_type": "stream",
       "stream": "stdout",
       "text": [
        "10000/10000 tasks finished after 34787 s"
       ]
      },
      {
       "output_type": "stream",
       "stream": "stdout",
       "text": [
        "\n",
        "done\n",
        "DONE! DB in \\\\DAP-NAS\\work\\CNOP\\dumps\\temp/20150329_164457/\n"
       ]
      }
     ],
     "prompt_number": 8
    },
    {
     "cell_type": "code",
     "collapsed": false,
     "input": [
      "del results500"
     ],
     "language": "python",
     "metadata": {},
     "outputs": [],
     "prompt_number": 9
    },
    {
     "cell_type": "code",
     "collapsed": false,
     "input": [
      "MCgenr1000 = runMC(1000, 10000, partial_overlap, df=x2000, path=\"\\\\\\\\DAP-NAS\\\\work\\\\CNOP\\\\dumps\\\\\")\n",
      "MCAsyncMapResult1000 = next(MCgenr1000)"
     ],
     "language": "python",
     "metadata": {},
     "outputs": [
      {
       "output_type": "stream",
       "stream": "stdout",
       "text": [
        "Starting MC on 17 cores, 10000 replications of \"partial_overlap\" with 1000 observations\n",
        "If you again run next(), you will get wait_interactive() form and results would be backed up\n",
        "Untill then you are free to use AsyncResult object that was apready yielded, but data will not be backed up!\n",
        "\\\\DAP-NAS\\work\\CNOP\\dumps\\temp/20150330_022738/"
       ]
      },
      {
       "output_type": "stream",
       "stream": "stdout",
       "text": [
        "\n"
       ]
      }
     ],
     "prompt_number": 10
    },
    {
     "cell_type": "code",
     "collapsed": false,
     "input": [
      "results1000=next(MCgenr1000)\n",
      "pickle.dump(results1000, file(\"\\\\\\\\DAP-NAS\\\\work\\\\CNOP\\\\dumps\\\\res1000PartialOverlap\", \"w\"))"
     ],
     "language": "python",
     "metadata": {},
     "outputs": [
      {
       "output_type": "stream",
       "stream": "stdout",
       "text": [
        "10000/10000 tasks finished after 68485 s"
       ]
      },
      {
       "output_type": "stream",
       "stream": "stdout",
       "text": [
        "\n",
        "done\n",
        "DONE! DB in \\\\DAP-NAS\\work\\CNOP\\dumps\\temp/20150330_022738/\n"
       ]
      }
     ],
     "prompt_number": 11
    },
    {
     "cell_type": "heading",
     "level": 2,
     "metadata": {},
     "source": [
      "150 obs"
     ]
    },
    {
     "cell_type": "code",
     "collapsed": false,
     "input": [
      "MCgenr150 = runMC(150, 10000, partial_overlap, df=x2000, path=\"\\\\\\\\DAP-NAS\\\\work\\\\CNOP\\\\dumps\\\\\")\n",
      "MCAsyncMapResult150 = next(MCgenr150)"
     ],
     "language": "python",
     "metadata": {},
     "outputs": [
      {
       "output_type": "stream",
       "stream": "stdout",
       "text": [
        "Starting MC on 17 cores, 10000 replications of \"partial_overlap\" with 150 observations\n",
        "If you again run next(), you will get wait_interactive() form and results would be backed up\n",
        "Untill then you are free to use AsyncResult object that was apready yielded, but data will not be backed up!\n",
        "\\\\DAP-NAS\\work\\CNOP\\dumps\\temp/20150405_205301/"
       ]
      },
      {
       "output_type": "stream",
       "stream": "stdout",
       "text": [
        "\n"
       ]
      }
     ],
     "prompt_number": 7
    },
    {
     "cell_type": "code",
     "collapsed": false,
     "input": [
      "results150=next(MCgenr150)"
     ],
     "language": "python",
     "metadata": {},
     "outputs": [
      {
       "output_type": "stream",
       "stream": "stdout",
       "text": [
        "10000/10000 tasks finished after 8543 s"
       ]
      },
      {
       "output_type": "stream",
       "stream": "stdout",
       "text": [
        "\n",
        "done\n",
        "DONE! DB in \\\\DAP-NAS\\work\\CNOP\\dumps\\temp/20150405_205301/\n"
       ]
      }
     ],
     "prompt_number": 8
    },
    {
     "cell_type": "code",
     "collapsed": false,
     "input": [
      "pickle.dump(results150, file(\"W:\\\\CNOP\\\\dumps\\\\MC 31.03-results\\\\2Partial\\\\res150_CHECKED\", \"w\"))"
     ],
     "language": "python",
     "metadata": {},
     "outputs": [],
     "prompt_number": 10
    }
   ],
   "metadata": {}
  }
 ]
}