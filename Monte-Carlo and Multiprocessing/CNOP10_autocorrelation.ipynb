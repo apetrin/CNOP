{
 "metadata": {
  "name": "",
  "signature": "sha256:06f81e95774ec06714f53dceb5052fd81a4b9e19b3623c04b44764e52d930741"
 },
 "nbformat": 3,
 "nbformat_minor": 0,
 "worksheets": [
  {
   "cells": [
    {
     "cell_type": "code",
     "collapsed": false,
     "input": [
      "from IPython import parallel\n",
      "clients = parallel.Client(profile='parallel')"
     ],
     "language": "python",
     "metadata": {},
     "outputs": [],
     "prompt_number": 216
    },
    {
     "cell_type": "code",
     "collapsed": false,
     "input": [
      "print clients.ids\n",
      "print \"Total %i cores\"%(len(clients.ids))"
     ],
     "language": "python",
     "metadata": {},
     "outputs": [
      {
       "output_type": "stream",
       "stream": "stdout",
       "text": [
        "[0, 1, 2, 3, 4, 5, 6, 15, 16, 17, 18, 19, 20]\n",
        "Total 13 cores\n"
       ]
      }
     ],
     "prompt_number": 222
    },
    {
     "cell_type": "code",
     "collapsed": false,
     "input": [
      "%%px --local\n",
      "\n",
      "import sys\n",
      "sys.path.append(\"\\\\\\\\DAP-NAS\\\\work\\\\CNOP\")\n",
      "import cPickle as pickle\n",
      "import numpy as np\n",
      "import pandas as pd\n",
      "from statsmodels.tsa.arima_process import arma_generate_sample\n",
      "import matplotlib.pyplot as plt\n",
      "import numpy as np\n",
      "import CNOP\n",
      "CNOP = reload(CNOP)\n",
      "CNOP = CNOP.CNOP\n",
      "import winsound\n",
      "def threshold(x,thresholds=[],values=[-1,0,1]):\n",
      "    for threshold,val in zip(thresholds,values):\n",
      "        if x < threshold: \n",
      "            return val\n",
      "    return values[-1]\n",
      "import time\n",
      "from itertools import repeat\n",
      "import os\n",
      "from datetime import datetime\n",
      "import numpy as np\n",
      "import numpy.linalg as linalg\n",
      "from statsmodels.tsa.arima_process import arma_generate_sample\n",
      "import warnings"
     ],
     "language": "python",
     "metadata": {},
     "outputs": [],
     "prompt_number": 223
    },
    {
     "cell_type": "code",
     "collapsed": false,
     "input": [
      "%%px --local\n",
      "x2000 = pd.read_csv(\"\\\\\\\\DAP-NAS\\\\work\\\\CNOP\\\\x2000.csv\", delimiter=\";\")"
     ],
     "language": "python",
     "metadata": {},
     "outputs": [],
     "prompt_number": 224
    },
    {
     "cell_type": "code",
     "collapsed": false,
     "input": [
      "%%px --local\n",
      "\n",
      "N=100\n",
      "\n",
      "def autocorrelated_errors(rho, df, give_distortion=True):\n",
      "    ###########################################################\n",
      "    ##### This code is for partial-overlap case of CNOP########\n",
      "    ###########################################################\n",
      "    N=500\n",
      "\n",
      "    #PreSampling:\n",
      "    df = df[:N]\n",
      "    #df = x2000[:N]\n",
      "    \n",
      "    ### DGP generation\n",
      "    regime = pd.DataFrame() \n",
      "    beta,   alpha   = [0.6, 0.4], [0.9, 1.5]\n",
      "    gammam, mum =     [0.3, 0.9], [-0.67, 0.36]\n",
      "    gammap, mup =     [0.2, 0.3], [0.02, 1.28]\n",
      "    distortion = np.array([arma_generate_sample(ar = [1, -rho], ma=[1], nsample = N) for i in range(3)])\n",
      "    regime[\"xbeta\"]    = df[[\"X1\", \"X2\"]].dot(beta)    + distortion[0]\n",
      "    regime['z-gammam'] = df[[\"X1\", \"X3\"]].dot(gammam)  + distortion[1]\n",
      "    regime['z+gammap'] = df[[\"X2\", \"X3\"]].dot(gammap)  + distortion[2]\n",
      "    regime['regime'] = regime['xbeta'].apply(lambda x: threshold(x,thresholds=alpha))\n",
      "    regime['Y-']=regime['z-gammam'].apply(lambda x: threshold(x, thresholds=mum,values=[-2,-1,0]))\n",
      "    regime['Y+']=regime['z+gammap'].apply(lambda x: threshold(x, thresholds=mup,values=[0,1,2]))\n",
      "    df['Y'] = 0\n",
      "    df['Y'] += np.where(regime['regime']==-1,regime['Y-'],0)\n",
      "    df['Y'] += np.where(regime['regime']==1,regime['Y+'],0)\n",
      "    ###df is full data matrix\n",
      "\n",
      "    #Model starts here:\n",
      "    exog = df[[\"X1\", \"X2\", \"X3\"]]\n",
      "    endog = df[[\"Y\"]]\n",
      "    l = {0:df}\n",
      "    pan = pd.Panel(l)\n",
      "    y      = pan.ix[:,:,['Y']]\n",
      "    x      = pan.ix[:,:,[\"X1\", \"X2\"]]\n",
      "    zminus = pan.ix[:,:,[\"X1\", \"X3\"]]\n",
      "    zplus  = pan.ix[:,:,[\"X2\", \"X3\"]]\n",
      "    exog = {'x':x,'zplus':zplus,'zminus':zminus}\n",
      "    CNOP4 = CNOP(y,exog, model='CNOP',interest_step=1)\n",
      "\n",
      "    #Counting execution time for fit ...\n",
      "    exec_time = {\"fit\":0,\"se\":0}\n",
      "    start_time = time.time()\n",
      "    res = CNOP4.fit( maxiter=250, disp=0)\n",
      "    exec_time[\"fit\"] = time.time() - start_time\n",
      "\n",
      "    # And for Standard Errors as well\n",
      "    try:\n",
      "        start_time = time.time()\n",
      "        res[\"se\"] = CNOP4.se(res.x)\n",
      "        exec_time[\"se\"] = time.time() - start_time\n",
      "        res['status'] = \"OK\"\n",
      "    except Exception, e:\n",
      "        print e\n",
      "        res['status'] = e\n",
      "\n",
      "    res[\"exec_time\"]=exec_time\n",
      "\n",
      "    if give_distortion:\n",
      "        return res, distortion\n",
      "    else:\n",
      "        return res    "
     ],
     "language": "python",
     "metadata": {},
     "outputs": [],
     "prompt_number": 225
    },
    {
     "cell_type": "code",
     "collapsed": false,
     "input": [
      "%matplotlib inline"
     ],
     "language": "python",
     "metadata": {},
     "outputs": [],
     "prompt_number": 123
    },
    {
     "cell_type": "code",
     "collapsed": false,
     "input": [
      "rho=0.5\n",
      "res, distortion = autocorrelated_errors(rho=rho, df=x2000)\n",
      "print \"Done for rho=%.3f\" % (rho)\n",
      "print \"Res.status:\", res.success\n",
      "\n",
      "beta,   alpha   = [0.6, 0.4], [0.9, 1.5]\n",
      "gammam, mum =     [0.3, 0.9], [-0.67, 0.36]\n",
      "gammap, mup =     [0.2, 0.3], [0.02, 1.28]\n",
      "res_real = beta+alpha+gammam+mum+gammap+mup\n",
      "plt.bar(np.arange(len(res.x-res_real)),\n",
      "                  list(res.x-res_real));\n",
      "\n",
      "winsound.PlaySound(u'C:\\Windows\\Media\\Windows Print complete.wav', winsound.SND_FILENAME)\n",
      "print \"X & SE:\"\n",
      "print np.dstack((res.x,res.se))"
     ],
     "language": "python",
     "metadata": {},
     "outputs": [
      {
       "output_type": "stream",
       "stream": "stdout",
       "text": [
        "Done for rho=0.500\n",
        "Res.status: True\n",
        "X & SE:"
       ]
      },
      {
       "output_type": "stream",
       "stream": "stdout",
       "text": [
        "\n",
        "[[[ 0.58350771  0.15309693]\n",
        "  [ 0.42537941  0.13749798]\n",
        "  [ 0.71124071  0.36492697]\n",
        "  [ 1.15961992  0.27646956]\n",
        "  [ 0.20410731  0.15151155]\n",
        "  [ 0.81316952  0.18405241]\n",
        "  [-0.62803371  0.23619058]\n",
        "  [ 0.39509324  0.32064347]\n",
        "  [ 0.18841107  0.12312013]\n",
        "  [ 0.21638108  0.11003245]\n",
        "  [ 0.2773254   0.26679995]\n",
        "  [ 1.25871904  0.190743  ]]]\n"
       ]
      },
      {
       "metadata": {},
       "output_type": "display_data",
       "png": "[encoded data removed]",
       "text": [
        "<matplotlib.figure.Figure at 0x4cb72080>"
       ]
      }
     ],
     "prompt_number": 146
    },
    {
     "cell_type": "code",
     "collapsed": false,
     "input": [
      "%%px --local\n",
      "\n",
      "def runMC(rho, n_repl, fun, append_folder=None, path=\"\\\\\\\\DAP-NAS\\\\work\\\\CNOP\\\\dumps\\\\\", prefix = \"CNOPres\", ext = \".p\", **kwargs):\n",
      "    print \"Starting MC on %i cores, %i replications of \\\"%s\\\" with rho = %.2f observations\"\\\n",
      "               %(len(clients.ids), n_repl, fun.__name__, rho)\n",
      "    print \"If you again run next(), you will get wait_interactive() form and results would be backed up\"\n",
      "    print \"Untill then you are free to use AsyncResult object that was apready yielded, but data will not be backed up!\"\n",
      "    view = clients.load_balanced_view()\n",
      "\n",
      "    def doJob(i):\n",
      "        rho,path,fun, kwargs=i\n",
      "        dumb_str=time.strftime(\"%Y%m%d%H%M%S\")+str(np.random.rand())\n",
      "\n",
      "        filename = path + dumb_str\n",
      "\n",
      "        try:\n",
      "            local_res = fun(rho, **kwargs)\n",
      "            pickle.dump(local_res, open( filename, \"wb\" ) )\n",
      "            return local_res, filename\n",
      "        except Exception, e:\n",
      "            pickle.dump(e, open( filename, \"wb\" ) )\n",
      "            return Exception, e, filename\n",
      "    \n",
      "    if append_folder is None:\n",
      "        cur_time_str=time.strftime('%Y%m%d_%H%M%S')\n",
      "        temp_folder_str = path+'temp/'+cur_time_str+\"/\"\n",
      "        if not os.path.exists(temp_folder_str):\n",
      "            os.makedirs(temp_folder_str)\n",
      "    else:\n",
      "        temp_folder_str = path+'temp/'+append_folder+\"/\"\n",
      "\n",
      "    print temp_folder_str\n",
      "    if append_folder is not None:\n",
      "        readme_f = file(temp_folder_str+\"!README.txt\", \"w\")\n",
      "        readme_f.write(\"Doing MC on %i cores, %i replications of \\\"%s\\\" with rho = %.2f observations\"\\\n",
      "                       %(len(clients.ids), n_repl, fun.__name__, rho))\n",
      "        readme_f.close()\n",
      "\n",
      "    ar = view.map_async(doJob, [[rho, temp_folder_str, fun, kwargs]]*n_repl)\n",
      "    yield ar\n",
      "\n",
      "    ar.wait_interactive()\n",
      "    results = ar.get()\n",
      "    cur_time_str=time.strftime('%Y%m%d_%H%M%S')\n",
      "    filename = path + prefix + cur_time_str + ext\n",
      "    print \"DONE! DB in %s\"%(temp_folder_str)\n",
      "    yield results\n",
      "\n",
      "        "
     ],
     "language": "python",
     "metadata": {},
     "outputs": [],
     "prompt_number": 226
    },
    {
     "cell_type": "code",
     "collapsed": false,
     "input": [
      "MCgenr03 = runMC(.3, 10000, autocorrelated_errors, df=x2000)\n",
      "MCAsyncMapResult03 = next(MCgenr03)"
     ],
     "language": "python",
     "metadata": {},
     "outputs": [
      {
       "output_type": "stream",
       "stream": "stdout",
       "text": [
        "Starting MC on 17 cores, 10000 replications of \"autocorrelated_errors\" with rho = 0.30 observations\n",
        "If you again run next(), you will get wait_interactive() form and results would be backed up\n",
        "Untill then you are free to use AsyncResult object that was apready yielded, but data will not be backed up!\n",
        "\\\\DAP-NAS\\work\\CNOP\\dumps\\temp/20150412_132614/"
       ]
      },
      {
       "output_type": "stream",
       "stream": "stdout",
       "text": [
        "\n"
       ]
      }
     ],
     "prompt_number": 66
    },
    {
     "cell_type": "code",
     "collapsed": true,
     "input": [
      "results03=next(MCgenr03)\n"
     ],
     "language": "python",
     "metadata": {},
     "outputs": [
      {
       "output_type": "stream",
       "stream": "stdout",
       "text": [
        " 731/10000 tasks finished after 2416 s"
       ]
      },
      {
       "ename": "KeyboardInterrupt",
       "evalue": "",
       "output_type": "pyerr",
       "traceback": [
        "\u001b[1;31m---------------------------------------------------------------------------\u001b[0m\n\u001b[1;31mKeyboardInterrupt\u001b[0m                         Traceback (most recent call last)",
        "\u001b[1;32m<ipython-input-67-bb4a0d833a75>\u001b[0m in \u001b[0;36m<module>\u001b[1;34m()\u001b[0m\n\u001b[1;32m----> 1\u001b[1;33m \u001b[0mresults03\u001b[0m\u001b[1;33m=\u001b[0m\u001b[0mnext\u001b[0m\u001b[1;33m(\u001b[0m\u001b[0mMCgenr03\u001b[0m\u001b[1;33m)\u001b[0m\u001b[1;33m\u001b[0m\u001b[0m\n\u001b[0m",
        "\u001b[1;32m<ipython-input-38-792c319cc8cd>\u001b[0m in \u001b[0;36mrunMC\u001b[1;34m(rho, n_repl, fun, path, prefix, ext, **kwargs)\u001b[0m\n\u001b[0;32m     33\u001b[0m     \u001b[1;32myield\u001b[0m \u001b[0mar\u001b[0m\u001b[1;33m\u001b[0m\u001b[0m\n\u001b[0;32m     34\u001b[0m \u001b[1;33m\u001b[0m\u001b[0m\n\u001b[1;32m---> 35\u001b[1;33m     \u001b[0mar\u001b[0m\u001b[1;33m.\u001b[0m\u001b[0mwait_interactive\u001b[0m\u001b[1;33m(\u001b[0m\u001b[1;33m)\u001b[0m\u001b[1;33m\u001b[0m\u001b[0m\n\u001b[0m\u001b[0;32m     36\u001b[0m     \u001b[0mresults\u001b[0m \u001b[1;33m=\u001b[0m \u001b[0mar\u001b[0m\u001b[1;33m.\u001b[0m\u001b[0mget\u001b[0m\u001b[1;33m(\u001b[0m\u001b[1;33m)\u001b[0m\u001b[1;33m\u001b[0m\u001b[0m\n\u001b[0;32m     37\u001b[0m     \u001b[0mcur_time_str\u001b[0m\u001b[1;33m=\u001b[0m\u001b[0mtime\u001b[0m\u001b[1;33m.\u001b[0m\u001b[0mstrftime\u001b[0m\u001b[1;33m(\u001b[0m\u001b[1;34m'%Y%m%d_%H%M%S'\u001b[0m\u001b[1;33m)\u001b[0m\u001b[1;33m\u001b[0m\u001b[0m\n",
        "\u001b[1;32mC:\\Users\\Andrew\\Anaconda\\lib\\site-packages\\IPython\\parallel\\client\\asyncresult.pyc\u001b[0m in \u001b[0;36mwait_interactive\u001b[1;34m(self, interval, timeout)\u001b[0m\n\u001b[0;32m    392\u001b[0m         \u001b[0mtic\u001b[0m \u001b[1;33m=\u001b[0m \u001b[0mtime\u001b[0m\u001b[1;33m.\u001b[0m\u001b[0mtime\u001b[0m\u001b[1;33m(\u001b[0m\u001b[1;33m)\u001b[0m\u001b[1;33m\u001b[0m\u001b[0m\n\u001b[0;32m    393\u001b[0m         \u001b[1;32mwhile\u001b[0m \u001b[1;32mnot\u001b[0m \u001b[0mself\u001b[0m\u001b[1;33m.\u001b[0m\u001b[0mready\u001b[0m\u001b[1;33m(\u001b[0m\u001b[1;33m)\u001b[0m \u001b[1;32mand\u001b[0m \u001b[1;33m(\u001b[0m\u001b[0mtimeout\u001b[0m \u001b[1;33m<\u001b[0m \u001b[1;36m0\u001b[0m \u001b[1;32mor\u001b[0m \u001b[0mtime\u001b[0m\u001b[1;33m.\u001b[0m\u001b[0mtime\u001b[0m\u001b[1;33m(\u001b[0m\u001b[1;33m)\u001b[0m \u001b[1;33m-\u001b[0m \u001b[0mtic\u001b[0m \u001b[1;33m<=\u001b[0m \u001b[0mtimeout\u001b[0m\u001b[1;33m)\u001b[0m\u001b[1;33m:\u001b[0m\u001b[1;33m\u001b[0m\u001b[0m\n\u001b[1;32m--> 394\u001b[1;33m             \u001b[0mself\u001b[0m\u001b[1;33m.\u001b[0m\u001b[0mwait\u001b[0m\u001b[1;33m(\u001b[0m\u001b[0minterval\u001b[0m\u001b[1;33m)\u001b[0m\u001b[1;33m\u001b[0m\u001b[0m\n\u001b[0m\u001b[0;32m    395\u001b[0m             \u001b[0mclear_output\u001b[0m\u001b[1;33m(\u001b[0m\u001b[0mwait\u001b[0m\u001b[1;33m=\u001b[0m\u001b[0mTrue\u001b[0m\u001b[1;33m)\u001b[0m\u001b[1;33m\u001b[0m\u001b[0m\n\u001b[0;32m    396\u001b[0m             \u001b[1;32mprint\u001b[0m\u001b[1;33m(\u001b[0m\u001b[1;34m\"%4i/%i tasks finished after %4i s\"\u001b[0m \u001b[1;33m%\u001b[0m \u001b[1;33m(\u001b[0m\u001b[0mself\u001b[0m\u001b[1;33m.\u001b[0m\u001b[0mprogress\u001b[0m\u001b[1;33m,\u001b[0m \u001b[0mN\u001b[0m\u001b[1;33m,\u001b[0m \u001b[0mself\u001b[0m\u001b[1;33m.\u001b[0m\u001b[0melapsed\u001b[0m\u001b[1;33m)\u001b[0m\u001b[1;33m,\u001b[0m \u001b[0mend\u001b[0m\u001b[1;33m=\u001b[0m\u001b[1;34m\"\"\u001b[0m\u001b[1;33m)\u001b[0m\u001b[1;33m\u001b[0m\u001b[0m\n",
        "\u001b[1;32mC:\\Users\\Andrew\\Anaconda\\lib\\site-packages\\IPython\\parallel\\client\\asyncresult.pyc\u001b[0m in \u001b[0;36mwait\u001b[1;34m(self, timeout)\u001b[0m\n\u001b[0;32m    141\u001b[0m             \u001b[0mself\u001b[0m\u001b[1;33m.\u001b[0m\u001b[0m_wait_for_outputs\u001b[0m\u001b[1;33m(\u001b[0m\u001b[0mtimeout\u001b[0m\u001b[1;33m)\u001b[0m\u001b[1;33m\u001b[0m\u001b[0m\n\u001b[0;32m    142\u001b[0m             \u001b[1;32mreturn\u001b[0m\u001b[1;33m\u001b[0m\u001b[0m\n\u001b[1;32m--> 143\u001b[1;33m         \u001b[0mself\u001b[0m\u001b[1;33m.\u001b[0m\u001b[0m_ready\u001b[0m \u001b[1;33m=\u001b[0m \u001b[0mself\u001b[0m\u001b[1;33m.\u001b[0m\u001b[0m_client\u001b[0m\u001b[1;33m.\u001b[0m\u001b[0mwait\u001b[0m\u001b[1;33m(\u001b[0m\u001b[0mself\u001b[0m\u001b[1;33m.\u001b[0m\u001b[0mmsg_ids\u001b[0m\u001b[1;33m,\u001b[0m \u001b[0mtimeout\u001b[0m\u001b[1;33m)\u001b[0m\u001b[1;33m\u001b[0m\u001b[0m\n\u001b[0m\u001b[0;32m    144\u001b[0m         \u001b[1;32mif\u001b[0m \u001b[0mself\u001b[0m\u001b[1;33m.\u001b[0m\u001b[0m_ready\u001b[0m\u001b[1;33m:\u001b[0m\u001b[1;33m\u001b[0m\u001b[0m\n\u001b[0;32m    145\u001b[0m             \u001b[1;32mtry\u001b[0m\u001b[1;33m:\u001b[0m\u001b[1;33m\u001b[0m\u001b[0m\n",
        "\u001b[1;32mC:\\Users\\Andrew\\Anaconda\\lib\\site-packages\\IPython\\parallel\\client\\client.pyc\u001b[0m in \u001b[0;36mwait\u001b[1;34m(self, jobs, timeout)\u001b[0m\n\u001b[0;32m   1089\u001b[0m             \u001b[1;32mif\u001b[0m \u001b[0mtimeout\u001b[0m \u001b[1;33m>=\u001b[0m \u001b[1;36m0\u001b[0m \u001b[1;32mand\u001b[0m \u001b[1;33m(\u001b[0m \u001b[0mtime\u001b[0m\u001b[1;33m.\u001b[0m\u001b[0mtime\u001b[0m\u001b[1;33m(\u001b[0m\u001b[1;33m)\u001b[0m\u001b[1;33m-\u001b[0m\u001b[0mtic\u001b[0m \u001b[1;33m)\u001b[0m \u001b[1;33m>\u001b[0m \u001b[0mtimeout\u001b[0m\u001b[1;33m:\u001b[0m\u001b[1;33m\u001b[0m\u001b[0m\n\u001b[0;32m   1090\u001b[0m                 \u001b[1;32mbreak\u001b[0m\u001b[1;33m\u001b[0m\u001b[0m\n\u001b[1;32m-> 1091\u001b[1;33m             \u001b[0mtime\u001b[0m\u001b[1;33m.\u001b[0m\u001b[0msleep\u001b[0m\u001b[1;33m(\u001b[0m\u001b[1;36m1e-3\u001b[0m\u001b[1;33m)\u001b[0m\u001b[1;33m\u001b[0m\u001b[0m\n\u001b[0m\u001b[0;32m   1092\u001b[0m             \u001b[0mself\u001b[0m\u001b[1;33m.\u001b[0m\u001b[0mspin\u001b[0m\u001b[1;33m(\u001b[0m\u001b[1;33m)\u001b[0m\u001b[1;33m\u001b[0m\u001b[0m\n\u001b[0;32m   1093\u001b[0m         \u001b[1;32mreturn\u001b[0m \u001b[0mlen\u001b[0m\u001b[1;33m(\u001b[0m\u001b[0mtheids\u001b[0m\u001b[1;33m.\u001b[0m\u001b[0mintersection\u001b[0m\u001b[1;33m(\u001b[0m\u001b[0mself\u001b[0m\u001b[1;33m.\u001b[0m\u001b[0moutstanding\u001b[0m\u001b[1;33m)\u001b[0m\u001b[1;33m)\u001b[0m \u001b[1;33m==\u001b[0m \u001b[1;36m0\u001b[0m\u001b[1;33m\u001b[0m\u001b[0m\n",
        "\u001b[1;31mKeyboardInterrupt\u001b[0m: "
       ]
      }
     ],
     "prompt_number": 67
    },
    {
     "cell_type": "code",
     "collapsed": false,
     "input": [
      "MCAsyncMapResult03.abort()"
     ],
     "language": "python",
     "metadata": {},
     "outputs": [],
     "prompt_number": 68
    },
    {
     "cell_type": "code",
     "collapsed": false,
     "input": [
      "i=MCAsyncMapResult03.get()"
     ],
     "language": "python",
     "metadata": {},
     "outputs": [
      {
       "ename": "CompositeError",
       "evalue": "one or more exceptions from call to method: doJob\n[Engine Exception]EngineError: Engine 'af443219-7e22-43e9-a91b-660407e04051' died while running task u'a79dd743-dce0-46f9-85c8-3f87bd8b7f92'\n[Engine Exception]EngineError: Engine '1d7f788d-5e4b-4ced-966f-fbf60b59a180' died while running task u'5f97f761-2e0a-45a6-8de7-da3f95cf1771'\n[Engine Exception]EngineError: Engine '6cb9fc44-c91a-4511-99b1-6f3ba7e3d610' died while running task u'2169de1d-369f-4215-996f-46525b595b62'\n[Engine Exception]EngineError: Engine 'ad96f5df-501e-4c24-bf46-270427eb07fc' died while running task u'8adc86e1-e200-4767-871e-4102a3f34c37'",
       "output_type": "pyerr",
       "traceback": [
        "[Engine Exception]",
        "Traceback (most recent call last):",
        "  File \"C:\\Users\\Andrew\\Anaconda\\lib\\site-packages\\IPython\\parallel\\controller\\scheduler.py\", line 357, in handle_stranded_tasks",
        "    raise error.EngineError(\"Engine %r died while running task %r\"%(engine, msg_id))",
        "EngineError: Engine 'af443219-7e22-43e9-a91b-660407e04051' died while running task u'a79dd743-dce0-46f9-85c8-3f87bd8b7f92'",
        "",
        "[Engine Exception]",
        "Traceback (most recent call last):",
        "  File \"C:\\Users\\Andrew\\Anaconda\\lib\\site-packages\\IPython\\parallel\\controller\\scheduler.py\", line 357, in handle_stranded_tasks",
        "    raise error.EngineError(\"Engine %r died while running task %r\"%(engine, msg_id))",
        "EngineError: Engine '1d7f788d-5e4b-4ced-966f-fbf60b59a180' died while running task u'5f97f761-2e0a-45a6-8de7-da3f95cf1771'",
        "",
        "[Engine Exception]",
        "Traceback (most recent call last):",
        "  File \"C:\\Users\\Andrew\\Anaconda\\lib\\site-packages\\IPython\\parallel\\controller\\scheduler.py\", line 357, in handle_stranded_tasks",
        "    raise error.EngineError(\"Engine %r died while running task %r\"%(engine, msg_id))",
        "EngineError: Engine '6cb9fc44-c91a-4511-99b1-6f3ba7e3d610' died while running task u'2169de1d-369f-4215-996f-46525b595b62'",
        "",
        "[Engine Exception]",
        "Traceback (most recent call last):",
        "  File \"C:\\Users\\Andrew\\Anaconda\\lib\\site-packages\\IPython\\parallel\\controller\\scheduler.py\", line 357, in handle_stranded_tasks",
        "    raise error.EngineError(\"Engine %r died while running task %r\"%(engine, msg_id))",
        "EngineError: Engine 'ad96f5df-501e-4c24-bf46-270427eb07fc' died while running task u'8adc86e1-e200-4767-871e-4102a3f34c37'",
        ""
       ]
      }
     ],
     "prompt_number": 74
    },
    {
     "cell_type": "code",
     "collapsed": false,
     "input": [
      "someresults = MCAsyncMapResult03"
     ],
     "language": "python",
     "metadata": {},
     "outputs": [],
     "prompt_number": 80
    },
    {
     "cell_type": "code",
     "collapsed": false,
     "input": [],
     "language": "python",
     "metadata": {},
     "outputs": []
    },
    {
     "cell_type": "code",
     "collapsed": false,
     "input": [
      "MCgenr03 = runMC(.3, 9300, autocorrelated_errors, df=x2000)\n",
      "MCAsyncMapResult03 = next(MCgenr03)"
     ],
     "language": "python",
     "metadata": {},
     "outputs": [
      {
       "output_type": "stream",
       "stream": "stdout",
       "text": [
        "Starting MC on 17 cores, 9300 replications of \"autocorrelated_errors\" with rho = 0.30 observations\n",
        "If you again run next(), you will get wait_interactive() form and results would be backed up\n",
        "Untill then you are free to use AsyncResult object that was apready yielded, but data will not be backed up!\n",
        "\\\\DAP-NAS\\work\\CNOP\\dumps\\temp/20150412_141301/"
       ]
      },
      {
       "output_type": "stream",
       "stream": "stdout",
       "text": [
        "\n"
       ]
      }
     ],
     "prompt_number": 86
    },
    {
     "cell_type": "code",
     "collapsed": true,
     "input": [
      "results03=next(MCgenr03)"
     ],
     "language": "python",
     "metadata": {},
     "outputs": [
      {
       "output_type": "stream",
       "stream": "stdout",
       "text": [
        " 283/9300 tasks finished after  954 s"
       ]
      },
      {
       "ename": "KeyboardInterrupt",
       "evalue": "",
       "output_type": "pyerr",
       "traceback": [
        "\u001b[1;31m---------------------------------------------------------------------------\u001b[0m\n\u001b[1;31mKeyboardInterrupt\u001b[0m                         Traceback (most recent call last)",
        "\u001b[1;32m<ipython-input-87-bb4a0d833a75>\u001b[0m in \u001b[0;36m<module>\u001b[1;34m()\u001b[0m\n\u001b[1;32m----> 1\u001b[1;33m \u001b[0mresults03\u001b[0m\u001b[1;33m=\u001b[0m\u001b[0mnext\u001b[0m\u001b[1;33m(\u001b[0m\u001b[0mMCgenr03\u001b[0m\u001b[1;33m)\u001b[0m\u001b[1;33m\u001b[0m\u001b[0m\n\u001b[0m",
        "\u001b[1;32m<ipython-input-85-792c319cc8cd>\u001b[0m in \u001b[0;36mrunMC\u001b[1;34m(rho, n_repl, fun, path, prefix, ext, **kwargs)\u001b[0m\n\u001b[0;32m     33\u001b[0m     \u001b[1;32myield\u001b[0m \u001b[0mar\u001b[0m\u001b[1;33m\u001b[0m\u001b[0m\n\u001b[0;32m     34\u001b[0m \u001b[1;33m\u001b[0m\u001b[0m\n\u001b[1;32m---> 35\u001b[1;33m     \u001b[0mar\u001b[0m\u001b[1;33m.\u001b[0m\u001b[0mwait_interactive\u001b[0m\u001b[1;33m(\u001b[0m\u001b[1;33m)\u001b[0m\u001b[1;33m\u001b[0m\u001b[0m\n\u001b[0m\u001b[0;32m     36\u001b[0m     \u001b[0mresults\u001b[0m \u001b[1;33m=\u001b[0m \u001b[0mar\u001b[0m\u001b[1;33m.\u001b[0m\u001b[0mget\u001b[0m\u001b[1;33m(\u001b[0m\u001b[1;33m)\u001b[0m\u001b[1;33m\u001b[0m\u001b[0m\n\u001b[0;32m     37\u001b[0m     \u001b[0mcur_time_str\u001b[0m\u001b[1;33m=\u001b[0m\u001b[0mtime\u001b[0m\u001b[1;33m.\u001b[0m\u001b[0mstrftime\u001b[0m\u001b[1;33m(\u001b[0m\u001b[1;34m'%Y%m%d_%H%M%S'\u001b[0m\u001b[1;33m)\u001b[0m\u001b[1;33m\u001b[0m\u001b[0m\n",
        "\u001b[1;32mC:\\Users\\Andrew\\Anaconda\\lib\\site-packages\\IPython\\parallel\\client\\asyncresult.pyc\u001b[0m in \u001b[0;36mwait_interactive\u001b[1;34m(self, interval, timeout)\u001b[0m\n\u001b[0;32m    392\u001b[0m         \u001b[0mtic\u001b[0m \u001b[1;33m=\u001b[0m \u001b[0mtime\u001b[0m\u001b[1;33m.\u001b[0m\u001b[0mtime\u001b[0m\u001b[1;33m(\u001b[0m\u001b[1;33m)\u001b[0m\u001b[1;33m\u001b[0m\u001b[0m\n\u001b[0;32m    393\u001b[0m         \u001b[1;32mwhile\u001b[0m \u001b[1;32mnot\u001b[0m \u001b[0mself\u001b[0m\u001b[1;33m.\u001b[0m\u001b[0mready\u001b[0m\u001b[1;33m(\u001b[0m\u001b[1;33m)\u001b[0m \u001b[1;32mand\u001b[0m \u001b[1;33m(\u001b[0m\u001b[0mtimeout\u001b[0m \u001b[1;33m<\u001b[0m \u001b[1;36m0\u001b[0m \u001b[1;32mor\u001b[0m \u001b[0mtime\u001b[0m\u001b[1;33m.\u001b[0m\u001b[0mtime\u001b[0m\u001b[1;33m(\u001b[0m\u001b[1;33m)\u001b[0m \u001b[1;33m-\u001b[0m \u001b[0mtic\u001b[0m \u001b[1;33m<=\u001b[0m \u001b[0mtimeout\u001b[0m\u001b[1;33m)\u001b[0m\u001b[1;33m:\u001b[0m\u001b[1;33m\u001b[0m\u001b[0m\n\u001b[1;32m--> 394\u001b[1;33m             \u001b[0mself\u001b[0m\u001b[1;33m.\u001b[0m\u001b[0mwait\u001b[0m\u001b[1;33m(\u001b[0m\u001b[0minterval\u001b[0m\u001b[1;33m)\u001b[0m\u001b[1;33m\u001b[0m\u001b[0m\n\u001b[0m\u001b[0;32m    395\u001b[0m             \u001b[0mclear_output\u001b[0m\u001b[1;33m(\u001b[0m\u001b[0mwait\u001b[0m\u001b[1;33m=\u001b[0m\u001b[0mTrue\u001b[0m\u001b[1;33m)\u001b[0m\u001b[1;33m\u001b[0m\u001b[0m\n\u001b[0;32m    396\u001b[0m             \u001b[1;32mprint\u001b[0m\u001b[1;33m(\u001b[0m\u001b[1;34m\"%4i/%i tasks finished after %4i s\"\u001b[0m \u001b[1;33m%\u001b[0m \u001b[1;33m(\u001b[0m\u001b[0mself\u001b[0m\u001b[1;33m.\u001b[0m\u001b[0mprogress\u001b[0m\u001b[1;33m,\u001b[0m \u001b[0mN\u001b[0m\u001b[1;33m,\u001b[0m \u001b[0mself\u001b[0m\u001b[1;33m.\u001b[0m\u001b[0melapsed\u001b[0m\u001b[1;33m)\u001b[0m\u001b[1;33m,\u001b[0m \u001b[0mend\u001b[0m\u001b[1;33m=\u001b[0m\u001b[1;34m\"\"\u001b[0m\u001b[1;33m)\u001b[0m\u001b[1;33m\u001b[0m\u001b[0m\n",
        "\u001b[1;32mC:\\Users\\Andrew\\Anaconda\\lib\\site-packages\\IPython\\parallel\\client\\asyncresult.pyc\u001b[0m in \u001b[0;36mwait\u001b[1;34m(self, timeout)\u001b[0m\n\u001b[0;32m    141\u001b[0m             \u001b[0mself\u001b[0m\u001b[1;33m.\u001b[0m\u001b[0m_wait_for_outputs\u001b[0m\u001b[1;33m(\u001b[0m\u001b[0mtimeout\u001b[0m\u001b[1;33m)\u001b[0m\u001b[1;33m\u001b[0m\u001b[0m\n\u001b[0;32m    142\u001b[0m             \u001b[1;32mreturn\u001b[0m\u001b[1;33m\u001b[0m\u001b[0m\n\u001b[1;32m--> 143\u001b[1;33m         \u001b[0mself\u001b[0m\u001b[1;33m.\u001b[0m\u001b[0m_ready\u001b[0m \u001b[1;33m=\u001b[0m \u001b[0mself\u001b[0m\u001b[1;33m.\u001b[0m\u001b[0m_client\u001b[0m\u001b[1;33m.\u001b[0m\u001b[0mwait\u001b[0m\u001b[1;33m(\u001b[0m\u001b[0mself\u001b[0m\u001b[1;33m.\u001b[0m\u001b[0mmsg_ids\u001b[0m\u001b[1;33m,\u001b[0m \u001b[0mtimeout\u001b[0m\u001b[1;33m)\u001b[0m\u001b[1;33m\u001b[0m\u001b[0m\n\u001b[0m\u001b[0;32m    144\u001b[0m         \u001b[1;32mif\u001b[0m \u001b[0mself\u001b[0m\u001b[1;33m.\u001b[0m\u001b[0m_ready\u001b[0m\u001b[1;33m:\u001b[0m\u001b[1;33m\u001b[0m\u001b[0m\n\u001b[0;32m    145\u001b[0m             \u001b[1;32mtry\u001b[0m\u001b[1;33m:\u001b[0m\u001b[1;33m\u001b[0m\u001b[0m\n",
        "\u001b[1;32mC:\\Users\\Andrew\\Anaconda\\lib\\site-packages\\IPython\\parallel\\client\\client.pyc\u001b[0m in \u001b[0;36mwait\u001b[1;34m(self, jobs, timeout)\u001b[0m\n\u001b[0;32m   1076\u001b[0m             \u001b[0mtheids\u001b[0m \u001b[1;33m=\u001b[0m \u001b[0mset\u001b[0m\u001b[1;33m(\u001b[0m\u001b[1;33m)\u001b[0m\u001b[1;33m\u001b[0m\u001b[0m\n\u001b[0;32m   1077\u001b[0m             \u001b[1;32mfor\u001b[0m \u001b[0mjob\u001b[0m \u001b[1;32min\u001b[0m \u001b[0mjobs\u001b[0m\u001b[1;33m:\u001b[0m\u001b[1;33m\u001b[0m\u001b[0m\n\u001b[1;32m-> 1078\u001b[1;33m                 \u001b[1;32mif\u001b[0m \u001b[0misinstance\u001b[0m\u001b[1;33m(\u001b[0m\u001b[0mjob\u001b[0m\u001b[1;33m,\u001b[0m \u001b[0mint\u001b[0m\u001b[1;33m)\u001b[0m\u001b[1;33m:\u001b[0m\u001b[1;33m\u001b[0m\u001b[0m\n\u001b[0m\u001b[0;32m   1079\u001b[0m                     \u001b[1;31m# index access\u001b[0m\u001b[1;33m\u001b[0m\u001b[1;33m\u001b[0m\u001b[0m\n\u001b[0;32m   1080\u001b[0m                     \u001b[0mjob\u001b[0m \u001b[1;33m=\u001b[0m \u001b[0mself\u001b[0m\u001b[1;33m.\u001b[0m\u001b[0mhistory\u001b[0m\u001b[1;33m[\u001b[0m\u001b[0mjob\u001b[0m\u001b[1;33m]\u001b[0m\u001b[1;33m\u001b[0m\u001b[0m\n",
        "\u001b[1;31mKeyboardInterrupt\u001b[0m: "
       ]
      }
     ],
     "prompt_number": 87
    },
    {
     "cell_type": "code",
     "collapsed": false,
     "input": [
      "MCAsyncMapResult03.abort()"
     ],
     "language": "python",
     "metadata": {},
     "outputs": [],
     "prompt_number": 89
    },
    {
     "cell_type": "code",
     "collapsed": false,
     "input": [
      "i=MCAsyncMapResult03.get()"
     ],
     "language": "python",
     "metadata": {},
     "outputs": [
      {
       "ename": "CompositeError",
       "evalue": "one or more exceptions from call to method: doJob\n[Engine Exception]EngineError: Engine '9938e28b-2a8b-4bcd-adbe-5b12f00d7772' died while running task u'4b5c97f1-d9c3-4add-b09e-0abed9eb926f'\n[Engine Exception]EngineError: Engine '6508f065-9fc5-4cbc-935e-4f9a0681cbf9' died while running task u'5332552d-6f5e-4f41-953b-1e92be501619'\n[Engine Exception]EngineError: Engine '72b31e02-eb76-4103-a7ce-82ded2a0b003' died while running task u'f302d169-11ad-4eb1-bce5-7fe36e2523c5'\n[Engine Exception]EngineError: Engine '9ddcf274-0d98-416d-9f4a-5e23c2d9d7aa' died while running task u'74164121-09f4-415f-bdbf-5cb93885d288'",
       "output_type": "pyerr",
       "traceback": [
        "[Engine Exception]",
        "Traceback (most recent call last):",
        "  File \"C:\\Users\\Andrew\\Anaconda\\lib\\site-packages\\IPython\\parallel\\controller\\scheduler.py\", line 357, in handle_stranded_tasks",
        "    raise error.EngineError(\"Engine %r died while running task %r\"%(engine, msg_id))",
        "EngineError: Engine '9938e28b-2a8b-4bcd-adbe-5b12f00d7772' died while running task u'4b5c97f1-d9c3-4add-b09e-0abed9eb926f'",
        "",
        "[Engine Exception]",
        "Traceback (most recent call last):",
        "  File \"C:\\Users\\Andrew\\Anaconda\\lib\\site-packages\\IPython\\parallel\\controller\\scheduler.py\", line 357, in handle_stranded_tasks",
        "    raise error.EngineError(\"Engine %r died while running task %r\"%(engine, msg_id))",
        "EngineError: Engine '6508f065-9fc5-4cbc-935e-4f9a0681cbf9' died while running task u'5332552d-6f5e-4f41-953b-1e92be501619'",
        "",
        "[Engine Exception]",
        "Traceback (most recent call last):",
        "  File \"C:\\Users\\Andrew\\Anaconda\\lib\\site-packages\\IPython\\parallel\\controller\\scheduler.py\", line 357, in handle_stranded_tasks",
        "    raise error.EngineError(\"Engine %r died while running task %r\"%(engine, msg_id))",
        "EngineError: Engine '72b31e02-eb76-4103-a7ce-82ded2a0b003' died while running task u'f302d169-11ad-4eb1-bce5-7fe36e2523c5'",
        "",
        "[Engine Exception]",
        "Traceback (most recent call last):",
        "  File \"C:\\Users\\Andrew\\Anaconda\\lib\\site-packages\\IPython\\parallel\\controller\\scheduler.py\", line 357, in handle_stranded_tasks",
        "    raise error.EngineError(\"Engine %r died while running task %r\"%(engine, msg_id))",
        "EngineError: Engine '9ddcf274-0d98-416d-9f4a-5e23c2d9d7aa' died while running task u'74164121-09f4-415f-bdbf-5cb93885d288'",
        ""
       ]
      }
     ],
     "prompt_number": 90
    },
    {
     "cell_type": "code",
     "collapsed": false,
     "input": [
      "someresults = MCAsyncMapResult03"
     ],
     "language": "python",
     "metadata": {},
     "outputs": [],
     "prompt_number": 92
    },
    {
     "cell_type": "code",
     "collapsed": false,
     "input": [],
     "language": "python",
     "metadata": {},
     "outputs": []
    },
    {
     "cell_type": "code",
     "collapsed": false,
     "input": [
      "MCgenr03 = runMC(.3, 9000, autocorrelated_errors, df=x2000)\n",
      "MCAsyncMapResult03 = next(MCgenr03)"
     ],
     "language": "python",
     "metadata": {},
     "outputs": [
      {
       "output_type": "stream",
       "stream": "stdout",
       "text": [
        "Starting MC on 17 cores, 9000 replications of \"autocorrelated_errors\" with rho = 0.30 observations\n",
        "If you again run next(), you will get wait_interactive() form and results would be backed up\n",
        "Untill then you are free to use AsyncResult object that was apready yielded, but data will not be backed up!\n",
        "\\\\DAP-NAS\\work\\CNOP\\dumps\\temp/20150412_143656/"
       ]
      },
      {
       "output_type": "stream",
       "stream": "stdout",
       "text": [
        "\n"
       ]
      }
     ],
     "prompt_number": 100
    },
    {
     "cell_type": "code",
     "collapsed": true,
     "input": [
      "results03=next(MCgenr03)"
     ],
     "language": "python",
     "metadata": {},
     "outputs": [
      {
       "output_type": "stream",
       "stream": "stdout",
       "text": [
        "9000/9000 tasks finished after 27837 s"
       ]
      },
      {
       "output_type": "stream",
       "stream": "stdout",
       "text": [
        "\n",
        "done\n"
       ]
      },
      {
       "ename": "CompositeError",
       "evalue": "one or more exceptions from call to method: doJob\n[Engine Exception]EngineError: Engine '3eee9dda-99c1-4cf1-ac75-581c55a07963' died while running task u'7d0300e3-3bf1-4bcc-b133-a67538514249'\n[Engine Exception]EngineError: Engine 'cae851df-ac8e-4337-994e-98fff819727c' died while running task u'3585989d-0dee-4d04-b268-b7170e0d7ef5'\n[Engine Exception]EngineError: Engine '7bb7bf6c-3ac9-43bf-8fea-9a9c9c5934c1' died while running task u'72bbe114-e895-4446-abb1-efc817df12fa'\n[Engine Exception]EngineError: Engine '4bf9c72f-68a0-4a62-9581-2cca598c7d48' died while running task u'6e445b62-3c01-4bd8-a9a5-339aa9fb0d9f'",
       "output_type": "pyerr",
       "traceback": [
        "[Engine Exception]",
        "Traceback (most recent call last):",
        "  File \"C:\\Users\\Andrew\\Anaconda\\lib\\site-packages\\IPython\\parallel\\controller\\scheduler.py\", line 357, in handle_stranded_tasks",
        "    raise error.EngineError(\"Engine %r died while running task %r\"%(engine, msg_id))",
        "EngineError: Engine '3eee9dda-99c1-4cf1-ac75-581c55a07963' died while running task u'7d0300e3-3bf1-4bcc-b133-a67538514249'",
        "",
        "[Engine Exception]",
        "Traceback (most recent call last):",
        "  File \"C:\\Users\\Andrew\\Anaconda\\lib\\site-packages\\IPython\\parallel\\controller\\scheduler.py\", line 357, in handle_stranded_tasks",
        "    raise error.EngineError(\"Engine %r died while running task %r\"%(engine, msg_id))",
        "EngineError: Engine 'cae851df-ac8e-4337-994e-98fff819727c' died while running task u'3585989d-0dee-4d04-b268-b7170e0d7ef5'",
        "",
        "[Engine Exception]",
        "Traceback (most recent call last):",
        "  File \"C:\\Users\\Andrew\\Anaconda\\lib\\site-packages\\IPython\\parallel\\controller\\scheduler.py\", line 357, in handle_stranded_tasks",
        "    raise error.EngineError(\"Engine %r died while running task %r\"%(engine, msg_id))",
        "EngineError: Engine '7bb7bf6c-3ac9-43bf-8fea-9a9c9c5934c1' died while running task u'72bbe114-e895-4446-abb1-efc817df12fa'",
        "",
        "[Engine Exception]",
        "Traceback (most recent call last):",
        "  File \"C:\\Users\\Andrew\\Anaconda\\lib\\site-packages\\IPython\\parallel\\controller\\scheduler.py\", line 357, in handle_stranded_tasks",
        "    raise error.EngineError(\"Engine %r died while running task %r\"%(engine, msg_id))",
        "EngineError: Engine '4bf9c72f-68a0-4a62-9581-2cca598c7d48' died while running task u'6e445b62-3c01-4bd8-a9a5-339aa9fb0d9f'",
        ""
       ]
      }
     ],
     "prompt_number": 101
    },
    {
     "cell_type": "code",
     "collapsed": false,
     "input": [],
     "language": "python",
     "metadata": {},
     "outputs": []
    },
    {
     "cell_type": "code",
     "collapsed": false,
     "input": [
      "MCgenr06 = runMC(.6, 10000, autocorrelated_errors, df=x2000)\n",
      "MCAsyncMapResult06 = next(MCgenr06)"
     ],
     "language": "python",
     "metadata": {},
     "outputs": [
      {
       "output_type": "stream",
       "stream": "stdout",
       "text": [
        "Starting MC on 13 cores, 10000 replications of \"autocorrelated_errors\" with rho = 0.60 observations\n",
        "If you again run next(), you will get wait_interactive() form and results would be backed up\n",
        "Untill then you are free to use AsyncResult object that was apready yielded, but data will not be backed up!\n",
        "\\\\DAP-NAS\\work\\CNOP\\dumps\\temp/20150413_005610/"
       ]
      },
      {
       "output_type": "stream",
       "stream": "stdout",
       "text": [
        "\n"
       ]
      }
     ],
     "prompt_number": 112
    },
    {
     "cell_type": "code",
     "collapsed": false,
     "input": [
      "results06=next(MCgenr06)"
     ],
     "language": "python",
     "metadata": {},
     "outputs": [
      {
       "output_type": "stream",
       "stream": "stdout",
       "text": [
        "10000/10000 tasks finished after 33496 s"
       ]
      },
      {
       "output_type": "stream",
       "stream": "stdout",
       "text": [
        "\n",
        "done\n"
       ]
      },
      {
       "ename": "CompositeError",
       "evalue": "one or more exceptions from call to method: doJob\n[35:apply]: IOError: [Errno 22] invalid mode ('wb') or filename: '\\\\\\\\DAP-NAS\\\\work\\\\CNOP\\\\dumps\\\\temp/20150413_005610/201504130210250.0404848754521'\n[34:apply]: IOError: [Errno 22] invalid mode ('wb') or filename: '\\\\\\\\DAP-NAS\\\\work\\\\CNOP\\\\dumps\\\\temp/20150413_005610/201504130210250.143615438273'",
       "output_type": "pyerr",
       "traceback": [
        "[35:apply]: ",
        "\u001b[1;31m---------------------------------------------------------------------------\u001b[0m",
        "\u001b[1;31mIOError\u001b[0m                                   Traceback (most recent call last)\u001b[1;32m<string>\u001b[0m in \u001b[0;36m<module>\u001b[1;34m()\u001b[0m",
        "\u001b[1;32m<ipython-input-108-792c319cc8cd>\u001b[0m in \u001b[0;36mdoJob\u001b[1;34m(i)\u001b[0m",
        "\u001b[1;31mIOError\u001b[0m: [Errno 22] invalid mode ('wb') or filename: '\\\\\\\\DAP-NAS\\\\work\\\\CNOP\\\\dumps\\\\temp/20150413_005610/201504130210250.0404848754521'",
        "",
        "[34:apply]: ",
        "\u001b[1;31m---------------------------------------------------------------------------\u001b[0m",
        "\u001b[1;31mIOError\u001b[0m                                   Traceback (most recent call last)\u001b[1;32m<string>\u001b[0m in \u001b[0;36m<module>\u001b[1;34m()\u001b[0m",
        "\u001b[1;32m<ipython-input-108-792c319cc8cd>\u001b[0m in \u001b[0;36mdoJob\u001b[1;34m(i)\u001b[0m",
        "\u001b[1;31mIOError\u001b[0m: [Errno 22] invalid mode ('wb') or filename: '\\\\\\\\DAP-NAS\\\\work\\\\CNOP\\\\dumps\\\\temp/20150413_005610/201504130210250.143615438273'",
        ""
       ]
      }
     ],
     "prompt_number": 113
    },
    {
     "cell_type": "code",
     "collapsed": false,
     "input": [],
     "language": "python",
     "metadata": {},
     "outputs": []
    },
    {
     "cell_type": "code",
     "collapsed": false,
     "input": [
      "MCgenr09 = runMC(.9, 10000, autocorrelated_errors, df=x2000)\n",
      "MCAsyncMapResult09 = next(MCgenr09)"
     ],
     "language": "python",
     "metadata": {},
     "outputs": [
      {
       "output_type": "stream",
       "stream": "stdout",
       "text": [
        "Starting MC on 13 cores, 10000 replications of \"autocorrelated_errors\" with rho = 0.90 observations\n",
        "If you again run next(), you will get wait_interactive() form and results would be backed up\n",
        "Untill then you are free to use AsyncResult object that was apready yielded, but data will not be backed up!\n",
        "\\\\DAP-NAS\\work\\CNOP\\dumps\\temp/20150413_112135/"
       ]
      },
      {
       "output_type": "stream",
       "stream": "stdout",
       "text": [
        "\n"
       ]
      }
     ],
     "prompt_number": 114
    },
    {
     "cell_type": "code",
     "collapsed": true,
     "input": [
      "results09=next(MCgenr09)"
     ],
     "language": "python",
     "metadata": {},
     "outputs": [
      {
       "output_type": "stream",
       "stream": "stdout",
       "text": [
        "4837/10000 tasks finished after 19112 s"
       ]
      },
      {
       "ename": "KeyboardInterrupt",
       "evalue": "",
       "output_type": "pyerr",
       "traceback": [
        "\u001b[1;31m---------------------------------------------------------------------------\u001b[0m\n\u001b[1;31mKeyboardInterrupt\u001b[0m                         Traceback (most recent call last)",
        "\u001b[1;32m<ipython-input-115-810c6d578694>\u001b[0m in \u001b[0;36m<module>\u001b[1;34m()\u001b[0m\n\u001b[1;32m----> 1\u001b[1;33m \u001b[0mresults09\u001b[0m\u001b[1;33m=\u001b[0m\u001b[0mnext\u001b[0m\u001b[1;33m(\u001b[0m\u001b[0mMCgenr09\u001b[0m\u001b[1;33m)\u001b[0m\u001b[1;33m\u001b[0m\u001b[0m\n\u001b[0m",
        "\u001b[1;32m<ipython-input-108-792c319cc8cd>\u001b[0m in \u001b[0;36mrunMC\u001b[1;34m(rho, n_repl, fun, path, prefix, ext, **kwargs)\u001b[0m\n\u001b[0;32m     33\u001b[0m     \u001b[1;32myield\u001b[0m \u001b[0mar\u001b[0m\u001b[1;33m\u001b[0m\u001b[0m\n\u001b[0;32m     34\u001b[0m \u001b[1;33m\u001b[0m\u001b[0m\n\u001b[1;32m---> 35\u001b[1;33m     \u001b[0mar\u001b[0m\u001b[1;33m.\u001b[0m\u001b[0mwait_interactive\u001b[0m\u001b[1;33m(\u001b[0m\u001b[1;33m)\u001b[0m\u001b[1;33m\u001b[0m\u001b[0m\n\u001b[0m\u001b[0;32m     36\u001b[0m     \u001b[0mresults\u001b[0m \u001b[1;33m=\u001b[0m \u001b[0mar\u001b[0m\u001b[1;33m.\u001b[0m\u001b[0mget\u001b[0m\u001b[1;33m(\u001b[0m\u001b[1;33m)\u001b[0m\u001b[1;33m\u001b[0m\u001b[0m\n\u001b[0;32m     37\u001b[0m     \u001b[0mcur_time_str\u001b[0m\u001b[1;33m=\u001b[0m\u001b[0mtime\u001b[0m\u001b[1;33m.\u001b[0m\u001b[0mstrftime\u001b[0m\u001b[1;33m(\u001b[0m\u001b[1;34m'%Y%m%d_%H%M%S'\u001b[0m\u001b[1;33m)\u001b[0m\u001b[1;33m\u001b[0m\u001b[0m\n",
        "\u001b[1;32mC:\\Users\\Andrew\\Anaconda\\lib\\site-packages\\IPython\\parallel\\client\\asyncresult.pyc\u001b[0m in \u001b[0;36mwait_interactive\u001b[1;34m(self, interval, timeout)\u001b[0m\n\u001b[0;32m    392\u001b[0m         \u001b[0mtic\u001b[0m \u001b[1;33m=\u001b[0m \u001b[0mtime\u001b[0m\u001b[1;33m.\u001b[0m\u001b[0mtime\u001b[0m\u001b[1;33m(\u001b[0m\u001b[1;33m)\u001b[0m\u001b[1;33m\u001b[0m\u001b[0m\n\u001b[0;32m    393\u001b[0m         \u001b[1;32mwhile\u001b[0m \u001b[1;32mnot\u001b[0m \u001b[0mself\u001b[0m\u001b[1;33m.\u001b[0m\u001b[0mready\u001b[0m\u001b[1;33m(\u001b[0m\u001b[1;33m)\u001b[0m \u001b[1;32mand\u001b[0m \u001b[1;33m(\u001b[0m\u001b[0mtimeout\u001b[0m \u001b[1;33m<\u001b[0m \u001b[1;36m0\u001b[0m \u001b[1;32mor\u001b[0m \u001b[0mtime\u001b[0m\u001b[1;33m.\u001b[0m\u001b[0mtime\u001b[0m\u001b[1;33m(\u001b[0m\u001b[1;33m)\u001b[0m \u001b[1;33m-\u001b[0m \u001b[0mtic\u001b[0m \u001b[1;33m<=\u001b[0m \u001b[0mtimeout\u001b[0m\u001b[1;33m)\u001b[0m\u001b[1;33m:\u001b[0m\u001b[1;33m\u001b[0m\u001b[0m\n\u001b[1;32m--> 394\u001b[1;33m             \u001b[0mself\u001b[0m\u001b[1;33m.\u001b[0m\u001b[0mwait\u001b[0m\u001b[1;33m(\u001b[0m\u001b[0minterval\u001b[0m\u001b[1;33m)\u001b[0m\u001b[1;33m\u001b[0m\u001b[0m\n\u001b[0m\u001b[0;32m    395\u001b[0m             \u001b[0mclear_output\u001b[0m\u001b[1;33m(\u001b[0m\u001b[0mwait\u001b[0m\u001b[1;33m=\u001b[0m\u001b[0mTrue\u001b[0m\u001b[1;33m)\u001b[0m\u001b[1;33m\u001b[0m\u001b[0m\n\u001b[0;32m    396\u001b[0m             \u001b[1;32mprint\u001b[0m\u001b[1;33m(\u001b[0m\u001b[1;34m\"%4i/%i tasks finished after %4i s\"\u001b[0m \u001b[1;33m%\u001b[0m \u001b[1;33m(\u001b[0m\u001b[0mself\u001b[0m\u001b[1;33m.\u001b[0m\u001b[0mprogress\u001b[0m\u001b[1;33m,\u001b[0m \u001b[0mN\u001b[0m\u001b[1;33m,\u001b[0m \u001b[0mself\u001b[0m\u001b[1;33m.\u001b[0m\u001b[0melapsed\u001b[0m\u001b[1;33m)\u001b[0m\u001b[1;33m,\u001b[0m \u001b[0mend\u001b[0m\u001b[1;33m=\u001b[0m\u001b[1;34m\"\"\u001b[0m\u001b[1;33m)\u001b[0m\u001b[1;33m\u001b[0m\u001b[0m\n",
        "\u001b[1;32mC:\\Users\\Andrew\\Anaconda\\lib\\site-packages\\IPython\\parallel\\client\\asyncresult.pyc\u001b[0m in \u001b[0;36mwait\u001b[1;34m(self, timeout)\u001b[0m\n\u001b[0;32m    141\u001b[0m             \u001b[0mself\u001b[0m\u001b[1;33m.\u001b[0m\u001b[0m_wait_for_outputs\u001b[0m\u001b[1;33m(\u001b[0m\u001b[0mtimeout\u001b[0m\u001b[1;33m)\u001b[0m\u001b[1;33m\u001b[0m\u001b[0m\n\u001b[0;32m    142\u001b[0m             \u001b[1;32mreturn\u001b[0m\u001b[1;33m\u001b[0m\u001b[0m\n\u001b[1;32m--> 143\u001b[1;33m         \u001b[0mself\u001b[0m\u001b[1;33m.\u001b[0m\u001b[0m_ready\u001b[0m \u001b[1;33m=\u001b[0m \u001b[0mself\u001b[0m\u001b[1;33m.\u001b[0m\u001b[0m_client\u001b[0m\u001b[1;33m.\u001b[0m\u001b[0mwait\u001b[0m\u001b[1;33m(\u001b[0m\u001b[0mself\u001b[0m\u001b[1;33m.\u001b[0m\u001b[0mmsg_ids\u001b[0m\u001b[1;33m,\u001b[0m \u001b[0mtimeout\u001b[0m\u001b[1;33m)\u001b[0m\u001b[1;33m\u001b[0m\u001b[0m\n\u001b[0m\u001b[0;32m    144\u001b[0m         \u001b[1;32mif\u001b[0m \u001b[0mself\u001b[0m\u001b[1;33m.\u001b[0m\u001b[0m_ready\u001b[0m\u001b[1;33m:\u001b[0m\u001b[1;33m\u001b[0m\u001b[0m\n\u001b[0;32m    145\u001b[0m             \u001b[1;32mtry\u001b[0m\u001b[1;33m:\u001b[0m\u001b[1;33m\u001b[0m\u001b[0m\n",
        "\u001b[1;32mC:\\Users\\Andrew\\Anaconda\\lib\\site-packages\\IPython\\parallel\\client\\client.pyc\u001b[0m in \u001b[0;36mwait\u001b[1;34m(self, jobs, timeout)\u001b[0m\n\u001b[0;32m   1089\u001b[0m             \u001b[1;32mif\u001b[0m \u001b[0mtimeout\u001b[0m \u001b[1;33m>=\u001b[0m \u001b[1;36m0\u001b[0m \u001b[1;32mand\u001b[0m \u001b[1;33m(\u001b[0m \u001b[0mtime\u001b[0m\u001b[1;33m.\u001b[0m\u001b[0mtime\u001b[0m\u001b[1;33m(\u001b[0m\u001b[1;33m)\u001b[0m\u001b[1;33m-\u001b[0m\u001b[0mtic\u001b[0m \u001b[1;33m)\u001b[0m \u001b[1;33m>\u001b[0m \u001b[0mtimeout\u001b[0m\u001b[1;33m:\u001b[0m\u001b[1;33m\u001b[0m\u001b[0m\n\u001b[0;32m   1090\u001b[0m                 \u001b[1;32mbreak\u001b[0m\u001b[1;33m\u001b[0m\u001b[0m\n\u001b[1;32m-> 1091\u001b[1;33m             \u001b[0mtime\u001b[0m\u001b[1;33m.\u001b[0m\u001b[0msleep\u001b[0m\u001b[1;33m(\u001b[0m\u001b[1;36m1e-3\u001b[0m\u001b[1;33m)\u001b[0m\u001b[1;33m\u001b[0m\u001b[0m\n\u001b[0m\u001b[0;32m   1092\u001b[0m             \u001b[0mself\u001b[0m\u001b[1;33m.\u001b[0m\u001b[0mspin\u001b[0m\u001b[1;33m(\u001b[0m\u001b[1;33m)\u001b[0m\u001b[1;33m\u001b[0m\u001b[0m\n\u001b[0;32m   1093\u001b[0m         \u001b[1;32mreturn\u001b[0m \u001b[0mlen\u001b[0m\u001b[1;33m(\u001b[0m\u001b[0mtheids\u001b[0m\u001b[1;33m.\u001b[0m\u001b[0mintersection\u001b[0m\u001b[1;33m(\u001b[0m\u001b[0mself\u001b[0m\u001b[1;33m.\u001b[0m\u001b[0moutstanding\u001b[0m\u001b[1;33m)\u001b[0m\u001b[1;33m)\u001b[0m \u001b[1;33m==\u001b[0m \u001b[1;36m0\u001b[0m\u001b[1;33m\u001b[0m\u001b[0m\n",
        "\u001b[1;31mKeyboardInterrupt\u001b[0m: "
       ]
      }
     ],
     "prompt_number": 115
    },
    {
     "cell_type": "code",
     "collapsed": false,
     "input": [
      "MCAsyncMapResult09.abort()"
     ],
     "language": "python",
     "metadata": {},
     "outputs": [],
     "prompt_number": 116
    },
    {
     "cell_type": "code",
     "collapsed": false,
     "input": [],
     "language": "python",
     "metadata": {},
     "outputs": []
    },
    {
     "cell_type": "code",
     "collapsed": false,
     "input": [
      "MCgenr09_1 = runMC(.9, 5163, append_folder=\"20150413_112135\", fun=autocorrelated_errors, df=x2000)\n",
      "MCAsyncMapResult09_1 = next(MCgenr09_1)"
     ],
     "language": "python",
     "metadata": {},
     "outputs": [
      {
       "output_type": "stream",
       "stream": "stdout",
       "text": [
        "Starting MC on 13 cores, 5163 replications of \"autocorrelated_errors\" with rho = 0.90 observations\n",
        "If you again run next(), you will get wait_interactive() form and results would be backed up\n",
        "Untill then you are free to use AsyncResult object that was apready yielded, but data will not be backed up!\n",
        "\\\\DAP-NAS\\work\\CNOP\\dumps\\temp/20150413_112135/\n"
       ]
      }
     ],
     "prompt_number": 129
    },
    {
     "cell_type": "code",
     "collapsed": false,
     "input": [
      "results09_1=next(MCgenr09_1)"
     ],
     "language": "python",
     "metadata": {},
     "outputs": [
      {
       "output_type": "stream",
       "stream": "stdout",
       "text": [
        "5163/5163 tasks finished after 20177 s"
       ]
      },
      {
       "output_type": "stream",
       "stream": "stdout",
       "text": [
        "\n",
        "done\n"
       ]
      },
      {
       "ename": "CompositeError",
       "evalue": "one or more exceptions from call to method: doJob\n[3:apply]: IOError: [Errno 22] invalid mode ('wb') or filename: '\\\\\\\\DAP-NAS\\\\work\\\\CNOP\\\\dumps\\\\temp/20150413_112135/201504131923430.659241939717'",
       "output_type": "pyerr",
       "traceback": [
        "[3:apply]: ",
        "\u001b[1;31m---------------------------------------------------------------------------\u001b[0m",
        "\u001b[1;31mIOError\u001b[0m                                   Traceback (most recent call last)\u001b[1;32m<string>\u001b[0m in \u001b[0;36m<module>\u001b[1;34m()\u001b[0m",
        "\u001b[1;32m<ipython-input-124-3e6ecde4e1e0>\u001b[0m in \u001b[0;36mdoJob\u001b[1;34m(i)\u001b[0m",
        "\u001b[1;31mIOError\u001b[0m: [Errno 22] invalid mode ('wb') or filename: '\\\\\\\\DAP-NAS\\\\work\\\\CNOP\\\\dumps\\\\temp/20150413_112135/201504131923430.659241939717'",
        ""
       ]
      }
     ],
     "prompt_number": 130
    },
    {
     "cell_type": "markdown",
     "metadata": {},
     "source": [
      "---"
     ]
    },
    {
     "cell_type": "code",
     "collapsed": false,
     "input": [
      "%%px --local\n",
      "\n",
      "\n",
      "def autocorrelated_errors_x(rho, df, give_distortion=True):\n",
      "    ###########################################################\n",
      "    ##### This code is for partial-overlap case of CNOP########\n",
      "    ###########################################################\n",
      "    N=500\n",
      "\n",
      "    #PreSampling:\n",
      "    df = df[:N]\n",
      "    #df = x2000[:N]\n",
      "    \n",
      "    ### DGP generation\n",
      "    regime = pd.DataFrame() \n",
      "    beta,   alpha   = [0.6, 0.4], [0.9, 1.5]\n",
      "    gammam, mum =     [0.3, 0.9], [-0.67, 0.36]\n",
      "    gammap, mup =     [0.2, 0.3], [0.02, 1.28]\n",
      "    distortion = arma_generate_sample(ar = [1, -rho], ma=[1], nsample = N)\n",
      "    distortion = np.vstack((distortion, np.random.randn(2,N)))\n",
      "    regime[\"xbeta\"]    = df[[\"X1\", \"X2\"]].dot(beta)    + distortion[0]\n",
      "    regime['z-gammam'] = df[[\"X1\", \"X3\"]].dot(gammam)  + distortion[1]\n",
      "    regime['z+gammap'] = df[[\"X2\", \"X3\"]].dot(gammap)  + distortion[2]\n",
      "    regime['regime'] = regime['xbeta'].apply(lambda x: threshold(x,thresholds=alpha))\n",
      "    regime['Y-']=regime['z-gammam'].apply(lambda x: threshold(x, thresholds=mum,values=[-2,-1,0]))\n",
      "    regime['Y+']=regime['z+gammap'].apply(lambda x: threshold(x, thresholds=mup,values=[0,1,2]))\n",
      "    df['Y'] = 0\n",
      "    df['Y'] += np.where(regime['regime']==-1,regime['Y-'],0)\n",
      "    df['Y'] += np.where(regime['regime']==1,regime['Y+'],0)\n",
      "    ###df is full data matrix\n",
      "\n",
      "    #Model starts here:\n",
      "    exog = df[[\"X1\", \"X2\", \"X3\"]]\n",
      "    endog = df[[\"Y\"]]\n",
      "    l = {0:df}\n",
      "    pan = pd.Panel(l)\n",
      "    y      = pan.ix[:,:,['Y']]\n",
      "    x      = pan.ix[:,:,[\"X1\", \"X2\"]]\n",
      "    zminus = pan.ix[:,:,[\"X1\", \"X3\"]]\n",
      "    zplus  = pan.ix[:,:,[\"X2\", \"X3\"]]\n",
      "    exog = {'x':x,'zplus':zplus,'zminus':zminus}\n",
      "    CNOP4 = CNOP(y,exog, model='CNOP',interest_step=1)\n",
      "\n",
      "    #Counting execution time for fit ...\n",
      "    exec_time = {\"fit\":0,\"se\":0}\n",
      "    start_time = time.time()\n",
      "    res = CNOP4.fit( maxiter=250, disp=0)\n",
      "    exec_time[\"fit\"] = time.time() - start_time\n",
      "\n",
      "    # And for Standard Errors as well\n",
      "    try:\n",
      "        start_time = time.time()\n",
      "        res[\"se\"] = CNOP4.se(res.x)\n",
      "        exec_time[\"se\"] = time.time() - start_time\n",
      "        res['status'] = \"OK\"\n",
      "    except Exception, e:\n",
      "        print e\n",
      "        res['status'] = e\n",
      "\n",
      "    res[\"exec_time\"]=exec_time\n",
      "\n",
      "    if give_distortion:\n",
      "        return res, distortion\n",
      "    else:\n",
      "        return res    "
     ],
     "language": "python",
     "metadata": {},
     "outputs": [],
     "prompt_number": 227
    },
    {
     "cell_type": "code",
     "collapsed": false,
     "input": [
      "rho=0.5\n",
      "res, distortion = autocorrelated_errors_x(rho=rho, df=x2000)\n",
      "print \"Done for rho=%.3f\" % (rho)\n",
      "print \"Res.status:\", res.success\n",
      "\n",
      "beta,   alpha   = [0.6, 0.4], [0.9, 1.5]\n",
      "gammam, mum =     [0.3, 0.9], [-0.67, 0.36]\n",
      "gammap, mup =     [0.2, 0.3], [0.02, 1.28]\n",
      "res_real = beta+alpha+gammam+mum+gammap+mup\n",
      "plt.bar(np.arange(len(res.x-res_real)),\n",
      "                  list(res.x-res_real));\n",
      "\n",
      "winsound.PlaySound(u'C:\\Windows\\Media\\Windows Print complete.wav', winsound.SND_FILENAME)\n",
      "print \"X & SE:\"\n",
      "print np.dstack((res.x,np.array(res.se)))"
     ],
     "language": "python",
     "metadata": {},
     "outputs": [
      {
       "output_type": "stream",
       "stream": "stdout",
       "text": [
        "Done for rho=0.500\n",
        "Res.status: True\n",
        "X & SE:"
       ]
      },
      {
       "output_type": "stream",
       "stream": "stdout",
       "text": [
        "\n",
        "[[[ 0.84972254  0.18173823]\n",
        "  [ 0.7489793   0.17787902]\n",
        "  [ 1.55194172  0.42990198]\n",
        "  [ 2.00233154  0.32720411]\n",
        "  [ 0.45951546  0.11553206]\n",
        "  [ 1.0535065   0.15988364]\n",
        "  [-0.62816143  0.17627021]\n",
        "  [ 0.57960918  0.2336302 ]\n",
        "  [ 0.12485229  0.13313939]\n",
        "  [ 0.15623085  0.13031907]\n",
        "  [ 0.29471577  0.2415521 ]\n",
        "  [ 1.21508746  0.18874771]]]\n"
       ]
      },
      {
       "metadata": {},
       "output_type": "display_data",
       "png": "[encoded data removed]",
       "text": [
        "<matplotlib.figure.Figure at 0x4cded208>"
       ]
      }
     ],
     "prompt_number": 147
    },
    {
     "cell_type": "code",
     "collapsed": false,
     "input": [
      "MCgenr03 = runMC(.3, 8503, fun=autocorrelated_errors_x, df=x2000)\n",
      "MCAsyncMapResult03 = next(MCgenr03)"
     ],
     "language": "python",
     "metadata": {},
     "outputs": [
      {
       "output_type": "stream",
       "stream": "stdout",
       "text": [
        "Starting MC on 13 cores, 8503 replications of \"autocorrelated_errors_x\" with rho = 0.30 observations\n",
        "If you again run next(), you will get wait_interactive() form and results would be backed up\n",
        "Untill then you are free to use AsyncResult object that was apready yielded, but data will not be backed up!\n",
        "\\\\DAP-NAS\\work\\CNOP\\dumps\\temp/20150413_234307/"
       ]
      },
      {
       "output_type": "stream",
       "stream": "stdout",
       "text": [
        "\n"
       ]
      }
     ],
     "prompt_number": 212
    },
    {
     "cell_type": "code",
     "collapsed": false,
     "input": [
      "results03=next(MCgenr03)"
     ],
     "language": "python",
     "metadata": {},
     "outputs": [
      {
       "output_type": "stream",
       "stream": "stdout",
       "text": [
        "8503/8503 tasks finished after 24731 s"
       ]
      },
      {
       "output_type": "stream",
       "stream": "stdout",
       "text": [
        "\n",
        "done\n",
        "DONE! DB in \\\\DAP-NAS\\work\\CNOP\\dumps\\temp/20150413_234307/\n"
       ]
      }
     ],
     "prompt_number": 213
    },
    {
     "cell_type": "code",
     "collapsed": false,
     "input": [],
     "language": "python",
     "metadata": {},
     "outputs": []
    },
    {
     "cell_type": "code",
     "collapsed": false,
     "input": [
      "MCgenr06 = runMC(.6, 10000, fun=autocorrelated_errors_x, df=x2000)\n",
      "MCAsyncMapResult06 = next(MCgenr06)"
     ],
     "language": "python",
     "metadata": {},
     "outputs": [
      {
       "output_type": "stream",
       "stream": "stdout",
       "text": [
        "Starting MC on 9 cores, 10000 replications of \"autocorrelated_errors_x\" with rho = 0.60 observations\n",
        "If you again run next(), you will get wait_interactive() form and results would be backed up\n",
        "Untill then you are free to use AsyncResult object that was apready yielded, but data will not be backed up!\n",
        "\\\\DAP-NAS\\work\\CNOP\\dumps\\temp/20150414_085358/"
       ]
      },
      {
       "output_type": "stream",
       "stream": "stdout",
       "text": [
        "\n"
       ]
      }
     ],
     "prompt_number": 220
    },
    {
     "cell_type": "code",
     "collapsed": false,
     "input": [
      "results06=next(MCgenr06)"
     ],
     "language": "python",
     "metadata": {},
     "outputs": [
      {
       "output_type": "stream",
       "stream": "stdout",
       "text": [
        "10000/10000 tasks finished after 44152 s"
       ]
      },
      {
       "output_type": "stream",
       "stream": "stdout",
       "text": [
        "\n",
        "done\n"
       ]
      },
      {
       "ename": "CompositeError",
       "evalue": "one or more exceptions from call to method: doJob\n[2:apply]: IOError: [Errno 22] invalid mode ('wb') or filename: '\\\\\\\\DAP-NAS\\\\work\\\\CNOP\\\\dumps\\\\temp/20150414_085358/201504141252390.490266502233'",
       "output_type": "pyerr",
       "traceback": [
        "[2:apply]: ",
        "\u001b[1;31m---------------------------------------------------------------------------\u001b[0m",
        "\u001b[1;31mIOError\u001b[0m                                   Traceback (most recent call last)\u001b[1;32m<string>\u001b[0m in \u001b[0;36m<module>\u001b[1;34m()\u001b[0m",
        "\u001b[1;32m<ipython-input-209-3e6ecde4e1e0>\u001b[0m in \u001b[0;36mdoJob\u001b[1;34m(i)\u001b[0m",
        "\u001b[1;31mIOError\u001b[0m: [Errno 22] invalid mode ('wb') or filename: '\\\\\\\\DAP-NAS\\\\work\\\\CNOP\\\\dumps\\\\temp/20150414_085358/201504141252390.490266502233'",
        ""
       ]
      }
     ],
     "prompt_number": 221
    },
    {
     "cell_type": "code",
     "collapsed": false,
     "input": [],
     "language": "python",
     "metadata": {},
     "outputs": []
    },
    {
     "cell_type": "raw",
     "metadata": {},
     "source": [
      "MCgenr09 = runMC(.9, 10000, fun=autocorrelated_errors_x, df=x2000)\n",
      "MCAsyncMapResult09 = next(MCgenr09)"
     ]
    },
    {
     "cell_type": "code",
     "collapsed": false,
     "input": [
      "results09=next(MCgenr09)"
     ],
     "language": "python",
     "metadata": {},
     "outputs": [
      {
       "output_type": "stream",
       "stream": "stdout",
       "text": [
        "10000/10000 tasks finished after 32218 s"
       ]
      },
      {
       "output_type": "stream",
       "stream": "stdout",
       "text": [
        "\n",
        "done\n",
        "DONE! DB in \\\\DAP-NAS\\work\\CNOP\\dumps\\temp/20150415_000032/\n"
       ]
      }
     ],
     "prompt_number": 231
    },
    {
     "cell_type": "code",
     "collapsed": false,
     "input": [],
     "language": "python",
     "metadata": {},
     "outputs": []
    },
    {
     "cell_type": "code",
     "collapsed": false,
     "input": [],
     "language": "python",
     "metadata": {},
     "outputs": []
    },
    {
     "cell_type": "code",
     "collapsed": false,
     "input": [],
     "language": "python",
     "metadata": {},
     "outputs": []
    },
    {
     "cell_type": "code",
     "collapsed": false,
     "input": [],
     "language": "python",
     "metadata": {},
     "outputs": []
    },
    {
     "cell_type": "code",
     "collapsed": false,
     "input": [],
     "language": "python",
     "metadata": {},
     "outputs": []
    },
    {
     "cell_type": "code",
     "collapsed": false,
     "input": [],
     "language": "python",
     "metadata": {},
     "outputs": []
    },
    {
     "cell_type": "code",
     "collapsed": false,
     "input": [
      "(np.matrix([[1,2,3],[4,5,6],[7,8,9],[10,12,12]])-[1,2,3]).mean(axis=1)"
     ],
     "language": "python",
     "metadata": {},
     "outputs": [
      {
       "metadata": {},
       "output_type": "pyout",
       "prompt_number": 65,
       "text": [
        "matrix([[ 0.        ],\n",
        "        [ 3.        ],\n",
        "        [ 6.        ],\n",
        "        [ 9.33333333]])"
       ]
      }
     ],
     "prompt_number": 65
    },
    {
     "cell_type": "code",
     "collapsed": false,
     "input": [
      "rho=0.5\n",
      "N=1000"
     ],
     "language": "python",
     "metadata": {},
     "outputs": [],
     "prompt_number": 17
    },
    {
     "cell_type": "code",
     "collapsed": false,
     "input": [
      "ACrng = np.array([arma_generate_sample(ar = [1, -rho], ma=[1], nsample = N) for i in range(3)])"
     ],
     "language": "python",
     "metadata": {},
     "outputs": [],
     "prompt_number": 18
    },
    {
     "cell_type": "code",
     "collapsed": false,
     "input": [
      "ACrng[0].mean()"
     ],
     "language": "python",
     "metadata": {},
     "outputs": [
      {
       "metadata": {},
       "output_type": "pyout",
       "prompt_number": 33,
       "text": [
        "-0.069112463199309387"
       ]
      }
     ],
     "prompt_number": 33
    },
    {
     "cell_type": "code",
     "collapsed": false,
     "input": [
      "import statsmodels.tsa.stattools"
     ],
     "language": "python",
     "metadata": {},
     "outputs": [],
     "prompt_number": 36
    },
    {
     "cell_type": "code",
     "collapsed": false,
     "input": [
      "statsmodels.tsa.stattools.acf(ACrng[0])"
     ],
     "language": "python",
     "metadata": {},
     "outputs": [
      {
       "metadata": {},
       "output_type": "pyout",
       "prompt_number": 39,
       "text": [
        "array([ 1.        ,  0.50132144,  0.22020868,  0.09132236,  0.02982614,\n",
        "       -0.01942175, -0.01105547,  0.01568259,  0.03015956,  0.06453532,\n",
        "        0.05803312,  0.04706826,  0.03739803,  0.04235316,  0.03462817,\n",
        "        0.03484475,  0.02692754,  0.04061451,  0.03164208,  0.00298074,\n",
        "       -0.00764724, -0.00509256,  0.00583346, -0.00267002, -0.0435213 ,\n",
        "       -0.06878025, -0.0392789 , -0.01162159,  0.03902757,  0.041136  ,\n",
        "        0.02605928,  0.0185213 ,  0.00839297, -0.03121933, -0.05212769,\n",
        "       -0.0130405 , -0.0031086 ,  0.05032496,  0.05278086,  0.0166053 ,\n",
        "       -0.06411126])"
       ]
      }
     ],
     "prompt_number": 39
    }
   ],
   "metadata": {}
  }
 ]
}