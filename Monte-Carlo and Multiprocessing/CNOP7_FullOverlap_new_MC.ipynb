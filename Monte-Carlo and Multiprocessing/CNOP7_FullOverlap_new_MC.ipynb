{
 "metadata": {
  "name": "",
  "signature": "sha256:b00c0a63029ccc50bd3c5f7463fe38dcd6af16554fe21f329b60c9fcf327930f"
 },
 "nbformat": 3,
 "nbformat_minor": 0,
 "worksheets": [
  {
   "cells": [
    {
     "cell_type": "code",
     "collapsed": false,
     "input": [
      "from IPython import parallel\n",
      "clients = parallel.Client(profile='parallel')"
     ],
     "language": "python",
     "metadata": {},
     "outputs": [],
     "prompt_number": 1
    },
    {
     "cell_type": "code",
     "collapsed": false,
     "input": [
      "print clients.ids\n",
      "print \"Total %i cores\"%(len(clients.ids))"
     ],
     "language": "python",
     "metadata": {},
     "outputs": [
      {
       "output_type": "stream",
       "stream": "stdout",
       "text": [
        "[0, 1, 2, 3, 4, 5, 6, 7, 8, 9, 10, 11, 12, 13, 14, 15, 16]\n",
        "Total 17 cores\n"
       ]
      }
     ],
     "prompt_number": 3
    },
    {
     "cell_type": "code",
     "collapsed": false,
     "input": [
      "%%px --local\n",
      "\n",
      "import sys\n",
      "sys.path.append(\"\\\\\\\\DAP-NAS\\\\work\\\\CNOP\")\n",
      "import cPickle as pickle\n",
      "import numpy as np\n",
      "import pandas as pd\n",
      "from statsmodels.tsa.arima_process import arma_generate_sample\n",
      "import matplotlib.pyplot as plt\n",
      "import numpy as np\n",
      "from CNOP import CNOP\n",
      "import winsound\n",
      "def threshold(x,thresholds=[],values=[-1,0,1]):\n",
      "    for threshold,val in zip(thresholds,values):\n",
      "        if x < threshold: \n",
      "            return val\n",
      "    return values[-1]\n",
      "import time\n",
      "from itertools import repeat\n",
      "import os\n",
      "from datetime import datetime\n"
     ],
     "language": "python",
     "metadata": {},
     "outputs": [],
     "prompt_number": 4
    },
    {
     "cell_type": "code",
     "collapsed": false,
     "input": [
      "%%px --local\n",
      "x2000 = pd.read_csv(\"\\\\\\\\DAP-NAS\\\\work\\\\CNOP\\\\x2000.csv\", delimiter=\";\")"
     ],
     "language": "python",
     "metadata": {},
     "outputs": [],
     "prompt_number": 5
    },
    {
     "cell_type": "code",
     "collapsed": false,
     "input": [
      "%%px --local\n",
      "\n",
      "N=100\n",
      "\n",
      "def full_overlap(N, df, give_distortion=True):\n",
      "    ########################################################\n",
      "    ##### This code is for full-overlap case of CNOP########\n",
      "    ########################################################\n",
      "\n",
      "    #PreSampling:\n",
      "    df = df[:N]\n",
      "    #df = x2000[:N]\n",
      "    \n",
      "    ### DGP generation\n",
      "    regime = pd.DataFrame() \n",
      "    beta,   alpha   = [0.6, 0.4, 0.8], [0.85, 1.55]\n",
      "    gammam, mum =     [0.4, 0.3, 0.9], [-1.2, 0.07]\n",
      "    gammap, mup =     [0.2, 0.8, 0.3], [1.28, 2.5]\n",
      "    distortion = np.random.randn(3,N)\n",
      "    regime[\"xbeta\"]    = df.dot(beta) + distortion[0]\n",
      "    regime['z-gammam'] = df.dot(gammam)  + distortion[1]\n",
      "    regime['z+gammap'] = df.dot(gammap)  + distortion[2]\n",
      "    regime['regime'] = regime['xbeta'].apply(lambda x: threshold(x,thresholds=alpha))\n",
      "    regime['Y-']=regime['z-gammam'].apply(lambda x: threshold(x, thresholds=mum,values=[-2,-1,0]))\n",
      "    regime['Y+']=regime['z+gammap'].apply(lambda x: threshold(x, thresholds=mup,values=[0,1,2]))\n",
      "    df['Y'] = 0\n",
      "    df['Y'] += np.where(regime['regime']==-1,regime['Y-'],0)\n",
      "    df['Y'] += np.where(regime['regime']==1,regime['Y+'],0)\n",
      "    ###df is full data matrix\n",
      "\n",
      "    #Model starts here:\n",
      "    exog = df[[\"X1\", \"X2\", \"X3\"]]\n",
      "    endog = df[[\"Y\"]]\n",
      "    l = {0:df}\n",
      "    pan = pd.Panel(l)\n",
      "    y      = pan.ix[:,:,['Y']]\n",
      "    x      = pan.ix[:,:,[\"X1\", \"X2\", \"X3\"]]\n",
      "    zminus = pan.ix[:,:,[\"X1\", \"X2\", \"X3\"]]\n",
      "    zplus  = pan.ix[:,:,[\"X1\", \"X2\", \"X3\"]]\n",
      "    exog = {'x':x,'zplus':zplus,'zminus':zminus}\n",
      "    CNOP4 = CNOP(y,exog, model='CNOP',interest_step=1)\n",
      "\n",
      "    #Counting execution time for fit ...\n",
      "    exec_time = {\"fit\":0,\"se\":0}\n",
      "    start_time = time.time()\n",
      "    res = CNOP4.fit( maxiter=250, disp=0)\n",
      "    exec_time[\"fit\"] = time.time() - start_time\n",
      "\n",
      "    # And for Standard Errors as well\n",
      "    try:\n",
      "        start_time = time.time()\n",
      "        res[\"se\"] = CNOP4.se(res.x)\n",
      "        exec_time[\"se\"] = time.time() - start_time\n",
      "        res['status'] = \"OK\"\n",
      "    except Exception, e:\n",
      "        print e\n",
      "        res['status'] = e\n",
      "\n",
      "    res[\"exec_time\"]=exec_time\n",
      "\n",
      "    if give_distortion:\n",
      "        return res, distortion\n",
      "    else:\n",
      "        return res    "
     ],
     "language": "python",
     "metadata": {},
     "outputs": [],
     "prompt_number": 6
    },
    {
     "cell_type": "code",
     "collapsed": false,
     "input": [
      "N=100\n",
      "res, distortion = full_overlap(N, df=x2000)\n",
      "print \"Done for N=%i\" % (N)\n",
      "print \"Res.status:\", res.success\n",
      "\n",
      "beta,   alpha   = [0.6, 0.4, 0.8], [0.85, 1.55]\n",
      "gammam, mum =     [0.4, 0.3, 0.9], [-1.2, 0.07]\n",
      "gammap, mup =     [0.2, 0.8, 0.3], [1.28, 2.5]\n",
      "res_real = beta+alpha+gammam+mum+gammap+mup\n",
      "%matplotlib inline\n",
      "_ = plt.bar(np.arange(len(res.x-res_real)),\n",
      "                  list(res.x-res_real))\n",
      "\n",
      "winsound.PlaySound(u'C:\\Windows\\Media\\Windows Print complete.wav', winsound.SND_FILENAME)\n",
      "print \"X & SE:\", np.dstack((res[\"x\"],res[\"se\"]))"
     ],
     "language": "python",
     "metadata": {},
     "outputs": [
      {
       "output_type": "stream",
       "stream": "stdout",
       "text": [
        "Done for N=100\n",
        "Res.status: True\n",
        "X & SE:"
       ]
      },
      {
       "output_type": "stream",
       "stream": "stdout",
       "text": [
        " [[[  2.81476767e-01   1.69101785e-01]\n",
        "  [  4.10339962e-01   1.54701777e-01]\n",
        "  [  1.10619866e+00   2.46646900e-01]\n",
        "  [ -5.23392304e-01   2.99204718e-01]\n",
        "  [  2.22209892e+00   4.77711028e-01]\n",
        "  [  2.84088182e+00   1.86006294e+00]\n",
        "  [ -2.97480086e-01   6.36473368e-01]\n",
        "  [  2.35259017e+00   1.76802337e+00]\n",
        "  [  7.87947780e-01   1.33009169e+00]\n",
        "  [  7.99017787e+00   5.87944485e+00]\n",
        "  [  4.40798118e+01   8.41972438e+04]\n",
        "  [  1.28265188e+02              nan]\n",
        "  [  9.00229536e+01   1.20072540e+05]\n",
        "  [  2.23739824e+01   1.20914887e+05]\n",
        "  [  2.42965786e+02   3.60215399e+05]]]\n"
       ]
      },
      {
       "metadata": {},
       "output_type": "display_data",
       "png": "[encoded data removed]",
       "text": [
        "<matplotlib.figure.Figure at 0x1a0d5e10>"
       ]
      }
     ],
     "prompt_number": 8
    },
    {
     "cell_type": "code",
     "collapsed": false,
     "input": [
      "%%px --local\n",
      "\n",
      "def runMC(n_obs, n_repl, fun, path = \"W:/CNOP/dumps/\", prefix = \"CNOPres\", ext = \".p\", **kwargs):\n",
      "    print \"Starting MC on %i cores, %i replications of \\\"%s\\\" with %i observations\"\\\n",
      "               %(len(clients.ids), n_repl, fun.__name__, n_obs)\n",
      "    print \"If you again run next(), you will get wait_interactive() form and results would be backed up\"\n",
      "    print \"Untill then you are free to use AsyncResult object that was apready yielded, but data will not be backed up!\"\n",
      "    view = clients.load_balanced_view()\n",
      "\n",
      "    def doJob(i):\n",
      "        n_obs,path,fun, kwargs=i\n",
      "        dumb_str=time.strftime(\"%Y%m%d%H%M%S\")+str(np.random.rand())\n",
      "\n",
      "        filename = path + dumb_str\n",
      "\n",
      "        try:\n",
      "            local_res = fun(n_obs, **kwargs)\n",
      "            pickle.dump(local_res, open( filename, \"wb\" ) )\n",
      "            return local_res, filename\n",
      "        except Exception, e:\n",
      "            pickle.dump(e, open( filename, \"wb\" ) )\n",
      "            return Exception, e, filename\n",
      "    \n",
      "    cur_time_str=time.strftime('%Y%m%d_%H%M%S')\n",
      "    temp_folder_str = path+'temp/'+cur_time_str+\"/\"\n",
      "    if not os.path.exists(temp_folder_str):\n",
      "        os.makedirs(temp_folder_str)\n",
      "\n",
      "    print temp_folder_str\n",
      "    readme_f = file(temp_folder_str+\"!README.txt\", \"w\")\n",
      "    readme_f.write(\"Doing MC on %i cores, %i replications of \\\"%s\\\" with %i observations\"\\\n",
      "                   %(len(clients.ids), n_repl, fun.__name__, n_obs))\n",
      "    readme_f.close()\n",
      "\n",
      "    ar = view.map_async(doJob, [[n_obs, temp_folder_str, fun, kwargs]]*n_repl)\n",
      "    yield ar\n",
      "\n",
      "    ar.wait_interactive()\n",
      "    results = ar.get()\n",
      "    cur_time_str=time.strftime('%Y%m%d_%H%M%S')\n",
      "    filename = path + prefix + cur_time_str + ext\n",
      "    print \"DONE! DB in %s\"%(temp_folder_str)\n",
      "    yield results\n",
      "\n",
      "        "
     ],
     "language": "python",
     "metadata": {},
     "outputs": [],
     "prompt_number": 7
    },
    {
     "cell_type": "code",
     "collapsed": false,
     "input": [
      "MCgenr = runMC(250, 10000, full_overlap, df=x2000)\n",
      "MCAsyncMapResult = next(MCgenr)"
     ],
     "language": "python",
     "metadata": {},
     "outputs": [
      {
       "output_type": "stream",
       "stream": "stdout",
       "text": [
        "Starting MC on 8 cores, 10000 replications of \"full_overlap\" with 250 observations\n",
        "If you again run next(), you will get wait_interactive() form and results would be backed up\n",
        "Untill then you are free to use AsyncResult object that was apready yielded, but data will not be backed up!\n",
        "W:/CNOP/dumps/temp/20150323_212714/\n"
       ]
      }
     ],
     "prompt_number": 8
    },
    {
     "cell_type": "code",
     "collapsed": false,
     "input": [
      "results=next(MCgenr)"
     ],
     "language": "python",
     "metadata": {},
     "outputs": [
      {
       "output_type": "stream",
       "stream": "stdout",
       "text": [
        "10000/10000 tasks finished after 31304 s"
       ]
      },
      {
       "output_type": "stream",
       "stream": "stdout",
       "text": [
        "\n",
        "done\n",
        "DONE! DB in W:/CNOP/dumps/temp/20150323_212714/\n"
       ]
      }
     ],
     "prompt_number": 9
    },
    {
     "cell_type": "code",
     "collapsed": false,
     "input": [
      "res_250obs = results"
     ],
     "language": "python",
     "metadata": {},
     "outputs": [],
     "prompt_number": 10
    },
    {
     "cell_type": "code",
     "collapsed": false,
     "input": [
      "fails = [x for x in results if len(x[0])<2]"
     ],
     "language": "python",
     "metadata": {},
     "outputs": [],
     "prompt_number": 27
    },
    {
     "cell_type": "code",
     "collapsed": false,
     "input": [
      "fails"
     ],
     "language": "python",
     "metadata": {},
     "outputs": [
      {
       "metadata": {},
       "output_type": "pyout",
       "prompt_number": 28,
       "text": [
        "[]"
       ]
      }
     ],
     "prompt_number": 28
    },
    {
     "cell_type": "code",
     "collapsed": false,
     "input": [
      "fails_obj = [pickle.load(file(x, \"r\")) for x in fails]"
     ],
     "language": "python",
     "metadata": {},
     "outputs": [],
     "prompt_number": 90
    },
    {
     "cell_type": "code",
     "collapsed": false,
     "input": [
      "fails_obj"
     ],
     "language": "python",
     "metadata": {},
     "outputs": [
      {
       "metadata": {},
       "output_type": "pyout",
       "prompt_number": 91,
       "text": [
        "[IndexError('index 14 is out of bounds for axis 0 with size 14'),\n",
        " IndexError('index 14 is out of bounds for axis 0 with size 14'),\n",
        " IndexError('index 14 is out of bounds for axis 0 with size 14'),\n",
        " IndexError('index 14 is out of bounds for axis 0 with size 14'),\n",
        " IndexError('index 14 is out of bounds for axis 0 with size 14'),\n",
        " IndexError('index 14 is out of bounds for axis 0 with size 14')]"
       ]
      }
     ],
     "prompt_number": 91
    },
    {
     "cell_type": "code",
     "collapsed": false,
     "input": [
      "res_100obs = [x[0][0] for x in results if len(x[0])>0 and x[0][0].success]"
     ],
     "language": "python",
     "metadata": {},
     "outputs": [],
     "prompt_number": 29
    },
    {
     "cell_type": "code",
     "collapsed": false,
     "input": [
      "xs100 =np.mean([i.x for i in res_100obs], axis = 0)\n",
      "se100_true = np.std([i.x for i in res_100obs], axis=0)\n",
      "ses100 =np.nanmean([i.se for i in res_100obs if \"se\" in i], axis = 0)"
     ],
     "language": "python",
     "metadata": {},
     "outputs": [],
     "prompt_number": 30
    },
    {
     "cell_type": "code",
     "collapsed": false,
     "input": [
      "_ = plt.bar(np.arange(len(xs100-res_real)),\n",
      "                  list(xs100-res_real), label=\"params\")\n",
      "plt.axis([0,18,-10,10])\n",
      "print \"SE (true):\", se100_true\n",
      "print \"Bias:\", np.mean(xs100-res_real)\n",
      "print \"RMSE:\", np.sqrt(np.mean((xs100-res_real)**2))"
     ],
     "language": "python",
     "metadata": {},
     "outputs": [
      {
       "output_type": "stream",
       "stream": "stdout",
       "text": [
        "SE (true): [ 0.383111    0.44997838  0.50774186  1.18040036  1.01104538  0.3427681\n",
        "  0.30961436  0.7105371   0.73162982  2.23039764  0.47624193  0.58189487\n",
        "  1.02723329  2.66345378  1.77246904]\n",
        "Bias: 0.105209810719\n",
        "RMSE: 0.535956128539\n"
       ]
      },
      {
       "metadata": {},
       "output_type": "display_data",
       "png": "[encoded data removed]",
       "text": [
        "<matplotlib.figure.Figure at 0x1a0662b0>"
       ]
      }
     ],
     "prompt_number": 31
    },
    {
     "cell_type": "code",
     "collapsed": false,
     "input": [
      "pickle.loads(fails[0])"
     ],
     "language": "python",
     "metadata": {},
     "outputs": [
      {
       "ename": "UnpicklingError",
       "evalue": "invalid load key, 'W'.",
       "output_type": "pyerr",
       "traceback": [
        "\u001b[1;31m---------------------------------------------------------------------------\u001b[0m\n\u001b[1;31mUnpicklingError\u001b[0m                           Traceback (most recent call last)",
        "\u001b[1;32m<ipython-input-89-db1e9629214b>\u001b[0m in \u001b[0;36m<module>\u001b[1;34m()\u001b[0m\n\u001b[1;32m----> 1\u001b[1;33m \u001b[0mpickle\u001b[0m\u001b[1;33m.\u001b[0m\u001b[0mloads\u001b[0m\u001b[1;33m(\u001b[0m\u001b[0mfails\u001b[0m\u001b[1;33m[\u001b[0m\u001b[1;36m0\u001b[0m\u001b[1;33m]\u001b[0m\u001b[1;33m)\u001b[0m\u001b[1;33m\u001b[0m\u001b[0m\n\u001b[0m",
        "\u001b[1;31mUnpicklingError\u001b[0m: invalid load key, 'W'."
       ]
      }
     ],
     "prompt_number": 89
    },
    {
     "cell_type": "code",
     "collapsed": false,
     "input": [
      "MCgenr = runMC(100, 10000, full_overlap, df=x2000)\n",
      "MCAsyncMapResult = next(MCgenr)"
     ],
     "language": "python",
     "metadata": {},
     "outputs": [
      {
       "output_type": "stream",
       "stream": "stdout",
       "text": [
        "Starting MC on 8 cores, 10000 replications of \"full_overlap\" with 100 observations\n",
        "If you again run next(), you will get wait_interactive() form and results would be backed up\n",
        "Untill then you are free to use AsyncResult object that was apready yielded, but data will not be backed up!\n",
        "W:/CNOP/dumps/temp/20150324_060859/"
       ]
      },
      {
       "output_type": "stream",
       "stream": "stdout",
       "text": [
        "\n"
       ]
      }
     ],
     "prompt_number": 11
    },
    {
     "cell_type": "code",
     "collapsed": false,
     "input": [
      "res_100obs=next(MCgenr)"
     ],
     "language": "python",
     "metadata": {},
     "outputs": [
      {
       "output_type": "stream",
       "stream": "stdout",
       "text": [
        "10000/10000 tasks finished after 11368 s"
       ]
      },
      {
       "output_type": "stream",
       "stream": "stdout",
       "text": [
        "\n",
        "done\n",
        "DONE! DB in W:/CNOP/dumps/temp/20150324_060859/\n"
       ]
      }
     ],
     "prompt_number": 12
    },
    {
     "cell_type": "code",
     "collapsed": false,
     "input": [
      "MCgenr = runMC(500, 10000, full_overlap, df=x2000)\n",
      "MCAsyncMapResult = next(MCgenr)"
     ],
     "language": "python",
     "metadata": {},
     "outputs": [
      {
       "output_type": "stream",
       "stream": "stdout",
       "text": [
        "Starting MC on 8 cores, 10000 replications of \"full_overlap\" with 500 observations\n",
        "If you again run next(), you will get wait_interactive() form and results would be backed up\n",
        "Untill then you are free to use AsyncResult object that was apready yielded, but data will not be backed up!\n",
        "W:/CNOP/dumps/temp/20150324_101209/"
       ]
      },
      {
       "output_type": "stream",
       "stream": "stdout",
       "text": [
        "\n"
       ]
      }
     ],
     "prompt_number": 13
    },
    {
     "cell_type": "code",
     "collapsed": false,
     "input": [
      "res_500obs=next(MCgenr)"
     ],
     "language": "python",
     "metadata": {},
     "outputs": [
      {
       "output_type": "stream",
       "stream": "stdout",
       "text": [
        "10000/10000 tasks finished after 68469 s"
       ]
      },
      {
       "output_type": "stream",
       "stream": "stdout",
       "text": [
        "\n",
        "done\n",
        "DONE! DB in W:/CNOP/dumps/temp/20150324_101209/\n"
       ]
      }
     ],
     "prompt_number": 14
    },
    {
     "cell_type": "code",
     "collapsed": false,
     "input": [
      "MCgenr = runMC(1000, 4860, full_overlap, df=x2000)\n",
      "MCAsyncMapResult = next(MCgenr)"
     ],
     "language": "python",
     "metadata": {},
     "outputs": [
      {
       "output_type": "stream",
       "stream": "stdout",
       "text": [
        "Starting MC on 8 cores, 4860 replications of \"full_overlap\" with 1000 observations\n",
        "If you again run next(), you will get wait_interactive() form and results would be backed up\n",
        "Untill then you are free to use AsyncResult object that was apready yielded, but data will not be backed up!\n",
        "W:/CNOP/dumps/temp/20150326_120353/"
       ]
      },
      {
       "output_type": "stream",
       "stream": "stdout",
       "text": [
        "\n"
       ]
      }
     ],
     "prompt_number": 10
    },
    {
     "cell_type": "code",
     "collapsed": false,
     "input": [
      "res_1000obs=next(MCgenr)"
     ],
     "language": "python",
     "metadata": {},
     "outputs": [
      {
       "output_type": "stream",
       "stream": "stdout",
       "text": [
        "4860/4860 tasks finished after 74888 s"
       ]
      },
      {
       "output_type": "stream",
       "stream": "stdout",
       "text": [
        "\n",
        "done\n",
        "DONE! DB in W:/CNOP/dumps/temp/20150326_120353/\n"
       ]
      }
     ],
     "prompt_number": 11
    },
    {
     "cell_type": "code",
     "collapsed": false,
     "input": [
      "pickle.dump(res_1000obs, file(\"W:/CNOP/dumps/temp/20150326_120353/!all_res\", \"w\"))"
     ],
     "language": "python",
     "metadata": {},
     "outputs": [],
     "prompt_number": 43
    },
    {
     "cell_type": "heading",
     "level": 2,
     "metadata": {},
     "source": [
      "125 obs"
     ]
    },
    {
     "cell_type": "code",
     "collapsed": false,
     "input": [
      "MCgenr = runMC(125, 10000, full_overlap, df=x2000, path=\"\\\\\\\\DAP-NAS\\\\work\\\\CNOP\\\\dumps\\\\\")\n",
      "MCAsyncMapResult = next(MCgenr)"
     ],
     "language": "python",
     "metadata": {},
     "outputs": [
      {
       "output_type": "stream",
       "stream": "stdout",
       "text": [
        "Starting MC on 17 cores, 10000 replications of \"full_overlap\" with 125 observations\n",
        "If you again run next(), you will get wait_interactive() form and results would be backed up\n",
        "Untill then you are free to use AsyncResult object that was apready yielded, but data will not be backed up!\n",
        "\\\\DAP-NAS\\work\\CNOP\\dumps\\temp/20150405_141224/"
       ]
      },
      {
       "output_type": "stream",
       "stream": "stdout",
       "text": [
        "\n"
       ]
      }
     ],
     "prompt_number": 11
    },
    {
     "cell_type": "code",
     "collapsed": false,
     "input": [
      "res_1000obs=next(MCgenr)"
     ],
     "language": "python",
     "metadata": {},
     "outputs": [
      {
       "output_type": "stream",
       "stream": "stdout",
       "text": [
        "10000/10000 tasks finished after 9951 s"
       ]
      },
      {
       "output_type": "stream",
       "stream": "stdout",
       "text": [
        "\n",
        "done\n"
       ]
      },
      {
       "ename": "CompositeError",
       "evalue": "one or more exceptions from call to method: doJob\n[Engine Exception]EngineError: Engine '75ecec11-1ca9-4482-abb3-361446436889' died while running task u'f4da4fdf-b817-4975-9bc7-1f37f3b41790'\n[Engine Exception]EngineError: Engine 'ef1e0c54-5f8e-4b86-a4bc-e4487e2c0fad' died while running task u'0b5826c2-8778-4ddc-b8a6-a64f61e2e739'",
       "output_type": "pyerr",
       "traceback": [
        "[Engine Exception]",
        "Traceback (most recent call last):",
        "  File \"C:\\Users\\Andrew\\Anaconda\\lib\\site-packages\\IPython\\parallel\\controller\\scheduler.py\", line 357, in handle_stranded_tasks",
        "    raise error.EngineError(\"Engine %r died while running task %r\"%(engine, msg_id))",
        "EngineError: Engine '75ecec11-1ca9-4482-abb3-361446436889' died while running task u'f4da4fdf-b817-4975-9bc7-1f37f3b41790'",
        "",
        "[Engine Exception]",
        "Traceback (most recent call last):",
        "  File \"C:\\Users\\Andrew\\Anaconda\\lib\\site-packages\\IPython\\parallel\\controller\\scheduler.py\", line 357, in handle_stranded_tasks",
        "    raise error.EngineError(\"Engine %r died while running task %r\"%(engine, msg_id))",
        "EngineError: Engine 'ef1e0c54-5f8e-4b86-a4bc-e4487e2c0fad' died while running task u'0b5826c2-8778-4ddc-b8a6-a64f61e2e739'",
        ""
       ]
      }
     ],
     "prompt_number": 12
    },
    {
     "cell_type": "code",
     "collapsed": false,
     "input": [
      "res_150obs=MCAsyncMapResult.get()"
     ],
     "language": "python",
     "metadata": {},
     "outputs": [
      {
       "ename": "CompositeError",
       "evalue": "one or more exceptions from call to method: doJob\n[Engine Exception]EngineError: Engine '75ecec11-1ca9-4482-abb3-361446436889' died while running task u'f4da4fdf-b817-4975-9bc7-1f37f3b41790'\n[Engine Exception]EngineError: Engine 'ef1e0c54-5f8e-4b86-a4bc-e4487e2c0fad' died while running task u'0b5826c2-8778-4ddc-b8a6-a64f61e2e739'",
       "output_type": "pyerr",
       "traceback": [
        "[Engine Exception]",
        "Traceback (most recent call last):",
        "  File \"C:\\Users\\Andrew\\Anaconda\\lib\\site-packages\\IPython\\parallel\\controller\\scheduler.py\", line 357, in handle_stranded_tasks",
        "    raise error.EngineError(\"Engine %r died while running task %r\"%(engine, msg_id))",
        "EngineError: Engine '75ecec11-1ca9-4482-abb3-361446436889' died while running task u'f4da4fdf-b817-4975-9bc7-1f37f3b41790'",
        "",
        "[Engine Exception]",
        "Traceback (most recent call last):",
        "  File \"C:\\Users\\Andrew\\Anaconda\\lib\\site-packages\\IPython\\parallel\\controller\\scheduler.py\", line 357, in handle_stranded_tasks",
        "    raise error.EngineError(\"Engine %r died while running task %r\"%(engine, msg_id))",
        "EngineError: Engine 'ef1e0c54-5f8e-4b86-a4bc-e4487e2c0fad' died while running task u'0b5826c2-8778-4ddc-b8a6-a64f61e2e739'",
        ""
       ]
      }
     ],
     "prompt_number": 25
    },
    {
     "cell_type": "code",
     "collapsed": false,
     "input": [
      "i=MCAsyncMapResult.get_dict()"
     ],
     "language": "python",
     "metadata": {},
     "outputs": [
      {
       "ename": "CompositeError",
       "evalue": "one or more exceptions from call to method: doJob\n[Engine Exception]EngineError: Engine '75ecec11-1ca9-4482-abb3-361446436889' died while running task u'f4da4fdf-b817-4975-9bc7-1f37f3b41790'\n[Engine Exception]EngineError: Engine 'ef1e0c54-5f8e-4b86-a4bc-e4487e2c0fad' died while running task u'0b5826c2-8778-4ddc-b8a6-a64f61e2e739'",
       "output_type": "pyerr",
       "traceback": [
        "[Engine Exception]",
        "Traceback (most recent call last):",
        "  File \"C:\\Users\\Andrew\\Anaconda\\lib\\site-packages\\IPython\\parallel\\controller\\scheduler.py\", line 357, in handle_stranded_tasks",
        "    raise error.EngineError(\"Engine %r died while running task %r\"%(engine, msg_id))",
        "EngineError: Engine '75ecec11-1ca9-4482-abb3-361446436889' died while running task u'f4da4fdf-b817-4975-9bc7-1f37f3b41790'",
        "",
        "[Engine Exception]",
        "Traceback (most recent call last):",
        "  File \"C:\\Users\\Andrew\\Anaconda\\lib\\site-packages\\IPython\\parallel\\controller\\scheduler.py\", line 357, in handle_stranded_tasks",
        "    raise error.EngineError(\"Engine %r died while running task %r\"%(engine, msg_id))",
        "EngineError: Engine 'ef1e0c54-5f8e-4b86-a4bc-e4487e2c0fad' died while running task u'0b5826c2-8778-4ddc-b8a6-a64f61e2e739'",
        ""
       ]
      }
     ],
     "prompt_number": 30
    },
    {
     "cell_type": "code",
     "collapsed": false,
     "input": [
      "rere=[i for i in MCAsyncMapResult]"
     ],
     "language": "python",
     "metadata": {},
     "outputs": [
      {
       "ename": "CompositeError",
       "evalue": "one or more exceptions from call to method: doJob\n[Engine Exception]EngineError: Engine '75ecec11-1ca9-4482-abb3-361446436889' died while running task u'f4da4fdf-b817-4975-9bc7-1f37f3b41790'\n[Engine Exception]EngineError: Engine 'ef1e0c54-5f8e-4b86-a4bc-e4487e2c0fad' died while running task u'0b5826c2-8778-4ddc-b8a6-a64f61e2e739'",
       "output_type": "pyerr",
       "traceback": [
        "[Engine Exception]",
        "Traceback (most recent call last):",
        "  File \"C:\\Users\\Andrew\\Anaconda\\lib\\site-packages\\IPython\\parallel\\controller\\scheduler.py\", line 357, in handle_stranded_tasks",
        "    raise error.EngineError(\"Engine %r died while running task %r\"%(engine, msg_id))",
        "EngineError: Engine '75ecec11-1ca9-4482-abb3-361446436889' died while running task u'f4da4fdf-b817-4975-9bc7-1f37f3b41790'",
        "",
        "[Engine Exception]",
        "Traceback (most recent call last):",
        "  File \"C:\\Users\\Andrew\\Anaconda\\lib\\site-packages\\IPython\\parallel\\controller\\scheduler.py\", line 357, in handle_stranded_tasks",
        "    raise error.EngineError(\"Engine %r died while running task %r\"%(engine, msg_id))",
        "EngineError: Engine 'ef1e0c54-5f8e-4b86-a4bc-e4487e2c0fad' died while running task u'0b5826c2-8778-4ddc-b8a6-a64f61e2e739'",
        ""
       ]
      }
     ],
     "prompt_number": 35
    },
    {
     "cell_type": "code",
     "collapsed": false,
     "input": [
      "ll=[]\n",
      "for i in range(len(MCAsyncMapResult)):\n",
      "    try:\n",
      "        ll.append(MCAsyncMapResult[i])\n",
      "    except:\n",
      "        print i\n"
     ],
     "language": "python",
     "metadata": {},
     "outputs": [
      {
       "output_type": "stream",
       "stream": "stdout",
       "text": [
        "4091\n",
        "4097\n"
       ]
      }
     ],
     "prompt_number": 63
    },
    {
     "cell_type": "code",
     "collapsed": false,
     "input": [
      "for lll, i in enumerate(ll):\n",
      "    if len(i) != 1:\n",
      "        print "
     ],
     "language": "python",
     "metadata": {},
     "outputs": [],
     "prompt_number": 71
    },
    {
     "cell_type": "code",
     "collapsed": false,
     "input": [
      "ll=[i[0] for i in ll]"
     ],
     "language": "python",
     "metadata": {},
     "outputs": [],
     "prompt_number": 74
    },
    {
     "cell_type": "code",
     "collapsed": false,
     "input": [
      "pickle.dump(ll, file(\"W:\\\\CNOP\\\\dumps\\\\MC 31.03-results\\\\3Full\\\\res150_CHECKED\", \"w\"))"
     ],
     "language": "python",
     "metadata": {},
     "outputs": [],
     "prompt_number": 75
    },
    {
     "cell_type": "code",
     "collapsed": false,
     "input": [
      "help(MCAsyncMapResult.)"
     ],
     "language": "python",
     "metadata": {},
     "outputs": [
      {
       "ename": "CompositeError",
       "evalue": "one or more exceptions from call to method: doJob\n[Engine Exception]EngineError: Engine '75ecec11-1ca9-4482-abb3-361446436889' died while running task u'f4da4fdf-b817-4975-9bc7-1f37f3b41790'\n[Engine Exception]EngineError: Engine 'ef1e0c54-5f8e-4b86-a4bc-e4487e2c0fad' died while running task u'0b5826c2-8778-4ddc-b8a6-a64f61e2e739'",
       "output_type": "pyerr",
       "traceback": [
        "[Engine Exception]",
        "Traceback (most recent call last):",
        "  File \"C:\\Users\\Andrew\\Anaconda\\lib\\site-packages\\IPython\\parallel\\controller\\scheduler.py\", line 357, in handle_stranded_tasks",
        "    raise error.EngineError(\"Engine %r died while running task %r\"%(engine, msg_id))",
        "EngineError: Engine '75ecec11-1ca9-4482-abb3-361446436889' died while running task u'f4da4fdf-b817-4975-9bc7-1f37f3b41790'",
        "",
        "[Engine Exception]",
        "Traceback (most recent call last):",
        "  File \"C:\\Users\\Andrew\\Anaconda\\lib\\site-packages\\IPython\\parallel\\controller\\scheduler.py\", line 357, in handle_stranded_tasks",
        "    raise error.EngineError(\"Engine %r died while running task %r\"%(engine, msg_id))",
        "EngineError: Engine 'ef1e0c54-5f8e-4b86-a4bc-e4487e2c0fad' died while running task u'0b5826c2-8778-4ddc-b8a6-a64f61e2e739'",
        ""
       ]
      }
     ],
     "prompt_number": 24
    },
    {
     "cell_type": "code",
     "collapsed": false,
     "input": [],
     "language": "python",
     "metadata": {},
     "outputs": []
    },
    {
     "cell_type": "code",
     "collapsed": false,
     "input": [
      "MCAsyncMapResult.abort()"
     ],
     "language": "python",
     "metadata": {},
     "outputs": [],
     "prompt_number": 10
    },
    {
     "cell_type": "code",
     "collapsed": false,
     "input": [
      "pickle.dump(res_1000obs, file(\"W:/CNOP/dumps/temp/20150326_120353/!all_res\", \"w\"))"
     ],
     "language": "python",
     "metadata": {},
     "outputs": []
    },
    {
     "cell_type": "heading",
     "level": 3,
     "metadata": {},
     "source": [
      "\u0422\u0435\u0441\u0442\u044b:"
     ]
    },
    {
     "cell_type": "code",
     "collapsed": false,
     "input": [
      "MCgenr = runMC(100, 100, full_overlap, df=x2000, path=\"\\\\\\\\DAP-NAS\\\\work\\\\CNOP\\\\dumps\\\\\")\n",
      "MCAsyncMapResult = next(MCgenr)"
     ],
     "language": "python",
     "metadata": {},
     "outputs": [
      {
       "output_type": "stream",
       "stream": "stdout",
       "text": [
        "Starting MC on 13 cores, 100 replications of \"full_overlap\" with 100 observations\n",
        "If you again run next(), you will get wait_interactive() form and results would be backed up\n",
        "Untill then you are free to use AsyncResult object that was apready yielded, but data will not be backed up!\n",
        "\\\\DAP-NAS\\work\\CNOP\\dumps\\temp/20150327_202812/"
       ]
      },
      {
       "output_type": "stream",
       "stream": "stdout",
       "text": [
        "\n"
       ]
      }
     ],
     "prompt_number": 24
    },
    {
     "cell_type": "code",
     "collapsed": false,
     "input": [
      "res_test=next(MCgenr)"
     ],
     "language": "python",
     "metadata": {},
     "outputs": [
      {
       "output_type": "stream",
       "stream": "stdout",
       "text": [
        " 100/100 tasks finished after   70 s"
       ]
      },
      {
       "output_type": "stream",
       "stream": "stdout",
       "text": [
        "\n",
        "done\n",
        "DONE! DB in \\\\DAP-NAS\\work\\CNOP\\dumps\\temp/20150327_202812/\n"
       ]
      }
     ],
     "prompt_number": 25
    }
   ],
   "metadata": {}
  }
 ]
}