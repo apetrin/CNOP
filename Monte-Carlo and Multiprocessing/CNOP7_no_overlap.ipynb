{
 "metadata": {
  "name": "",
  "signature": "sha256:f73b498c092ed027ed6272609a46515033f25bd025ea48a6d530f63585a1285d"
 },
 "nbformat": 3,
 "nbformat_minor": 0,
 "worksheets": [
  {
   "cells": [
    {
     "cell_type": "code",
     "collapsed": false,
     "input": [
      "from IPython import parallel\n",
      "clients = parallel.Client(profile='parallel')"
     ],
     "language": "python",
     "metadata": {},
     "outputs": [],
     "prompt_number": 1
    },
    {
     "cell_type": "code",
     "collapsed": false,
     "input": [
      "print clients.ids\n",
      "print \"Total %i cores\"%(len(clients.ids))"
     ],
     "language": "python",
     "metadata": {},
     "outputs": [
      {
       "output_type": "stream",
       "stream": "stdout",
       "text": [
        "[0, 1, 2, 3, 4, 5, 6, 7, 8, 9, 10, 11, 12, 13, 14, 15, 16]\n",
        "Total 17 cores\n"
       ]
      }
     ],
     "prompt_number": 2
    },
    {
     "cell_type": "code",
     "collapsed": false,
     "input": [
      "%%px --local\n",
      "\n",
      "import sys\n",
      "sys.path.append(\"\\\\\\\\DAP-NAS\\\\work\\\\CNOP\")\n",
      "import cPickle as pickle\n",
      "import numpy as np\n",
      "import pandas as pd\n",
      "from statsmodels.tsa.arima_process import arma_generate_sample\n",
      "import matplotlib.pyplot as plt\n",
      "import numpy as np\n",
      "from CNOP import CNOP\n",
      "import winsound\n",
      "def threshold(x,thresholds=[],values=[-1,0,1]):\n",
      "    for threshold,val in zip(thresholds,values):\n",
      "        if x < threshold: \n",
      "            return val\n",
      "    return values[-1]\n",
      "import time\n",
      "from itertools import repeat\n",
      "import os\n",
      "from datetime import datetime\n"
     ],
     "language": "python",
     "metadata": {},
     "outputs": [],
     "prompt_number": 3
    },
    {
     "cell_type": "code",
     "collapsed": false,
     "input": [
      "%%px --local\n",
      "x2000 = pd.read_csv(\"\\\\\\\\DAP-NAS\\\\work\\\\CNOP\\\\x2000.csv\", delimiter=\";\")"
     ],
     "language": "python",
     "metadata": {},
     "outputs": [],
     "prompt_number": 4
    },
    {
     "cell_type": "code",
     "collapsed": false,
     "input": [
      "%%px --local\n",
      "\n",
      "N=100\n",
      "\n",
      "def no_overlap(N, df, give_distortion=True):\n",
      "    ########################################################\n",
      "    ###### This code is for no-overlap case of CNOP#########\n",
      "    ########################################################\n",
      "\n",
      "    #PreSampling:\n",
      "    df = df[:N]\n",
      "    #df = x2000[:N]\n",
      "    \n",
      "    ### DGP generation\n",
      "    regime = pd.DataFrame() \n",
      "    beta,   alpha   = [0.6], [0.95, 1.45]\n",
      "    gammam, mum =     [0.9], [-1.22, 0.03]\n",
      "    gammap, mup =     [0.8], [-0.03, 1.18]\n",
      "    distortion = np.random.randn(3,N)\n",
      "    regime[\"xbeta\"]    = df[[\"X1\"]].dot(beta)    + distortion[0]\n",
      "    regime['z-gammam'] = df[[\"X2\"]].dot(gammam)  + distortion[1]\n",
      "    regime['z+gammap'] = df[[\"X3\"]].dot(gammap)  + distortion[2]\n",
      "    regime['regime'] = regime['xbeta'].apply(lambda x: threshold(x,thresholds=alpha))\n",
      "    regime['Y-']=regime['z-gammam'].apply(lambda x: threshold(x, thresholds=mum,values=[-2,-1,0]))\n",
      "    regime['Y+']=regime['z+gammap'].apply(lambda x: threshold(x, thresholds=mup,values=[0,1,2]))\n",
      "    df['Y'] = 0\n",
      "    df['Y'] += np.where(regime['regime']==-1,regime['Y-'],0)\n",
      "    df['Y'] += np.where(regime['regime']==1,regime['Y+'],0)\n",
      "    ###df is full data matrix\n",
      "\n",
      "    #Model starts here:\n",
      "    exog = df[[\"X1\", \"X2\", \"X3\"]]\n",
      "    endog = df[[\"Y\"]]\n",
      "    l = {0:df}\n",
      "    pan = pd.Panel(l)\n",
      "    y      = pan.ix[:,:,['Y']]\n",
      "    x      = pan.ix[:,:,[\"X1\"]]\n",
      "    zminus = pan.ix[:,:,[\"X2\"]]\n",
      "    zplus  = pan.ix[:,:,[\"X3\"]]\n",
      "    exog = {'x':x,'zplus':zplus,'zminus':zminus}\n",
      "    CNOP4 = CNOP(y,exog, model='CNOP',interest_step=1)\n",
      "\n",
      "    #Counting execution time for fit ...\n",
      "    exec_time = {\"fit\":0,\"se\":0}\n",
      "    start_time = time.time()\n",
      "    res = CNOP4.fit( maxiter=250, disp=0)\n",
      "    exec_time[\"fit\"] = time.time() - start_time\n",
      "\n",
      "    # And for Standard Errors as well\n",
      "    try:\n",
      "        start_time = time.time()\n",
      "        res[\"se\"] = CNOP4.se(res.x)\n",
      "        exec_time[\"se\"] = time.time() - start_time\n",
      "        res['status'] = \"OK\"\n",
      "    except Exception, e:\n",
      "        print e\n",
      "        res['status'] = e\n",
      "\n",
      "    res[\"exec_time\"]=exec_time\n",
      "\n",
      "    if give_distortion:\n",
      "        return res, distortion\n",
      "    else:\n",
      "        return res    "
     ],
     "language": "python",
     "metadata": {},
     "outputs": [],
     "prompt_number": 5
    },
    {
     "cell_type": "code",
     "collapsed": false,
     "input": [
      "N=100\n",
      "res, distortion = no_overlap(N, df=x2000)\n",
      "print \"Done for N=%i\" % (N)\n",
      "print \"Res.status:\", res.success\n",
      "\n",
      "beta,   alpha   = [0.6], [0.95, 1.45]\n",
      "gammam, mum =     [0.9], [-1.22, 0.03]\n",
      "gammap, mup =     [0.8], [-0.03, 1.18]\n",
      "res_real = beta+alpha+gammam+mum+gammap+mup\n",
      "%matplotlib inline\n",
      "_ = plt.bar(np.arange(len(res.x-res_real)),\n",
      "                  list(res.x-res_real))\n",
      "\n",
      "winsound.PlaySound(u'C:\\Windows\\Media\\Windows Print complete.wav', winsound.SND_FILENAME)\n",
      "print \"X & SE:\", np.dstack((res[\"x\"],res[\"se\"]))"
     ],
     "language": "python",
     "metadata": {},
     "outputs": []
    },
    {
     "cell_type": "code",
     "collapsed": false,
     "input": [
      "%%px --local\n",
      "\n",
      "def runMC(n_obs, n_repl, fun, path=\"\\\\\\\\DAP-NAS\\\\work\\\\CNOP\\\\dumps\\\\\", prefix = \"CNOPres\", ext = \".p\", **kwargs):\n",
      "    print \"Starting MC on %i cores, %i replications of \\\"%s\\\" with %i observations\"\\\n",
      "               %(len(clients.ids), n_repl, fun.__name__, n_obs)\n",
      "    print \"If you again run next(), you will get wait_interactive() form and results would be backed up\"\n",
      "    print \"Untill then you are free to use AsyncResult object that was apready yielded, but data will not be backed up!\"\n",
      "    view = clients.load_balanced_view()\n",
      "\n",
      "    def doJob(i):\n",
      "        n_obs,path,fun, kwargs=i\n",
      "        dumb_str=time.strftime(\"%Y%m%d%H%M%S\")+str(np.random.rand())\n",
      "\n",
      "        filename = path + dumb_str\n",
      "\n",
      "        try:\n",
      "            local_res = fun(n_obs, **kwargs)\n",
      "            pickle.dump(local_res, open( filename, \"wb\" ) )\n",
      "            return local_res, filename\n",
      "        except Exception, e:\n",
      "            pickle.dump(e, open( filename, \"wb\" ) )\n",
      "            return Exception, e, filename\n",
      "    \n",
      "    cur_time_str=time.strftime('%Y%m%d_%H%M%S')\n",
      "    temp_folder_str = path+'temp/'+cur_time_str+\"/\"\n",
      "    if not os.path.exists(temp_folder_str):\n",
      "        os.makedirs(temp_folder_str)\n",
      "\n",
      "    print temp_folder_str\n",
      "    readme_f = file(temp_folder_str+\"!README.txt\", \"w\")\n",
      "    readme_f.write(\"Doing MC on %i cores, %i replications of \\\"%s\\\" with %i observations\"\\\n",
      "                   %(len(clients.ids), n_repl, fun.__name__, n_obs))\n",
      "    readme_f.close()\n",
      "\n",
      "    ar = view.map_async(doJob, [[n_obs, temp_folder_str, fun, kwargs]]*n_repl)\n",
      "    yield ar\n",
      "\n",
      "    ar.wait_interactive()\n",
      "    results = ar.get()\n",
      "    cur_time_str=time.strftime('%Y%m%d_%H%M%S')\n",
      "    filename = path + prefix + cur_time_str + ext\n",
      "    print \"DONE! DB in %s\"%(temp_folder_str)\n",
      "    yield results\n",
      "\n",
      "        "
     ],
     "language": "python",
     "metadata": {},
     "outputs": [],
     "prompt_number": 6
    },
    {
     "cell_type": "code",
     "collapsed": false,
     "input": [
      "MCgenr100 = runMC(100, 10000, no_overlap, df=x2000, path=\"\\\\\\\\DAP-NAS\\\\work\\\\CNOP\\\\dumps\\\\\")\n",
      "MCAsyncMapResult100 = next(MCgenr100)"
     ],
     "language": "python",
     "metadata": {},
     "outputs": [
      {
       "output_type": "stream",
       "stream": "stdout",
       "text": [
        "Starting MC on 13 cores, 10000 replications of \"no_overlap\" with 100 observations\n",
        "If you again run next(), you will get wait_interactive() form and results would be backed up\n",
        "Untill then you are free to use AsyncResult object that was apready yielded, but data will not be backed up!\n",
        "\\\\DAP-NAS\\work\\CNOP\\dumps\\temp/20150327_204924/"
       ]
      },
      {
       "output_type": "stream",
       "stream": "stdout",
       "text": [
        "\n"
       ]
      }
     ],
     "prompt_number": 20
    },
    {
     "cell_type": "code",
     "collapsed": false,
     "input": [
      "results100=next(MCgenr100)\n",
      "pickle.dump(results100, file(\"\\\\\\\\DAP-NAS\\\\work\\\\CNOP\\\\dumps\\\\res100NoOverlap\", \"w\"))"
     ],
     "language": "python",
     "metadata": {},
     "outputs": [
      {
       "output_type": "stream",
       "stream": "stdout",
       "text": [
        "10000/10000 tasks finished after 4049 s"
       ]
      },
      {
       "output_type": "stream",
       "stream": "stdout",
       "text": [
        "\n",
        "done\n",
        "DONE! DB in \\\\DAP-NAS\\work\\CNOP\\dumps\\temp/20150327_204924/\n"
       ]
      }
     ],
     "prompt_number": 21
    },
    {
     "cell_type": "code",
     "collapsed": false,
     "input": [
      "del results100"
     ],
     "language": "python",
     "metadata": {},
     "outputs": [],
     "prompt_number": 28
    },
    {
     "cell_type": "code",
     "collapsed": false,
     "input": [
      "MCgenr250 = runMC(250, 10000, no_overlap, df=x2000, path=\"\\\\\\\\DAP-NAS\\\\work\\\\CNOP\\\\dumps\\\\\")\n",
      "MCAsyncMapResult250 = next(MCgenr250)"
     ],
     "language": "python",
     "metadata": {},
     "outputs": [
      {
       "output_type": "stream",
       "stream": "stdout",
       "text": [
        "Starting MC on 16 cores, 10000 replications of \"no_overlap\" with 250 observations\n",
        "If you again run next(), you will get wait_interactive() form and results would be backed up\n",
        "Untill then you are free to use AsyncResult object that was apready yielded, but data will not be backed up!\n",
        "\\\\DAP-NAS\\work\\CNOP\\dumps\\temp/20150327_215959/"
       ]
      },
      {
       "output_type": "stream",
       "stream": "stdout",
       "text": [
        "\n"
       ]
      }
     ],
     "prompt_number": 29
    },
    {
     "cell_type": "code",
     "collapsed": false,
     "input": [
      "results250=next(MCgenr250)\n",
      "pickle.dump(results250, file(\"\\\\\\\\DAP-NAS\\\\work\\\\CNOP\\\\dumps\\\\res250NoOverlap\", \"w\"))"
     ],
     "language": "python",
     "metadata": {},
     "outputs": [
      {
       "output_type": "stream",
       "stream": "stdout",
       "text": [
        "10000/10000 tasks finished after 9260 s"
       ]
      },
      {
       "output_type": "stream",
       "stream": "stdout",
       "text": [
        "\n",
        "done\n",
        "DONE! DB in \\\\DAP-NAS\\work\\CNOP\\dumps\\temp/20150327_215959/\n"
       ]
      }
     ],
     "prompt_number": 30
    },
    {
     "cell_type": "code",
     "collapsed": false,
     "input": [
      "del results250"
     ],
     "language": "python",
     "metadata": {},
     "outputs": [],
     "prompt_number": 31
    },
    {
     "cell_type": "code",
     "collapsed": false,
     "input": [
      "MCgenr500 = runMC(500, 4225, no_overlap, df=x2000, path=\"\\\\\\\\DAP-NAS\\\\work\\\\CNOP\\\\dumps\\\\\")\n",
      "MCAsyncMapResult500 = next(MCgenr500)"
     ],
     "language": "python",
     "metadata": {},
     "outputs": [
      {
       "output_type": "stream",
       "stream": "stdout",
       "text": [
        "Starting MC on 15 cores, 4225 replications of \"no_overlap\" with 500 observations\n",
        "If you again run next(), you will get wait_interactive() form and results would be backed up\n",
        "Untill then you are free to use AsyncResult object that was apready yielded, but data will not be backed up!\n",
        "\\\\DAP-NAS\\work\\CNOP\\dumps\\temp/20150328_094006/"
       ]
      },
      {
       "output_type": "stream",
       "stream": "stdout",
       "text": [
        "\n"
       ]
      }
     ],
     "prompt_number": 7
    },
    {
     "cell_type": "code",
     "collapsed": false,
     "input": [
      "results500=next(MCgenr500)\n",
      "pickle.dump(results500, file(\"\\\\\\\\DAP-NAS\\\\work\\\\CNOP\\\\dumps\\\\res500NoOverlap(half)\", \"w\"))"
     ],
     "language": "python",
     "metadata": {},
     "outputs": [
      {
       "output_type": "stream",
       "stream": "stdout",
       "text": [
        "   0/4225 tasks finished after   11 s"
       ]
      }
     ]
    },
    {
     "cell_type": "code",
     "collapsed": false,
     "input": [
      "del results500"
     ],
     "language": "python",
     "metadata": {},
     "outputs": []
    },
    {
     "cell_type": "code",
     "collapsed": false,
     "input": [
      "MCgenr1000 = runMC(1000, 9811, no_overlap, df=x2000, path=\"\\\\\\\\DAP-NAS\\\\work\\\\CNOP\\\\dumps\\\\\")\n",
      "MCAsyncMapResult1000 = next(MCgenr1000)"
     ],
     "language": "python",
     "metadata": {},
     "outputs": [
      {
       "output_type": "stream",
       "stream": "stdout",
       "text": [
        "Starting MC on 17 cores, 9811 replications of \"no_overlap\" with 1000 observations\n",
        "If you again run next(), you will get wait_interactive() form and results would be backed up\n",
        "Untill then you are free to use AsyncResult object that was apready yielded, but data will not be backed up!\n",
        "\\\\DAP-NAS\\work\\CNOP\\dumps\\temp/20150328_193826/"
       ]
      },
      {
       "output_type": "stream",
       "stream": "stdout",
       "text": [
        "\n"
       ]
      }
     ],
     "prompt_number": 11
    },
    {
     "cell_type": "code",
     "collapsed": false,
     "input": [
      "results1000=next(MCgenr1000)\n",
      "pickle.dump(results1000, file(\"\\\\\\\\DAP-NAS\\\\work\\\\CNOP\\\\dumps\\\\res1000NoOverlap\", \"w\"))"
     ],
     "language": "python",
     "metadata": {},
     "outputs": [
      {
       "output_type": "stream",
       "stream": "stdout",
       "text": [
        "9811/9811 tasks finished after 47594 s"
       ]
      },
      {
       "output_type": "stream",
       "stream": "stdout",
       "text": [
        "\n",
        "done\n",
        "DONE! DB in \\\\DAP-NAS\\work\\CNOP\\dumps\\temp/20150328_193826/\n"
       ]
      }
     ],
     "prompt_number": 12
    },
    {
     "cell_type": "code",
     "collapsed": false,
     "input": [
      "del results1000"
     ],
     "language": "python",
     "metadata": {},
     "outputs": []
    },
    {
     "cell_type": "heading",
     "level": 2,
     "metadata": {},
     "source": [
      "150 obs"
     ]
    },
    {
     "cell_type": "code",
     "collapsed": false,
     "input": [
      "MCgenr150 = runMC(150, 10000, no_overlap, df=x2000, path=\"\\\\\\\\DAP-NAS\\\\work\\\\CNOP\\\\dumps\\\\\")\n",
      "MCAsyncMapResult150 = next(MCgenr150)"
     ],
     "language": "python",
     "metadata": {},
     "outputs": [
      {
       "output_type": "stream",
       "stream": "stdout",
       "text": [
        "Starting MC on 17 cores, 10000 replications of \"no_overlap\" with 150 observations\n",
        "If you again run next(), you will get wait_interactive() form and results would be backed up\n",
        "Untill then you are free to use AsyncResult object that was apready yielded, but data will not be backed up!\n",
        "\\\\DAP-NAS\\work\\CNOP\\dumps\\temp/20150405_184016/\n"
       ]
      }
     ],
     "prompt_number": 7
    },
    {
     "cell_type": "code",
     "collapsed": false,
     "input": [
      "results150=next(MCgenr150)"
     ],
     "language": "python",
     "metadata": {},
     "outputs": [
      {
       "output_type": "stream",
       "stream": "stdout",
       "text": [
        "10000/10000 tasks finished after 6592 s"
       ]
      },
      {
       "output_type": "stream",
       "stream": "stdout",
       "text": [
        "\n",
        "done\n",
        "DONE! DB in \\\\DAP-NAS\\work\\CNOP\\dumps\\temp/20150405_184016/\n"
       ]
      }
     ],
     "prompt_number": 8
    },
    {
     "cell_type": "code",
     "collapsed": false,
     "input": [
      "pickle.dump(results150, file(\"W:\\\\CNOP\\\\dumps\\\\MC 31.03-results\\\\1No+\\\\res150_CHECKED\", \"w\"))"
     ],
     "language": "python",
     "metadata": {},
     "outputs": [],
     "prompt_number": 10
    },
    {
     "cell_type": "code",
     "collapsed": false,
     "input": [
      "del results150"
     ],
     "language": "python",
     "metadata": {},
     "outputs": [],
     "prompt_number": 11
    },
    {
     "cell_type": "heading",
     "level": 3,
     "metadata": {},
     "source": [
      "\u0422\u0435\u0441\u0442\u044b:"
     ]
    },
    {
     "cell_type": "code",
     "collapsed": false,
     "input": [
      "MCgenr1000 = runMC(1000, 100, no_overlap, df=x2000, path=\"\\\\\\\\DAP-NAS\\\\work\\\\CNOP\\\\dumps\\\\\")\n",
      "MCAsyncMapResult1000 = next(MCgenr1000)"
     ],
     "language": "python",
     "metadata": {},
     "outputs": [
      {
       "output_type": "stream",
       "stream": "stdout",
       "text": [
        "Starting MC on 8 cores, 100 replications of \"no_overlap\" with 1000 observations\n",
        "If you again run next(), you will get wait_interactive() form and results would be backed up\n",
        "Untill then you are free to use AsyncResult object that was apready yielded, but data will not be backed up!\n",
        "\\\\DAP-NAS\\work\\CNOP\\dumps\\temp/20150329_150059/\n"
       ]
      }
     ],
     "prompt_number": 9
    },
    {
     "cell_type": "code",
     "collapsed": false,
     "input": [
      "rere=[i for i in MCAsyncMapResult1000]"
     ],
     "language": "python",
     "metadata": {},
     "outputs": [
      {
       "ename": "NameError",
       "evalue": "name 'MCAsyncMapResult1000' is not defined",
       "output_type": "pyerr",
       "traceback": [
        "\u001b[1;31m---------------------------------------------------------------------------\u001b[0m\n\u001b[1;31mNameError\u001b[0m                                 Traceback (most recent call last)",
        "\u001b[1;32m<ipython-input-1-5c06d486f7c2>\u001b[0m in \u001b[0;36m<module>\u001b[1;34m()\u001b[0m\n\u001b[1;32m----> 1\u001b[1;33m \u001b[0mrere\u001b[0m\u001b[1;33m=\u001b[0m\u001b[1;33m[\u001b[0m\u001b[0mi\u001b[0m \u001b[1;32mfor\u001b[0m \u001b[0mi\u001b[0m \u001b[1;32min\u001b[0m \u001b[0mMCAsyncMapResult1000\u001b[0m\u001b[1;33m]\u001b[0m\u001b[1;33m\u001b[0m\u001b[0m\n\u001b[0m",
        "\u001b[1;31mNameError\u001b[0m: name 'MCAsyncMapResult1000' is not defined"
       ]
      }
     ],
     "prompt_number": 1
    },
    {
     "cell_type": "code",
     "collapsed": false,
     "input": [],
     "language": "python",
     "metadata": {},
     "outputs": []
    },
    {
     "cell_type": "code",
     "collapsed": false,
     "input": [
      "results1000=next(MCgenr1000)\n"
     ],
     "language": "python",
     "metadata": {},
     "outputs": [
      {
       "ename": "KeyboardInterrupt",
       "evalue": "",
       "output_type": "pyerr",
       "traceback": [
        "\u001b[1;31m---------------------------------------------------------------------------\u001b[0m\n\u001b[1;31mKeyboardInterrupt\u001b[0m                         Traceback (most recent call last)",
        "\u001b[1;32m<ipython-input-10-bd280df30743>\u001b[0m in \u001b[0;36m<module>\u001b[1;34m()\u001b[0m\n\u001b[1;32m----> 1\u001b[1;33m \u001b[0mresults1000\u001b[0m\u001b[1;33m=\u001b[0m\u001b[0mnext\u001b[0m\u001b[1;33m(\u001b[0m\u001b[0mMCgenr1000\u001b[0m\u001b[1;33m)\u001b[0m\u001b[1;33m\u001b[0m\u001b[0m\n\u001b[0m",
        "\u001b[1;32m<ipython-input-8-110071053e29>\u001b[0m in \u001b[0;36mrunMC\u001b[1;34m(n_obs, n_repl, fun, path, prefix, ext, **kwargs)\u001b[0m\n\u001b[0;32m     33\u001b[0m     \u001b[1;32myield\u001b[0m \u001b[0mar\u001b[0m\u001b[1;33m\u001b[0m\u001b[0m\n\u001b[0;32m     34\u001b[0m \u001b[1;33m\u001b[0m\u001b[0m\n\u001b[1;32m---> 35\u001b[1;33m     \u001b[0mar\u001b[0m\u001b[1;33m.\u001b[0m\u001b[0mwait_interactive\u001b[0m\u001b[1;33m(\u001b[0m\u001b[1;33m)\u001b[0m\u001b[1;33m\u001b[0m\u001b[0m\n\u001b[0m\u001b[0;32m     36\u001b[0m     \u001b[0mresults\u001b[0m \u001b[1;33m=\u001b[0m \u001b[0mar\u001b[0m\u001b[1;33m.\u001b[0m\u001b[0mget\u001b[0m\u001b[1;33m(\u001b[0m\u001b[1;33m)\u001b[0m\u001b[1;33m\u001b[0m\u001b[0m\n\u001b[0;32m     37\u001b[0m     \u001b[0mcur_time_str\u001b[0m\u001b[1;33m=\u001b[0m\u001b[0mtime\u001b[0m\u001b[1;33m.\u001b[0m\u001b[0mstrftime\u001b[0m\u001b[1;33m(\u001b[0m\u001b[1;34m'%Y%m%d_%H%M%S'\u001b[0m\u001b[1;33m)\u001b[0m\u001b[1;33m\u001b[0m\u001b[0m\n",
        "\u001b[1;32mC:\\Users\\Andrew\\Anaconda\\lib\\site-packages\\IPython\\parallel\\client\\asyncresult.pyc\u001b[0m in \u001b[0;36mwait_interactive\u001b[1;34m(self, interval, timeout)\u001b[0m\n\u001b[0;32m    394\u001b[0m             \u001b[0mself\u001b[0m\u001b[1;33m.\u001b[0m\u001b[0mwait\u001b[0m\u001b[1;33m(\u001b[0m\u001b[0minterval\u001b[0m\u001b[1;33m)\u001b[0m\u001b[1;33m\u001b[0m\u001b[0m\n\u001b[0;32m    395\u001b[0m             \u001b[0mclear_output\u001b[0m\u001b[1;33m(\u001b[0m\u001b[0mwait\u001b[0m\u001b[1;33m=\u001b[0m\u001b[0mTrue\u001b[0m\u001b[1;33m)\u001b[0m\u001b[1;33m\u001b[0m\u001b[0m\n\u001b[1;32m--> 396\u001b[1;33m             \u001b[1;32mprint\u001b[0m\u001b[1;33m(\u001b[0m\u001b[1;34m\"%4i/%i tasks finished after %4i s\"\u001b[0m \u001b[1;33m%\u001b[0m \u001b[1;33m(\u001b[0m\u001b[0mself\u001b[0m\u001b[1;33m.\u001b[0m\u001b[0mprogress\u001b[0m\u001b[1;33m,\u001b[0m \u001b[0mN\u001b[0m\u001b[1;33m,\u001b[0m \u001b[0mself\u001b[0m\u001b[1;33m.\u001b[0m\u001b[0melapsed\u001b[0m\u001b[1;33m)\u001b[0m\u001b[1;33m,\u001b[0m \u001b[0mend\u001b[0m\u001b[1;33m=\u001b[0m\u001b[1;34m\"\"\u001b[0m\u001b[1;33m)\u001b[0m\u001b[1;33m\u001b[0m\u001b[0m\n\u001b[0m\u001b[0;32m    397\u001b[0m             \u001b[0msys\u001b[0m\u001b[1;33m.\u001b[0m\u001b[0mstdout\u001b[0m\u001b[1;33m.\u001b[0m\u001b[0mflush\u001b[0m\u001b[1;33m(\u001b[0m\u001b[1;33m)\u001b[0m\u001b[1;33m\u001b[0m\u001b[0m\n\u001b[0;32m    398\u001b[0m         \u001b[1;32mprint\u001b[0m\u001b[1;33m(\u001b[0m\u001b[1;33m)\u001b[0m\u001b[1;33m\u001b[0m\u001b[0m\n",
        "\u001b[1;32mC:\\Users\\Andrew\\Anaconda\\lib\\site-packages\\IPython\\parallel\\client\\asyncresult.pyc\u001b[0m in \u001b[0;36melapsed\u001b[1;34m(self)\u001b[0m\n\u001b[0;32m    345\u001b[0m     \u001b[1;32mdef\u001b[0m \u001b[0melapsed\u001b[0m\u001b[1;33m(\u001b[0m\u001b[0mself\u001b[0m\u001b[1;33m)\u001b[0m\u001b[1;33m:\u001b[0m\u001b[1;33m\u001b[0m\u001b[0m\n\u001b[0;32m    346\u001b[0m         \u001b[1;34m\"\"\"elapsed time since initial submission\"\"\"\u001b[0m\u001b[1;33m\u001b[0m\u001b[0m\n\u001b[1;32m--> 347\u001b[1;33m         \u001b[1;32mif\u001b[0m \u001b[0mself\u001b[0m\u001b[1;33m.\u001b[0m\u001b[0mready\u001b[0m\u001b[1;33m(\u001b[0m\u001b[1;33m)\u001b[0m\u001b[1;33m:\u001b[0m\u001b[1;33m\u001b[0m\u001b[0m\n\u001b[0m\u001b[0;32m    348\u001b[0m             \u001b[1;32mreturn\u001b[0m \u001b[0mself\u001b[0m\u001b[1;33m.\u001b[0m\u001b[0mwall_time\u001b[0m\u001b[1;33m\u001b[0m\u001b[0m\n\u001b[0;32m    349\u001b[0m \u001b[1;33m\u001b[0m\u001b[0m\n",
        "\u001b[1;32mC:\\Users\\Andrew\\Anaconda\\lib\\site-packages\\IPython\\parallel\\client\\asyncresult.pyc\u001b[0m in \u001b[0;36mready\u001b[1;34m(self)\u001b[0m\n\u001b[0;32m    127\u001b[0m         \u001b[1;34m\"\"\"Return whether the call has completed.\"\"\"\u001b[0m\u001b[1;33m\u001b[0m\u001b[0m\n\u001b[0;32m    128\u001b[0m         \u001b[1;32mif\u001b[0m \u001b[1;32mnot\u001b[0m \u001b[0mself\u001b[0m\u001b[1;33m.\u001b[0m\u001b[0m_ready\u001b[0m\u001b[1;33m:\u001b[0m\u001b[1;33m\u001b[0m\u001b[0m\n\u001b[1;32m--> 129\u001b[1;33m             \u001b[0mself\u001b[0m\u001b[1;33m.\u001b[0m\u001b[0mwait\u001b[0m\u001b[1;33m(\u001b[0m\u001b[1;36m0\u001b[0m\u001b[1;33m)\u001b[0m\u001b[1;33m\u001b[0m\u001b[0m\n\u001b[0m\u001b[0;32m    130\u001b[0m         \u001b[1;32melif\u001b[0m \u001b[1;32mnot\u001b[0m \u001b[0mself\u001b[0m\u001b[1;33m.\u001b[0m\u001b[0m_outputs_ready\u001b[0m\u001b[1;33m:\u001b[0m\u001b[1;33m\u001b[0m\u001b[0m\n\u001b[0;32m    131\u001b[0m             \u001b[0mself\u001b[0m\u001b[1;33m.\u001b[0m\u001b[0m_wait_for_outputs\u001b[0m\u001b[1;33m(\u001b[0m\u001b[1;36m0\u001b[0m\u001b[1;33m)\u001b[0m\u001b[1;33m\u001b[0m\u001b[0m\n",
        "\u001b[1;32mC:\\Users\\Andrew\\Anaconda\\lib\\site-packages\\IPython\\parallel\\client\\asyncresult.pyc\u001b[0m in \u001b[0;36mwait\u001b[1;34m(self, timeout)\u001b[0m\n\u001b[0;32m    141\u001b[0m             \u001b[0mself\u001b[0m\u001b[1;33m.\u001b[0m\u001b[0m_wait_for_outputs\u001b[0m\u001b[1;33m(\u001b[0m\u001b[0mtimeout\u001b[0m\u001b[1;33m)\u001b[0m\u001b[1;33m\u001b[0m\u001b[0m\n\u001b[0;32m    142\u001b[0m             \u001b[1;32mreturn\u001b[0m\u001b[1;33m\u001b[0m\u001b[0m\n\u001b[1;32m--> 143\u001b[1;33m         \u001b[0mself\u001b[0m\u001b[1;33m.\u001b[0m\u001b[0m_ready\u001b[0m \u001b[1;33m=\u001b[0m \u001b[0mself\u001b[0m\u001b[1;33m.\u001b[0m\u001b[0m_client\u001b[0m\u001b[1;33m.\u001b[0m\u001b[0mwait\u001b[0m\u001b[1;33m(\u001b[0m\u001b[0mself\u001b[0m\u001b[1;33m.\u001b[0m\u001b[0mmsg_ids\u001b[0m\u001b[1;33m,\u001b[0m \u001b[0mtimeout\u001b[0m\u001b[1;33m)\u001b[0m\u001b[1;33m\u001b[0m\u001b[0m\n\u001b[0m\u001b[0;32m    144\u001b[0m         \u001b[1;32mif\u001b[0m \u001b[0mself\u001b[0m\u001b[1;33m.\u001b[0m\u001b[0m_ready\u001b[0m\u001b[1;33m:\u001b[0m\u001b[1;33m\u001b[0m\u001b[0m\n\u001b[0;32m    145\u001b[0m             \u001b[1;32mtry\u001b[0m\u001b[1;33m:\u001b[0m\u001b[1;33m\u001b[0m\u001b[0m\n",
        "\u001b[1;32mC:\\Users\\Andrew\\Anaconda\\lib\\site-packages\\IPython\\parallel\\client\\client.pyc\u001b[0m in \u001b[0;36mwait\u001b[1;34m(self, jobs, timeout)\u001b[0m\n\u001b[0;32m   1089\u001b[0m             \u001b[1;32mif\u001b[0m \u001b[0mtimeout\u001b[0m \u001b[1;33m>=\u001b[0m \u001b[1;36m0\u001b[0m \u001b[1;32mand\u001b[0m \u001b[1;33m(\u001b[0m \u001b[0mtime\u001b[0m\u001b[1;33m.\u001b[0m\u001b[0mtime\u001b[0m\u001b[1;33m(\u001b[0m\u001b[1;33m)\u001b[0m\u001b[1;33m-\u001b[0m\u001b[0mtic\u001b[0m \u001b[1;33m)\u001b[0m \u001b[1;33m>\u001b[0m \u001b[0mtimeout\u001b[0m\u001b[1;33m:\u001b[0m\u001b[1;33m\u001b[0m\u001b[0m\n\u001b[0;32m   1090\u001b[0m                 \u001b[1;32mbreak\u001b[0m\u001b[1;33m\u001b[0m\u001b[0m\n\u001b[1;32m-> 1091\u001b[1;33m             \u001b[0mtime\u001b[0m\u001b[1;33m.\u001b[0m\u001b[0msleep\u001b[0m\u001b[1;33m(\u001b[0m\u001b[1;36m1e-3\u001b[0m\u001b[1;33m)\u001b[0m\u001b[1;33m\u001b[0m\u001b[0m\n\u001b[0m\u001b[0;32m   1092\u001b[0m             \u001b[0mself\u001b[0m\u001b[1;33m.\u001b[0m\u001b[0mspin\u001b[0m\u001b[1;33m(\u001b[0m\u001b[1;33m)\u001b[0m\u001b[1;33m\u001b[0m\u001b[0m\n\u001b[0;32m   1093\u001b[0m         \u001b[1;32mreturn\u001b[0m \u001b[0mlen\u001b[0m\u001b[1;33m(\u001b[0m\u001b[0mtheids\u001b[0m\u001b[1;33m.\u001b[0m\u001b[0mintersection\u001b[0m\u001b[1;33m(\u001b[0m\u001b[0mself\u001b[0m\u001b[1;33m.\u001b[0m\u001b[0moutstanding\u001b[0m\u001b[1;33m)\u001b[0m\u001b[1;33m)\u001b[0m \u001b[1;33m==\u001b[0m \u001b[1;36m0\u001b[0m\u001b[1;33m\u001b[0m\u001b[0m\n",
        "\u001b[1;31mKeyboardInterrupt\u001b[0m: "
       ]
      }
     ],
     "prompt_number": 10
    },
    {
     "cell_type": "code",
     "collapsed": false,
     "input": [
      "MCAsyncMapResult1000.abort()"
     ],
     "language": "python",
     "metadata": {},
     "outputs": [],
     "prompt_number": 11
    },
    {
     "cell_type": "code",
     "collapsed": false,
     "input": [],
     "language": "python",
     "metadata": {},
     "outputs": []
    }
   ],
   "metadata": {}
  }
 ]
}