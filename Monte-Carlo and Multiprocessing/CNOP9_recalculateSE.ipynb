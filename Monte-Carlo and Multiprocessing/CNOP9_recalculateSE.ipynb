{
 "metadata": {
  "name": "",
  "signature": "sha256:86ba7f5bfaac9d651e2dcc97d8e4f92db736003194654363c8335ad2ad879a14"
 },
 "nbformat": 3,
 "nbformat_minor": 0,
 "worksheets": [
  {
   "cells": [
    {
     "cell_type": "code",
     "collapsed": false,
     "input": [
      "from IPython import parallel\n",
      "clients = parallel.Client(profile='parallel')"
     ],
     "language": "python",
     "metadata": {},
     "outputs": [],
     "prompt_number": 1
    },
    {
     "cell_type": "code",
     "collapsed": false,
     "input": [
      "print clients.ids\n",
      "print \"Total %i cores\"%(len(clients.ids))"
     ],
     "language": "python",
     "metadata": {},
     "outputs": [
      {
       "output_type": "stream",
       "stream": "stdout",
       "text": [
        "[0, 1, 2, 3, 4, 5, 6, 11, 12, 13, 14, 15]\n",
        "Total 12 cores\n"
       ]
      }
     ],
     "prompt_number": 2
    },
    {
     "cell_type": "code",
     "collapsed": false,
     "input": [
      "%%px --local\n",
      "\n",
      "import sys\n",
      "sys.path.append(\"\\\\\\\\DAP-NAS\\\\work\\\\CNOP\")\n",
      "import cPickle as pickle\n",
      "import numpy as np\n",
      "import pandas as pd\n",
      "from statsmodels.tsa.arima_process import arma_generate_sample\n",
      "import matplotlib.pyplot as plt\n",
      "import numpy as np\n",
      "from CNOP import CNOP\n",
      "import winsound\n",
      "def threshold(x,thresholds=[],values=[-1,0,1]):\n",
      "    for threshold,val in zip(thresholds,values):\n",
      "        if x < threshold: \n",
      "            return val\n",
      "    return values[-1]\n",
      "import time\n",
      "from itertools import repeat\n",
      "import os\n",
      "from datetime import datetime\n",
      "import numpy as np\n",
      "import numpy.linalg as linalg"
     ],
     "language": "python",
     "metadata": {},
     "outputs": [],
     "prompt_number": 3
    },
    {
     "cell_type": "code",
     "collapsed": false,
     "input": [
      "%%px --local\n",
      "x2000 = pd.read_csv(\"\\\\\\\\DAP-NAS\\\\work\\\\CNOP\\\\x2000.csv\", delimiter=\";\")"
     ],
     "language": "python",
     "metadata": {},
     "outputs": [],
     "prompt_number": 4
    },
    {
     "cell_type": "code",
     "collapsed": false,
     "input": [
      "%%px --local\n",
      "\n",
      "def recalcSE(path, fun, chunksize=1, **kwargs):\n",
      "    print \"Starting SE on %i cores, \\\"%s\\\"\"\\\n",
      "               %(len(clients.ids),  fun.__name__)\n",
      "    print \"NO BACKUP\"\n",
      "    view = clients.load_balanced_view()\n",
      "\n",
      "    def doJob(i):\n",
      "        fun, distortion, res, kwargs=i\n",
      "        try:\n",
      "            local_res = fun(distortion=distortion, res=res,**kwargs)\n",
      "            #pickle.dump(local_res, open( filename, \"wb\" ) )\n",
      "            return local_res, \"\"\n",
      "        except Exception, e:\n",
      "            #pickle.dump(e, open( filename, \"wb\" ) )\n",
      "            return Exception, e, \"\"\n",
      "    \n",
      "\n",
      "    dump = pickle.load(file(path))\n",
      "    print \"Results loaded\"\n",
      "    try:\n",
      "        job = [(fun, i[0][1], i[0][0], kwargs) for i in dump if type(i[0])!=type]\n",
      "        print \"Job type 1, %i\" % len(job)\n",
      "    except KeyError:\n",
      "        job = [(fun, i[1], i[0], kwargs) for i in dump if type(i)==tuple]\n",
      "        print \"Job type 2, %i\" % len(job)\n",
      "\n",
      "    ar = view.map_async(doJob, job, chunksize=chunksize)\n",
      "    yield ar\n",
      "\n",
      "    ar.wait_interactive()\n",
      "    results = ar.get()\n",
      "    print \"DONE!\"\n",
      "    yield results"
     ],
     "language": "python",
     "metadata": {},
     "outputs": [],
     "prompt_number": 5
    },
    {
     "cell_type": "code",
     "collapsed": false,
     "input": [
      "%%px --local\n",
      "\n",
      "def full_overlapSE(distortion, res, df, give_distortion=True):\n",
      "    ########################################################\n",
      "    ##### This code is for full-overlap case of CNOP########\n",
      "    ########################################################\n",
      "\n",
      "    #PreSampling:\n",
      "    N=distortion.shape[1]\n",
      "    df = df[:N]\n",
      "    #df = x2000[:N]\n",
      "    \n",
      "    ### DGP generation\n",
      "    regime = pd.DataFrame() \n",
      "    beta,   alpha   = [0.6, 0.4, 0.8], [0.85, 1.55]\n",
      "    gammam, mum =     [0.4, 0.3, 0.9], [-1.2, 0.07]\n",
      "    gammap, mup =     [0.2, 0.8, 0.3], [1.28, 2.5]\n",
      "    ####distortion = np.random.randn(3,N)\n",
      "    regime[\"xbeta\"]    = df.dot(beta) + distortion[0]\n",
      "    regime['z-gammam'] = df.dot(gammam)  + distortion[1]\n",
      "    regime['z+gammap'] = df.dot(gammap)  + distortion[2]\n",
      "    regime['regime'] = regime['xbeta'].apply(lambda x: threshold(x,thresholds=alpha))\n",
      "    regime['Y-']=regime['z-gammam'].apply(lambda x: threshold(x, thresholds=mum,values=[-2,-1,0]))\n",
      "    regime['Y+']=regime['z+gammap'].apply(lambda x: threshold(x, thresholds=mup,values=[0,1,2]))\n",
      "    df['Y'] = 0\n",
      "    df['Y'] += np.where(regime['regime']==-1,regime['Y-'],0)\n",
      "    df['Y'] += np.where(regime['regime']==1,regime['Y+'],0)\n",
      "    ###df is full data matrix\n",
      "\n",
      "    #Model starts here:\n",
      "    exog = df[[\"X1\", \"X2\", \"X3\"]]\n",
      "    endog = df[[\"Y\"]]\n",
      "    l = {0:df}\n",
      "    pan = pd.Panel(l)\n",
      "    y      = pan.ix[:,:,['Y']]\n",
      "    x      = pan.ix[:,:,[\"X1\", \"X2\", \"X3\"]]\n",
      "    zminus = pan.ix[:,:,[\"X1\", \"X2\", \"X3\"]]\n",
      "    zplus  = pan.ix[:,:,[\"X1\", \"X2\", \"X3\"]]\n",
      "    exog = {'x':x,'zplus':zplus,'zminus':zminus}\n",
      "    CNOP4 = CNOP(y,exog, model='CNOP',interest_step=1)\n",
      "\n",
      "    # Standard Errors as well\n",
      "    try:\n",
      "        res[\"se\"] = CNOP4.se(res.x)\n",
      "        res['status'] = \"OK\"\n",
      "    except Exception, e:\n",
      "        print e\n",
      "        res['status'] = e\n",
      "\n",
      "    if give_distortion:\n",
      "        return res, distortion\n",
      "    else:\n",
      "        return res"
     ],
     "language": "python",
     "metadata": {},
     "outputs": [],
     "prompt_number": 6
    },
    {
     "cell_type": "code",
     "collapsed": false,
     "input": [
      "%%px --local\n",
      "\n",
      "def partial_overlapSE(distortion, res, df, give_distortion=True):\n",
      "    ########################################################\n",
      "    ##### This code is for full-overlap case of CNOP########\n",
      "    ########################################################\n",
      "\n",
      "    #PreSampling:\n",
      "    N=distortion.shape[1]\n",
      "    df = df[:N]\n",
      "    #df = x2000[:N]\n",
      "    \n",
      "    ### DGP generation\n",
      "    regime = pd.DataFrame() \n",
      "    beta,   alpha   = [0.6, 0.4], [0.9, 1.5]\n",
      "    gammam, mum =     [0.3, 0.9], [-0.67, 0.36]\n",
      "    gammap, mup =     [0.2, 0.3], [0.02, 1.28]\n",
      "    ####distortion = np.random.randn(3,N)\n",
      "    regime[\"xbeta\"]    = df[[\"X1\", \"X2\"]].dot(beta)    + distortion[0]\n",
      "    regime['z-gammam'] = df[[\"X1\", \"X3\"]].dot(gammam)  + distortion[1]\n",
      "    regime['z+gammap'] = df[[\"X2\", \"X3\"]].dot(gammap)  + distortion[2]\n",
      "    regime['regime'] = regime['xbeta'].apply(lambda x: threshold(x,thresholds=alpha))\n",
      "    regime['Y-']=regime['z-gammam'].apply(lambda x: threshold(x, thresholds=mum,values=[-2,-1,0]))\n",
      "    regime['Y+']=regime['z+gammap'].apply(lambda x: threshold(x, thresholds=mup,values=[0,1,2]))\n",
      "    df['Y'] = 0\n",
      "    df['Y'] += np.where(regime['regime']==-1,regime['Y-'],0)\n",
      "    df['Y'] += np.where(regime['regime']==1,regime['Y+'],0)\n",
      "    ###df is full data matrix\n",
      "\n",
      "    #Model starts here:\n",
      "    exog = df[[\"X1\", \"X2\", \"X3\"]]\n",
      "    endog = df[[\"Y\"]]\n",
      "    l = {0:df}\n",
      "    pan = pd.Panel(l)\n",
      "    y      = pan.ix[:,:,['Y']]\n",
      "    x      = pan.ix[:,:,[\"X1\", \"X2\"]]\n",
      "    zminus = pan.ix[:,:,[\"X1\", \"X3\"]]\n",
      "    zplus  = pan.ix[:,:,[\"X2\", \"X3\"]]\n",
      "    exog = {'x':x,'zplus':zplus,'zminus':zminus}\n",
      "    CNOP4 = CNOP(y,exog, model='CNOP',interest_step=1)\n",
      "\n",
      "    # Standard Errors as well\n",
      "    try:\n",
      "        res[\"se\"] = CNOP4.se(res.x)\n",
      "        res['status'] = \"OK\"\n",
      "    except Exception, e:\n",
      "        print e\n",
      "        res['status'] = e\n",
      "\n",
      "    if give_distortion:\n",
      "        return res, distortion\n",
      "    else:\n",
      "        return res"
     ],
     "language": "python",
     "metadata": {},
     "outputs": [],
     "prompt_number": 14
    },
    {
     "cell_type": "code",
     "collapsed": false,
     "input": [
      "%%px --local\n",
      "\n",
      "def no_overlapSE(distortion, res, df, give_distortion=True):\n",
      "    ########################################################\n",
      "    ##### This code is for full-overlap case of CNOP########\n",
      "    ########################################################\n",
      "\n",
      "    #PreSampling:\n",
      "    N=distortion.shape[1]\n",
      "    df = df[:N]\n",
      "    #df = x2000[:N]\n",
      "    \n",
      "    ### DGP generation\n",
      "    regime = pd.DataFrame() \n",
      "    beta,   alpha   = [0.6], [0.95, 1.45]\n",
      "    gammam, mum =     [0.9], [-1.22, 0.03]\n",
      "    gammap, mup =     [0.8], [-0.03, 1.18]\n",
      "    #####distortion = np.random.randn(3,N)\n",
      "    regime[\"xbeta\"]    = df[[\"X1\"]].dot(beta)    + distortion[0]\n",
      "    regime['z-gammam'] = df[[\"X2\"]].dot(gammam)  + distortion[1]\n",
      "    regime['z+gammap'] = df[[\"X3\"]].dot(gammap)  + distortion[2]\n",
      "    regime['regime'] = regime['xbeta'].apply(lambda x: threshold(x,thresholds=alpha))\n",
      "    regime['Y-']=regime['z-gammam'].apply(lambda x: threshold(x, thresholds=mum,values=[-2,-1,0]))\n",
      "    regime['Y+']=regime['z+gammap'].apply(lambda x: threshold(x, thresholds=mup,values=[0,1,2]))\n",
      "    df['Y'] = 0\n",
      "    df['Y'] += np.where(regime['regime']==-1,regime['Y-'],0)\n",
      "    df['Y'] += np.where(regime['regime']==1,regime['Y+'],0)\n",
      "    ###df is full data matrix\n",
      "\n",
      "    #Model starts here:\n",
      "    exog = df[[\"X1\", \"X2\", \"X3\"]]\n",
      "    endog = df[[\"Y\"]]\n",
      "    l = {0:df}\n",
      "    pan = pd.Panel(l)\n",
      "    y      = pan.ix[:,:,['Y']]\n",
      "    x      = pan.ix[:,:,[\"X1\"]]\n",
      "    zminus = pan.ix[:,:,[\"X2\"]]\n",
      "    zplus  = pan.ix[:,:,[\"X3\"]]\n",
      "    exog = {'x':x,'zplus':zplus,'zminus':zminus}\n",
      "    CNOP4 = CNOP(y,exog, model='CNOP',interest_step=1)\n",
      "\n",
      "    # Standard Errors as well\n",
      "    try:\n",
      "        res[\"se\"] = CNOP4.se(res.x)\n",
      "        res['status'] = \"OK\"\n",
      "    except Exception, e:\n",
      "        print e\n",
      "        res['status'] = e\n",
      "\n",
      "    if give_distortion:\n",
      "        return res, distortion\n",
      "    else:\n",
      "        return res"
     ],
     "language": "python",
     "metadata": {},
     "outputs": [],
     "prompt_number": 59
    },
    {
     "cell_type": "heading",
     "level": 1,
     "metadata": {},
     "source": [
      "Results processing part"
     ]
    },
    {
     "cell_type": "markdown",
     "metadata": {},
     "source": [
      "This code section provides processing function "
     ]
    },
    {
     "cell_type": "code",
     "collapsed": false,
     "input": [
      "def process_dump(obj, res_real, cutpoints = (.2, .8)):\n",
      "    if type(obj) is str:\n",
      "        mc_res = pickle.load(file(obj))\n",
      "    else:\n",
      "        mc_res = obj\n",
      "    xs = np.array([item[0][0].x for item in mc_res if len(item)==2 and item[0][0].success\n",
      "                   and linalg.norm(item[0][0].x, ord=np.inf) < 100 \n",
      "                   ])\n",
      "    ses = np.array([item[0][0].se for item in mc_res \n",
      "                    if len(item)==2 and item[0][0].success\n",
      "                    and linalg.norm(item[0][0].x, ord=np.inf) < 100 \n",
      "                    and \"se\" in item[0][0].keys() #and not np.isnan(item[0][0].se).any() \\\n",
      "                    #and linalg.norm(item[0][0].se, ord=np.inf) < 100\n",
      "                    ])\n",
      "    ses = np.nan_to_num(ses)\n",
      "    \n",
      "    xs = pd.DataFrame(xs)\n",
      "    ses = pd.DataFrame(ses)\n",
      "\n",
      "    \n",
      "    rmse =  ((res_real - xs) ** 2).mean().mean()\n",
      "    bias = (res_real - xs).mean().mean()\n",
      "    #a_ratio = (ses.mean()/xs.std()).mean()\n",
      "    #m_ratio = (ses.median()/xs.std()).mean()\n",
      "    a_ratio = (ses[(ses<ses.quantile(cutpoints[1]))&(ses>ses.quantile(cutpoints[0]))].mean()  \\\n",
      "                  / xs[(xs<xs.quantile(cutpoints[1]))&(xs>xs.quantile(cutpoints[0]))].std()).mean()\n",
      "    m_ratio = (ses[(ses<ses.quantile(cutpoints[1]))&(ses>ses.quantile(cutpoints[0]))].median()  \\\n",
      "                  / xs[(xs<xs.quantile(cutpoints[1]))&(xs>xs.quantile(cutpoints[0]))].std()).mean()\n",
      "\n",
      "    if type(obj) is str:\n",
      "        print \"FILE: %s\"%(obj.split(\"\\\\\")[-1])\n",
      "    print \"BIAS: %2.3f\"%(bias)\n",
      "    print \"RMSE: %2.3f\"%(rmse)\n",
      "    print \"A-ratio: %2.3f\"%(a_ratio)\n",
      "    print \"M-ratio: %2.3f\"%(m_ratio)\n",
      "    print\n",
      "    print \"XS len: %s\" % len(xs)\n",
      "    print \"SE len: %s\" % len(ses)\n",
      "    #print \"SE mean: %s \"% ses.mean()\n",
      "    #print \"XS variance: %s \"% xs.std()\n",
      "    \n",
      "    return xs, ses\n"
     ],
     "language": "python",
     "metadata": {},
     "outputs": [],
     "prompt_number": 21
    },
    {
     "cell_type": "code",
     "collapsed": false,
     "input": [
      "beta,   alpha   = [0.6, 0.4, 0.8], [0.85, 1.55]\n",
      "gammam, mum =     [0.4, 0.3, 0.9], [-1.2, 0.07]\n",
      "gammap, mup =     [0.2, 0.8, 0.3], [1.28, 2.5]\n",
      "res_real_full = beta+alpha+gammam+mum+gammap+mup\n",
      "beta,   alpha   = [0.6, 0.4], [0.9, 1.5]\n",
      "gammam, mum =     [0.3, 0.9], [-0.67, 0.36]\n",
      "gammap, mup =     [0.2, 0.3], [0.02, 1.28]\n",
      "res_real_partial = beta+alpha+gammam+mum+gammap+mup\n",
      "beta,   alpha   = [0.6], [0.95, 1.45]\n",
      "gammam, mum =     [0.9], [-1.22, 0.03]\n",
      "gammap, mup =     [0.8], [-0.03, 1.18]\n",
      "res_real_no = beta+alpha+gammam+mum+gammap+mup"
     ],
     "language": "python",
     "metadata": {},
     "outputs": [],
     "prompt_number": 20
    },
    {
     "cell_type": "markdown",
     "metadata": {},
     "source": [
      "---"
     ]
    },
    {
     "cell_type": "heading",
     "level": 1,
     "metadata": {},
     "source": [
      "Workspace"
     ]
    },
    {
     "cell_type": "heading",
     "level": 2,
     "metadata": {},
     "source": [
      "Sandbox"
     ]
    },
    {
     "cell_type": "heading",
     "level": 3,
     "metadata": {},
     "source": [
      "Very old processing code"
     ]
    },
    {
     "cell_type": "code",
     "collapsed": false,
     "input": [
      "dump = pickle.load(file(\"W:\\\\CNOP\\\\dumps\\\\MC 31.03-results\\\\3Full\\\\res250_CHECKED\"))"
     ],
     "language": "python",
     "metadata": {},
     "outputs": [],
     "prompt_number": 33
    },
    {
     "cell_type": "code",
     "collapsed": false,
     "input": [
      "distortion=dump[1234][0][1]\n",
      "#N=distortion.shape[1]\n",
      "res = dump[1234][0][0]"
     ],
     "language": "python",
     "metadata": {},
     "outputs": [
      {
       "ename": "KeyError",
       "evalue": "1",
       "output_type": "pyerr",
       "traceback": [
        "\u001b[1;31m---------------------------------------------------------------------------\u001b[0m\n\u001b[1;31mKeyError\u001b[0m                                  Traceback (most recent call last)",
        "\u001b[1;32m<ipython-input-14-b8dcd35a6406>\u001b[0m in \u001b[0;36m<module>\u001b[1;34m()\u001b[0m\n\u001b[1;32m----> 1\u001b[1;33m \u001b[0mdistortion\u001b[0m\u001b[1;33m=\u001b[0m\u001b[0mdump\u001b[0m\u001b[1;33m[\u001b[0m\u001b[1;36m1234\u001b[0m\u001b[1;33m]\u001b[0m\u001b[1;33m[\u001b[0m\u001b[1;36m0\u001b[0m\u001b[1;33m]\u001b[0m\u001b[1;33m[\u001b[0m\u001b[1;36m1\u001b[0m\u001b[1;33m]\u001b[0m\u001b[1;33m\u001b[0m\u001b[0m\n\u001b[0m\u001b[0;32m      2\u001b[0m \u001b[1;31m#N=distortion.shape[1]\u001b[0m\u001b[1;33m\u001b[0m\u001b[1;33m\u001b[0m\u001b[0m\n\u001b[0;32m      3\u001b[0m \u001b[0mres\u001b[0m \u001b[1;33m=\u001b[0m \u001b[0mdump\u001b[0m\u001b[1;33m[\u001b[0m\u001b[1;36m1234\u001b[0m\u001b[1;33m]\u001b[0m\u001b[1;33m[\u001b[0m\u001b[1;36m0\u001b[0m\u001b[1;33m]\u001b[0m\u001b[1;33m[\u001b[0m\u001b[1;36m0\u001b[0m\u001b[1;33m]\u001b[0m\u001b[1;33m\u001b[0m\u001b[0m\n",
        "\u001b[1;31mKeyError\u001b[0m: 1"
       ]
      }
     ],
     "prompt_number": 14
    },
    {
     "cell_type": "code",
     "collapsed": false,
     "input": [
      "ii = [(i[1], i[0]) for i in dump if type(i)==tuple]"
     ],
     "language": "python",
     "metadata": {},
     "outputs": [],
     "prompt_number": 34
    },
    {
     "cell_type": "code",
     "collapsed": false,
     "input": [
      "len(ii)"
     ],
     "language": "python",
     "metadata": {},
     "outputs": [
      {
       "metadata": {},
       "output_type": "pyout",
       "prompt_number": 35,
       "text": [
        "9994"
       ]
      }
     ],
     "prompt_number": 35
    },
    {
     "cell_type": "code",
     "collapsed": false,
     "input": [
      "for dist, r in zip(distortion, res):\n",
      "    N=distortion.shape[1]"
     ],
     "language": "python",
     "metadata": {},
     "outputs": [],
     "prompt_number": 96
    },
    {
     "cell_type": "code",
     "collapsed": true,
     "input": [
      "full_overlapSE(distortion=distortion, res=res, df=x2000)"
     ],
     "language": "python",
     "metadata": {},
     "outputs": [
      {
       "metadata": {},
       "output_type": "pyout",
       "prompt_number": 71,
       "text": [
        "(    status: 'OK'\n",
        "   success: True\n",
        " exec_time: {'se': 3.13100004196167, 'fit': 7.759999990463257}\n",
        "      njev: 24\n",
        "      nfev: 43\n",
        "        se: array([ 0.34933433,  0.34058812,  0.53842331,  0.93583973,  1.15047938,\n",
        "        0.32926633,  0.48263084,  0.49835624,  0.91299937,  1.30484267,\n",
        "        0.33148323,  0.40386578,  0.48224324,  0.91302005,  1.0074087 ])\n",
        "       fun: 80.819595455899488\n",
        "         x: array([-0.22118944,  0.64690735,  1.0784131 , -0.58726372,  0.17302768,\n",
        "        0.74180109,  0.08043358,  1.29506658, -0.97176219,  0.42412097,\n",
        "        0.86867512,  1.10969237, -0.67776276,  2.07955817,  3.63352395])\n",
        "   message: 'Optimization terminated successfully.'\n",
        "       jac: array([  1.10433772e-03,   1.13770950e-03,   3.61218930e-04,\n",
        "        -5.14491603e-05,  -4.13226304e-04,  -9.73330699e-04,\n",
        "         1.78551967e-03,   5.37226506e-04,   6.52690583e-05,\n",
        "         3.15928873e-04,  -8.39702240e-05,   5.86046959e-04,\n",
        "         6.18651038e-04,  -6.37626673e-04,   3.73471423e-04,\n",
        "         0.00000000e+00])\n",
        "       nit: 24,\n",
        " array([[-0.65849066,  0.12758959,  0.30828359, -0.72300929, -0.52984377,\n",
        "          0.12444477,  1.0364022 , -0.88821299, -0.46250863, -0.23207546,\n",
        "         -1.55012724, -0.48187254,  1.97521992,  1.35728135,  0.1737257 ,\n",
        "          0.64012175,  2.23702648,  0.72749142,  0.76550129,  0.35432155,\n",
        "          0.1523343 ,  1.10229344,  0.11748324, -0.18016624, -0.6125319 ,\n",
        "          0.92742445, -0.28105381,  0.51810738, -0.24117523,  2.14084354,\n",
        "         -1.44472144, -0.40563316, -0.91085077,  2.38321777,  1.21480444,\n",
        "         -0.58983945, -0.17816859, -1.22860213, -1.70197894, -0.73543691,\n",
        "         -0.13782063, -0.02459721,  1.17328641, -0.28251922, -0.19401287,\n",
        "         -0.41770357, -0.20369682, -0.18265644,  0.91053538,  0.31068703,\n",
        "          0.3021014 , -0.55796318, -0.46839616,  0.41852571,  0.08869728,\n",
        "         -0.17379604,  0.27773785, -0.6341638 ,  0.2193762 , -1.99716192,\n",
        "          0.72754637,  1.04824111, -0.46469864,  0.31664684,  1.77659081,\n",
        "          0.501851  ,  0.01010618,  0.11548354,  1.31352822, -1.10330377,\n",
        "          2.04214216,  0.5670347 ,  0.20750388, -1.39193479,  1.09854305,\n",
        "          0.20991727,  0.6148039 , -0.23219888, -1.63143816, -0.3113239 ,\n",
        "          0.06370696,  0.05583874, -0.84154001,  2.28391684, -1.38382763,\n",
        "          0.69328705,  0.63985189, -0.52325082,  0.03394195,  1.66932115,\n",
        "          1.02726235, -1.10240467,  0.37947473,  1.94462121,  1.23407402,\n",
        "          2.05201942,  1.18745554, -1.13622877,  0.50604613,  0.47993305,\n",
        "         -0.11968046, -1.37657067, -0.22178515, -1.04906806, -0.45548828,\n",
        "         -0.84850566, -0.86726097,  1.33507232, -2.26798557, -1.14556168,\n",
        "         -1.05415193, -0.17334611, -2.57434859,  0.29055665, -0.59005641,\n",
        "          0.93932394,  0.14639254,  1.71896725, -0.41747126, -0.18645907,\n",
        "          0.37416133,  0.17025394, -0.04944148, -0.90371153,  0.69655254],\n",
        "        [ 0.15539417, -1.62033092,  1.83273409,  0.70142021,  0.50569542,\n",
        "         -0.69740753, -0.99207173,  0.05741582, -0.36651329, -0.77563492,\n",
        "         -1.06056146,  0.59775908,  0.467296  ,  0.80204381, -0.92815817,\n",
        "         -0.21126419, -0.81188892,  0.05078132,  0.2263266 ,  0.55898447,\n",
        "         -0.54512208,  0.0718628 ,  1.09140112, -0.23984544, -0.96441731,\n",
        "         -1.10817258,  1.31458691, -0.95658339,  0.77771163, -0.48086161,\n",
        "         -0.68610134, -0.99365589, -0.7342906 ,  0.09671603,  0.81012795,\n",
        "         -0.07336175, -0.27410992,  0.49286272,  0.89857111,  0.74268977,\n",
        "          0.18021026,  0.85102094,  0.2009101 , -0.49143605, -1.20451873,\n",
        "          1.12788126, -0.27125076,  0.83760736, -0.29542327,  0.46685236,\n",
        "          1.34313833, -0.01315194, -0.1059768 , -0.53263517, -1.14402407,\n",
        "          0.52893496, -1.76233971, -0.13808209,  0.75991946, -1.19188042,\n",
        "          1.0168731 ,  0.08753221,  0.09104594, -0.59182929, -0.32340927,\n",
        "         -0.83645602,  1.48839117, -0.7497384 , -1.48285311, -0.663332  ,\n",
        "         -0.82678953,  0.05471952, -0.77192231, -0.38057591, -0.72849574,\n",
        "          1.94152203, -1.55423222,  1.03758962, -0.91248709, -0.86052947,\n",
        "          0.09396988,  0.34470884,  0.27811319, -0.84341698, -1.2629853 ,\n",
        "          0.8358606 , -1.31135226,  1.81650139,  0.23046971,  1.35228671,\n",
        "          0.56109525, -1.09368332, -0.52127659,  0.69066964, -0.78511718,\n",
        "         -2.30768187,  0.78987828, -1.81274608,  1.62915463, -1.11144978,\n",
        "         -0.97142666,  0.36276284,  3.61944534, -0.32155505, -0.17251979,\n",
        "          1.48071682, -0.05186607, -0.93439808,  0.23019345,  0.49049959,\n",
        "         -0.4948306 , -0.93685514,  2.04102131,  0.16924849, -1.95989933,\n",
        "          0.23971384,  1.92274862, -1.3356832 , -0.1792877 ,  0.07917409,\n",
        "         -1.0898919 ,  1.52765568, -0.27147008,  0.86472629,  1.88663487],\n",
        "        [ 1.44715764, -1.29437345, -1.70804354,  0.41575311, -0.57227623,\n",
        "         -0.94440783,  0.81211733, -0.66171501, -1.47383389,  0.5618468 ,\n",
        "         -2.991046  ,  0.09855748,  0.11685723,  1.2433949 ,  0.43690795,\n",
        "          2.19380329, -0.92722301, -1.40110508, -2.55701316, -0.86975502,\n",
        "         -0.74821661, -0.04272166, -0.88968691, -0.74139261,  0.88182524,\n",
        "         -0.65294366,  0.07929029, -0.52863992, -0.4366701 ,  0.86834561,\n",
        "          0.07131008, -0.10182941,  0.60489969,  1.99660192,  1.42904904,\n",
        "          1.61147338, -0.09305679, -1.60127204, -0.21434332,  0.19171124,\n",
        "         -0.39263112,  0.08225134, -1.41706237,  0.36145739,  1.38756936,\n",
        "          1.26083718, -0.61374459, -0.84552621,  1.45755129,  0.86011847,\n",
        "          0.29554469, -1.39663235,  0.47889041, -1.32128609,  0.78316166,\n",
        "          0.39299545, -1.27208587, -0.87219889, -0.96406386,  0.17194935,\n",
        "          0.35417004,  0.04383654,  0.23345796,  0.62921235, -1.14920078,\n",
        "         -0.78706668,  1.2450387 ,  0.44661505,  0.67591455,  0.1674787 ,\n",
        "          0.5052915 ,  0.93267424, -0.87904208, -0.14699029,  0.53851577,\n",
        "          0.16776776,  0.59047815, -0.48349618,  0.3130363 , -0.23517739,\n",
        "          1.98698923, -0.28746599, -1.81373073,  1.25721544,  1.05454123,\n",
        "         -0.22879573, -1.06500897,  1.17647207,  0.10258579, -0.2905512 ,\n",
        "          0.62484526,  0.92270418,  0.10570822, -0.51583754,  0.47856994,\n",
        "         -0.28476543,  0.72794206,  2.2490371 , -0.01077531,  1.72596475,\n",
        "         -1.35132172,  1.13856469,  0.83635239,  0.25102303, -0.07373776,\n",
        "         -0.12782123, -1.91769006, -0.78952118, -0.64331411,  0.0408862 ,\n",
        "          0.50305059, -1.43139072, -0.66349588, -1.25463735, -0.4856183 ,\n",
        "         -1.93509352,  0.5549096 , -0.16346897, -1.4192809 , -0.0128375 ,\n",
        "         -2.20290262,  0.40109792, -0.46375213, -0.72490064,  2.18270735]]))"
       ]
      }
     ],
     "prompt_number": 71
    },
    {
     "cell_type": "heading",
     "level": 2,
     "metadata": {},
     "source": [
      "Full overlap"
     ]
    },
    {
     "cell_type": "code",
     "collapsed": false,
     "input": [
      "genr = recalcSE(\"W:\\\\CNOP\\\\dumps\\\\MC 31.03-results\\\\3Full\\\\res150_CHECKED\", full_overlapSE, df=x2000, chunksize=50)"
     ],
     "language": "python",
     "metadata": {},
     "outputs": [],
     "prompt_number": 299
    },
    {
     "cell_type": "code",
     "collapsed": false,
     "input": [
      "item = next(genr)"
     ],
     "language": "python",
     "metadata": {},
     "outputs": [
      {
       "output_type": "stream",
       "stream": "stdout",
       "text": [
        "Starting SE on 9 cores, \"full_overlapSE\"\n",
        "NO BACKUP\n",
        "Results loaded"
       ]
      },
      {
       "output_type": "stream",
       "stream": "stdout",
       "text": [
        "\n",
        "Job type 1, 9816\n"
       ]
      }
     ],
     "prompt_number": 300
    },
    {
     "cell_type": "code",
     "collapsed": false,
     "input": [
      "res = next(genr)"
     ],
     "language": "python",
     "metadata": {},
     "outputs": [
      {
       "output_type": "stream",
       "stream": "stdout",
       "text": [
        " 197/197 tasks finished after   62 s"
       ]
      },
      {
       "output_type": "stream",
       "stream": "stdout",
       "text": [
        "\n",
        "done\n",
        "DONE!\n"
       ]
      }
     ],
     "prompt_number": 301
    },
    {
     "cell_type": "code",
     "collapsed": false,
     "input": [
      "len(res)"
     ],
     "language": "python",
     "metadata": {},
     "outputs": [
      {
       "metadata": {},
       "output_type": "pyout",
       "prompt_number": 302,
       "text": [
        "9816"
       ]
      }
     ],
     "prompt_number": 302
    },
    {
     "cell_type": "code",
     "collapsed": false,
     "input": [
      "process_dump(res, res_real_full)\n",
      "#OLD before NaN -> 0"
     ],
     "language": "python",
     "metadata": {},
     "outputs": [
      {
       "output_type": "stream",
       "stream": "stdout",
       "text": [
        "BIAS: -0.280\n",
        "RMSE: 10.400\n",
        "A-ratio: 35935.1136818\n",
        "M-ratio: 0.175399313066\n",
        "\n",
        "XS len: 8514\n",
        "SE len: 1408\n",
        "SE mean: [  2.25128781e-01   2.60298419e-01   1.94862640e+00   6.45686806e-01\n",
        "   7.80111506e-01   3.90081990e-01   3.69275157e-01   8.23210521e+05\n",
        "   8.86223835e+05   6.04598895e+02   2.60580159e-01   4.14352040e-01\n",
        "   3.58389310e+04   2.78571299e+05   3.88763383e+04] \n",
        "XS variance: [ 1.1554774   1.10966607  2.53651001  2.08770918  2.25000791  1.54851286\n",
        "  1.61313639  3.41722933  3.93851742  4.94660503  1.40904432  2.392834\n",
        "  2.85243582  5.24450798  5.32106036] \n"
       ]
      }
     ],
     "prompt_number": 23
    },
    {
     "cell_type": "code",
     "collapsed": true,
     "input": [
      "process_dump(res, res_real_full, cutpoints=(0.1, 0.9));"
     ],
     "language": "python",
     "metadata": {},
     "outputs": [
      {
       "output_type": "stream",
       "stream": "stdout",
       "text": [
        "BIAS: -0.280\n",
        "RMSE: 10.400\n",
        "A-ratio: 0.693\n",
        "M-ratio: 0.634\n",
        "\n",
        "XS len: 8514\n",
        "SE len: 8091\n",
        "SE mean: 0     1.883167e-01\n",
        "1     2.377810e-01\n",
        "2     2.186035e+03\n",
        "3     5.712088e-01\n",
        "4     6.095025e-01\n",
        "5     3.500693e-01\n",
        "6     3.437068e-01\n",
        "7     1.562116e+06\n",
        "8     1.534973e+06\n",
        "9     6.702975e+04\n",
        "10    2.132596e-01\n",
        "11    3.718374e-01\n",
        "12    7.778845e+04\n",
        "13    6.091778e+10\n",
        "14    1.757047e+04\n",
        "dtype: float64 \n",
        "XS variance: 0     1.155545\n",
        "1     1.109731\n",
        "2     2.536659\n",
        "3     2.087832\n",
        "4     2.250140\n",
        "5     1.548604\n",
        "6     1.613231\n",
        "7     3.417430\n",
        "8     3.938749\n",
        "9     4.946896\n",
        "10    1.409127\n",
        "11    2.392975\n",
        "12    2.852603\n",
        "13    5.244816\n",
        "14    5.321373\n",
        "dtype: float64 \n"
       ]
      }
     ],
     "prompt_number": 305
    },
    {
     "cell_type": "code",
     "collapsed": false,
     "input": [
      "genr = recalcSE(\"W:\\\\CNOP\\\\dumps\\\\MC 31.03-results\\\\3Full\\\\res250_CHECKED\", full_overlapSE, df=x2000, chunksize=50)\n",
      "item250 = next(genr)"
     ],
     "language": "python",
     "metadata": {},
     "outputs": [
      {
       "output_type": "stream",
       "stream": "stdout",
       "text": [
        "Starting SE on 12 cores, \"full_overlapSE\"\n",
        "NO BACKUP\n",
        "Results loaded"
       ]
      },
      {
       "output_type": "stream",
       "stream": "stdout",
       "text": [
        "\n",
        "Job type 2, 9994"
       ]
      },
      {
       "output_type": "stream",
       "stream": "stdout",
       "text": [
        "\n"
       ]
      }
     ],
     "prompt_number": 319
    },
    {
     "cell_type": "code",
     "collapsed": false,
     "input": [
      "res250 = next(genr) "
     ],
     "language": "python",
     "metadata": {},
     "outputs": [
      {
       "output_type": "stream",
       "stream": "stdout",
       "text": [
        " 200/200 tasks finished after   17 s"
       ]
      },
      {
       "output_type": "stream",
       "stream": "stdout",
       "text": [
        "\n",
        "done\n",
        "DONE!\n"
       ]
      }
     ],
     "prompt_number": 320
    },
    {
     "cell_type": "code",
     "collapsed": true,
     "input": [
      "process_dump(res250, res_real_full,  cutpoints=(0.1,0.9));"
     ],
     "language": "python",
     "metadata": {},
     "outputs": [
      {
       "output_type": "stream",
       "stream": "stdout",
       "text": [
        "BIAS: -0.105\n",
        "RMSE: 2.185\n",
        "A-ratio: 1.236\n",
        "M-ratio: 1.001\n",
        "\n",
        "XS len: 9914\n",
        "SE len: 9908\n",
        "SE mean: 0     2.542456e-01\n",
        "1     2.513788e-01\n",
        "2     5.337107e-01\n",
        "3     9.098797e-01\n",
        "4     9.965594e-01\n",
        "5     2.639343e-01\n",
        "6     2.527580e-01\n",
        "7     3.909120e+01\n",
        "8     3.915632e+01\n",
        "9     3.071424e+17\n",
        "10    3.378472e-01\n",
        "11    3.784930e-01\n",
        "12    1.380877e+04\n",
        "13    1.778343e+11\n",
        "14    1.380928e+04\n",
        "dtype: float64 \n",
        "XS variance: 0     0.498076\n",
        "1     0.485034\n",
        "2     0.687086\n",
        "3     1.286306\n",
        "4     1.230183\n",
        "5     0.423262\n",
        "6     0.333848\n",
        "7     1.204895\n",
        "8     1.180613\n",
        "9     2.510756\n",
        "10    0.552642\n",
        "11    0.750639\n",
        "12    1.128163\n",
        "13    2.761042\n",
        "14    2.274535\n",
        "dtype: float64 \n"
       ]
      }
     ],
     "prompt_number": 321
    },
    {
     "cell_type": "code",
     "collapsed": false,
     "input": [
      "pickle.dump(res250, file(\"W:\\\\CNOP\\\\dumps\\\\SE 06.04\\\\3Full\\\\res250_CHECKED\", \"w\"))"
     ],
     "language": "python",
     "metadata": {},
     "outputs": []
    },
    {
     "cell_type": "code",
     "collapsed": false,
     "input": [
      "genr = recalcSE(\"W:\\\\CNOP\\\\dumps\\\\MC 31.03-results\\\\3Full\\\\res500_CHECKED\", full_overlapSE, df=x2000, chunksize=50)\n",
      "item500 = next(genr)"
     ],
     "language": "python",
     "metadata": {},
     "outputs": [
      {
       "output_type": "stream",
       "stream": "stdout",
       "text": [
        "Starting SE on 12 cores, \"full_overlapSE\"\n",
        "NO BACKUP\n",
        "Results loaded"
       ]
      },
      {
       "output_type": "stream",
       "stream": "stdout",
       "text": [
        "\n",
        "Job type 2, 10000\n"
       ]
      }
     ],
     "prompt_number": 311
    },
    {
     "cell_type": "code",
     "collapsed": false,
     "input": [
      "res500 = next(genr) "
     ],
     "language": "python",
     "metadata": {},
     "outputs": [
      {
       "output_type": "stream",
       "stream": "stdout",
       "text": [
        " 200/200 tasks finished after   26 s"
       ]
      },
      {
       "output_type": "stream",
       "stream": "stdout",
       "text": [
        "\n",
        "done\n",
        "DONE!\n"
       ]
      }
     ],
     "prompt_number": 312
    },
    {
     "cell_type": "code",
     "collapsed": false,
     "input": [
      "res500 = pickle.load(file(\"W:\\\\CNOP\\\\dumps\\\\SE 06.04\\\\3Full\\\\res500_CHECKED\"))"
     ],
     "language": "python",
     "metadata": {},
     "outputs": [],
     "prompt_number": 280
    },
    {
     "cell_type": "code",
     "collapsed": true,
     "input": [
      "process_dump(res500, res_real_full, cutpoints=(0.1,0.9));"
     ],
     "language": "python",
     "metadata": {},
     "outputs": [
      {
       "output_type": "stream",
       "stream": "stdout",
       "text": [
        "BIAS: -0.046\n",
        "RMSE: 0.934\n",
        "A-ratio: 1.288\n",
        "M-ratio: 1.029\n",
        "\n",
        "XS len: 10000\n",
        "SE len: 10000\n",
        "SE mean: 0       0.174601\n",
        "1       0.179646\n",
        "2       0.258586\n",
        "3       0.713882\n",
        "4       0.788527\n",
        "5       0.179658\n",
        "6       0.175293\n",
        "7       0.500888\n",
        "8       0.537127\n",
        "9     149.241483\n",
        "10      0.188565\n",
        "11      0.189466\n",
        "12      0.279286\n",
        "13     15.891899\n",
        "14      0.683444\n",
        "dtype: float64 \n",
        "XS variance: 0     0.278079\n",
        "1     0.283014\n",
        "2     0.402717\n",
        "3     0.925671\n",
        "4     0.838328\n",
        "5     0.239001\n",
        "6     0.201319\n",
        "7     0.401422\n",
        "8     0.422587\n",
        "9     2.039739\n",
        "10    0.236728\n",
        "11    0.249174\n",
        "12    0.325520\n",
        "13    2.038736\n",
        "14    0.794329\n",
        "dtype: float64 \n"
       ]
      }
     ],
     "prompt_number": 313
    },
    {
     "cell_type": "code",
     "collapsed": false,
     "input": [
      "del res500"
     ],
     "language": "python",
     "metadata": {},
     "outputs": [],
     "prompt_number": 322
    },
    {
     "cell_type": "code",
     "collapsed": false,
     "input": [
      "pickle.dump(res500, file(\"W:\\\\CNOP\\\\dumps\\\\SE 06.04\\\\3Full\\\\res500_CHECKED\", \"w\"))"
     ],
     "language": "python",
     "metadata": {},
     "outputs": []
    },
    {
     "cell_type": "code",
     "collapsed": false,
     "input": [
      "genr = recalcSE(\"W:\\\\CNOP\\\\dumps\\\\MC 31.03-results\\\\3Full\\\\res1000_CHECKED\", full_overlapSE, df=x2000, chunksize=50)\n",
      "item1000 = next(genr)"
     ],
     "language": "python",
     "metadata": {},
     "outputs": [
      {
       "output_type": "stream",
       "stream": "stdout",
       "text": [
        "Starting SE on 12 cores, \"full_overlapSE\"\n",
        "NO BACKUP\n",
        "Results loaded"
       ]
      },
      {
       "output_type": "stream",
       "stream": "stdout",
       "text": [
        "\n",
        "Job type 2, 9999\n"
       ]
      }
     ],
     "prompt_number": 325
    },
    {
     "cell_type": "code",
     "collapsed": false,
     "input": [
      "res1000 = next(genr)"
     ],
     "language": "python",
     "metadata": {},
     "outputs": [
      {
       "output_type": "stream",
       "stream": "stdout",
       "text": [
        " 200/200 tasks finished after   67 s"
       ]
      },
      {
       "output_type": "stream",
       "stream": "stdout",
       "text": [
        "\n",
        "done\n",
        "DONE!\n"
       ]
      }
     ],
     "prompt_number": 326
    },
    {
     "cell_type": "code",
     "collapsed": false,
     "input": [
      "pickle.dump(res1000, file(\"W:\\\\CNOP\\\\dumps\\\\SE 06.04\\\\3Full\\\\res1000_CHECKED\", \"w\"))"
     ],
     "language": "python",
     "metadata": {},
     "outputs": [],
     "prompt_number": 288
    },
    {
     "cell_type": "code",
     "collapsed": true,
     "input": [
      "process_dump(res1000, res_real_full, cutpoints=(0.1,0.9));"
     ],
     "language": "python",
     "metadata": {},
     "outputs": [
      {
       "output_type": "stream",
       "stream": "stdout",
       "text": [
        "BIAS: -0.026\n",
        "RMSE: 0.676\n",
        "A-ratio: 1.142\n",
        "M-ratio: 1.037\n",
        "\n",
        "XS len: 9999\n",
        "SE len: 9999\n",
        "SE mean: 0      0.139030\n",
        "1      0.148434\n",
        "2      0.209963\n",
        "3      0.705560\n",
        "4      0.589676\n",
        "5      0.129733\n",
        "6      0.131604\n",
        "7      0.199479\n",
        "8      0.225851\n",
        "9     18.677218\n",
        "10     0.136535\n",
        "11     0.129167\n",
        "12     0.200962\n",
        "13    12.936865\n",
        "14     0.515106\n",
        "dtype: float64 \n",
        "XS variance: 0     0.195681\n",
        "1     0.218619\n",
        "2     0.306642\n",
        "3     0.847499\n",
        "4     0.646946\n",
        "5     0.160897\n",
        "6     0.140437\n",
        "7     0.273343\n",
        "8     0.301693\n",
        "9     1.844760\n",
        "10    0.155619\n",
        "11    0.170510\n",
        "12    0.215023\n",
        "13    1.787101\n",
        "14    0.577913\n",
        "dtype: float64 \n"
       ]
      }
     ],
     "prompt_number": 327
    },
    {
     "cell_type": "code",
     "collapsed": false,
     "input": [
      "del res1000"
     ],
     "language": "python",
     "metadata": {},
     "outputs": [],
     "prompt_number": 328
    },
    {
     "cell_type": "code",
     "collapsed": false,
     "input": [
      "del item1000"
     ],
     "language": "python",
     "metadata": {},
     "outputs": [],
     "prompt_number": 329
    },
    {
     "cell_type": "markdown",
     "metadata": {},
     "source": [
      "---"
     ]
    },
    {
     "cell_type": "heading",
     "level": 1,
     "metadata": {},
     "source": [
      "Partial overlap"
     ]
    },
    {
     "cell_type": "code",
     "collapsed": false,
     "input": [
      "genr = recalcSE(\"W:\\\\CNOP\\\\dumps\\\\MC 31.03-results\\\\2Partial\\\\res150_CHECKED\", partial_overlapSE, df=x2000, chunksize=50)\n",
      "item125 = next(genr)"
     ],
     "language": "python",
     "metadata": {},
     "outputs": [
      {
       "output_type": "stream",
       "stream": "stdout",
       "text": [
        "Starting SE on 12 cores, \"partial_overlapSE\"\n",
        "NO BACKUP\n",
        "Results loaded"
       ]
      },
      {
       "output_type": "stream",
       "stream": "stdout",
       "text": [
        "\n",
        "Job type 1, 9993\n"
       ]
      }
     ],
     "prompt_number": 56
    },
    {
     "cell_type": "code",
     "collapsed": false,
     "input": [
      "res125 = next(genr)"
     ],
     "language": "python",
     "metadata": {},
     "outputs": [
      {
       "output_type": "stream",
       "stream": "stdout",
       "text": [
        " 200/200 tasks finished after   17 s"
       ]
      },
      {
       "output_type": "stream",
       "stream": "stdout",
       "text": [
        "\n",
        "done\n",
        "DONE!\n"
       ]
      }
     ],
     "prompt_number": 57
    },
    {
     "cell_type": "code",
     "collapsed": false,
     "input": [
      "process_dump(res125, res_real_partial, cutpoints=(0.001,0.9));"
     ],
     "language": "python",
     "metadata": {},
     "outputs": [
      {
       "output_type": "stream",
       "stream": "stdout",
       "text": [
        "BIAS: 0.011\n",
        "RMSE: 0.978\n",
        "A-ratio: 0.840\n",
        "M-ratio: 0.784\n",
        "\n",
        "XS len: 9972\n",
        "SE len: 9946\n"
       ]
      }
     ],
     "prompt_number": 58
    },
    {
     "cell_type": "code",
     "collapsed": false,
     "input": [
      "pickle.dump(res125, file(\"W:\\\\CNOP\\\\dumps\\\\SE 06.04\\\\2Partial\\\\res150_CHECKED\", \"w\"))\n",
      "del genr, res125,  item125"
     ],
     "language": "python",
     "metadata": {},
     "outputs": [],
     "prompt_number": 25
    },
    {
     "cell_type": "code",
     "collapsed": false,
     "input": [
      "genr = recalcSE(\"W:\\\\CNOP\\\\dumps\\\\MC 31.03-results\\\\2Partial\\\\res250_CHECKED\", partial_overlapSE, df=x2000, chunksize=50)\n",
      "item250 = next(genr)"
     ],
     "language": "python",
     "metadata": {},
     "outputs": [
      {
       "output_type": "stream",
       "stream": "stdout",
       "text": [
        "Starting SE on 12 cores, \"partial_overlapSE\"\n",
        "NO BACKUP\n",
        "Results loaded"
       ]
      },
      {
       "output_type": "stream",
       "stream": "stdout",
       "text": [
        "\n",
        "Job type 1, 10000\n"
       ]
      }
     ],
     "prompt_number": 26
    },
    {
     "cell_type": "code",
     "collapsed": false,
     "input": [
      "res250 = next(genr)"
     ],
     "language": "python",
     "metadata": {},
     "outputs": [
      {
       "output_type": "stream",
       "stream": "stdout",
       "text": [
        " 200/200 tasks finished after   18 s"
       ]
      },
      {
       "output_type": "stream",
       "stream": "stdout",
       "text": [
        "\n",
        "done\n",
        "DONE!\n"
       ]
      }
     ],
     "prompt_number": 27
    },
    {
     "cell_type": "code",
     "collapsed": false,
     "input": [
      "process_dump(res250, res_real_partial, cutpoints=(0.001,0.9));"
     ],
     "language": "python",
     "metadata": {},
     "outputs": [
      {
       "output_type": "stream",
       "stream": "stdout",
       "text": [
        "BIAS: 0.049\n",
        "RMSE: 0.535\n",
        "A-ratio: 1.235\n",
        "M-ratio: 0.918\n",
        "\n",
        "XS len: 10000\n",
        "SE len: 10000\n"
       ]
      }
     ],
     "prompt_number": 45
    },
    {
     "cell_type": "code",
     "collapsed": false,
     "input": [
      "pickle.dump(res250, file(\"W:\\\\CNOP\\\\dumps\\\\SE 06.04\\\\2Partial\\\\res250_CHECKED\", \"w\"))\n",
      "del genr, res250,  item250"
     ],
     "language": "python",
     "metadata": {},
     "outputs": [],
     "prompt_number": 46
    },
    {
     "cell_type": "code",
     "collapsed": false,
     "input": [
      "genr = recalcSE(\"W:\\\\CNOP\\\\dumps\\\\MC 31.03-results\\\\2Partial\\\\res500_CHECKED\", partial_overlapSE, df=x2000, chunksize=50)\n",
      "item500 = next(genr)"
     ],
     "language": "python",
     "metadata": {},
     "outputs": [
      {
       "output_type": "stream",
       "stream": "stdout",
       "text": [
        "Starting SE on 12 cores, \"partial_overlapSE\"\n",
        "NO BACKUP\n",
        "Results loaded"
       ]
      },
      {
       "output_type": "stream",
       "stream": "stdout",
       "text": [
        "\n",
        "Job type 1, 9996\n"
       ]
      }
     ],
     "prompt_number": 47
    },
    {
     "cell_type": "code",
     "collapsed": false,
     "input": [
      "res500 = next(genr)"
     ],
     "language": "python",
     "metadata": {},
     "outputs": [
      {
       "output_type": "stream",
       "stream": "stdout",
       "text": [
        " 200/200 tasks finished after   20 s"
       ]
      },
      {
       "output_type": "stream",
       "stream": "stdout",
       "text": [
        "\n",
        "done\n",
        "DONE!\n"
       ]
      }
     ],
     "prompt_number": 48
    },
    {
     "cell_type": "code",
     "collapsed": false,
     "input": [
      "process_dump(res500, res_real_partial, cutpoints=(0.001,0.9));"
     ],
     "language": "python",
     "metadata": {},
     "outputs": [
      {
       "output_type": "stream",
       "stream": "stdout",
       "text": [
        "BIAS: 0.008\n",
        "RMSE: 0.154\n",
        "A-ratio: 1.001\n",
        "M-ratio: 0.989\n",
        "\n",
        "XS len: 9996\n",
        "SE len: 9996\n"
       ]
      }
     ],
     "prompt_number": 50
    },
    {
     "cell_type": "code",
     "collapsed": false,
     "input": [
      "pickle.dump(res500, file(\"W:\\\\CNOP\\\\dumps\\\\SE 06.04\\\\2Partial\\\\res500_CHECKED\", \"w\"))\n",
      "del genr, res500,  item500"
     ],
     "language": "python",
     "metadata": {},
     "outputs": [],
     "prompt_number": 51
    },
    {
     "cell_type": "code",
     "collapsed": false,
     "input": [
      "genr = recalcSE(\"W:\\\\CNOP\\\\dumps\\\\MC 31.03-results\\\\2Partial\\\\res1000_CHECKED\", partial_overlapSE, df=x2000, chunksize=50)\n",
      "item1000 = next(genr)"
     ],
     "language": "python",
     "metadata": {},
     "outputs": [
      {
       "output_type": "stream",
       "stream": "stdout",
       "text": [
        "Starting SE on 12 cores, \"partial_overlapSE\"\n",
        "NO BACKUP\n",
        "Results loaded"
       ]
      },
      {
       "output_type": "stream",
       "stream": "stdout",
       "text": [
        "\n",
        "Job type 1, 9996\n"
       ]
      }
     ],
     "prompt_number": 52
    },
    {
     "cell_type": "code",
     "collapsed": false,
     "input": [
      "res1000 = next(genr)"
     ],
     "language": "python",
     "metadata": {},
     "outputs": [
      {
       "output_type": "stream",
       "stream": "stdout",
       "text": [
        " 200/200 tasks finished after   26 s"
       ]
      },
      {
       "output_type": "stream",
       "stream": "stdout",
       "text": [
        "\n",
        "done\n",
        "DONE!\n"
       ]
      }
     ],
     "prompt_number": 53
    },
    {
     "cell_type": "code",
     "collapsed": false,
     "input": [
      "process_dump(res1000, res_real_partial, cutpoints=(0.001,0.9));"
     ],
     "language": "python",
     "metadata": {},
     "outputs": [
      {
       "output_type": "stream",
       "stream": "stdout",
       "text": [
        "BIAS: -0.003\n",
        "RMSE: 0.037\n",
        "A-ratio: 1.091\n",
        "M-ratio: 1.084\n",
        "\n",
        "XS len: 9996\n",
        "SE len: 9996\n"
       ]
      }
     ],
     "prompt_number": 54
    },
    {
     "cell_type": "code",
     "collapsed": false,
     "input": [
      "pickle.dump(res1000, file(\"W:\\\\CNOP\\\\dumps\\\\SE 06.04\\\\2Partial\\\\res1000_CHECKED\", \"w\"))\n",
      "del genr, res1000,  item1000"
     ],
     "language": "python",
     "metadata": {},
     "outputs": [],
     "prompt_number": 55
    },
    {
     "cell_type": "markdown",
     "metadata": {},
     "source": [
      "---"
     ]
    },
    {
     "cell_type": "heading",
     "level": 1,
     "metadata": {},
     "source": [
      "No Overlap"
     ]
    },
    {
     "cell_type": "code",
     "collapsed": false,
     "input": [
      "genr = recalcSE(\"W:\\\\CNOP\\\\dumps\\\\MC 31.03-results\\\\1No+\\\\res150_CHECKED\", no_overlapSE, df=x2000, chunksize=50)\n",
      "item125 = next(genr)"
     ],
     "language": "python",
     "metadata": {},
     "outputs": [
      {
       "output_type": "stream",
       "stream": "stdout",
       "text": [
        "Starting SE on 12 cores, \"no_overlapSE\"\n",
        "NO BACKUP\n",
        "Results loaded"
       ]
      },
      {
       "output_type": "stream",
       "stream": "stdout",
       "text": [
        "\n",
        "Job type 1, 10000\n"
       ]
      }
     ],
     "prompt_number": 60
    },
    {
     "cell_type": "code",
     "collapsed": false,
     "input": [
      "res125 = next(genr)"
     ],
     "language": "python",
     "metadata": {},
     "outputs": [
      {
       "output_type": "stream",
       "stream": "stdout",
       "text": [
        " 200/200 tasks finished after   16 s"
       ]
      },
      {
       "output_type": "stream",
       "stream": "stdout",
       "text": [
        "\n",
        "done\n",
        "DONE!\n"
       ]
      }
     ],
     "prompt_number": 61
    },
    {
     "cell_type": "code",
     "collapsed": false,
     "input": [
      "process_dump(res125, res_real_no, cutpoints=(0.01,0.99));"
     ],
     "language": "python",
     "metadata": {},
     "outputs": [
      {
       "output_type": "stream",
       "stream": "stdout",
       "text": [
        "BIAS: -0.041\n",
        "RMSE: 0.304\n",
        "A-ratio: 0.994\n",
        "M-ratio: 0.873\n",
        "\n",
        "XS len: 9999\n",
        "SE len: 9997\n"
       ]
      }
     ],
     "prompt_number": 71
    },
    {
     "cell_type": "code",
     "collapsed": false,
     "input": [
      "pickle.dump(res125, file(\"W:\\\\CNOP\\\\dumps\\\\SE 06.04\\\\1No\\\\res150_CHECKED\", \"w\"))\n",
      "#del genr, res125,  item125"
     ],
     "language": "python",
     "metadata": {},
     "outputs": [],
     "prompt_number": 65
    },
    {
     "cell_type": "code",
     "collapsed": false,
     "input": [
      "genr = recalcSE(\"W:\\\\CNOP\\\\dumps\\\\MC 31.03-results\\\\1No+\\\\res250_CHECKED\", no_overlapSE, df=x2000, chunksize=50)\n",
      "item250 = next(genr)"
     ],
     "language": "python",
     "metadata": {},
     "outputs": [
      {
       "output_type": "stream",
       "stream": "stdout",
       "text": [
        "Starting SE on 12 cores, \"no_overlapSE\"\n",
        "NO BACKUP\n",
        "Results loaded"
       ]
      },
      {
       "output_type": "stream",
       "stream": "stdout",
       "text": [
        "\n",
        "Job type 1, 10000\n"
       ]
      }
     ],
     "prompt_number": 66
    },
    {
     "cell_type": "code",
     "collapsed": false,
     "input": [
      "res250 = next(genr)"
     ],
     "language": "python",
     "metadata": {},
     "outputs": [
      {
       "output_type": "stream",
       "stream": "stdout",
       "text": [
        " 200/200 tasks finished after   21 s"
       ]
      },
      {
       "output_type": "stream",
       "stream": "stdout",
       "text": [
        "\n",
        "done\n",
        "DONE!\n"
       ]
      }
     ],
     "prompt_number": 67
    },
    {
     "cell_type": "code",
     "collapsed": false,
     "input": [
      "process_dump(res250, res_real_no, cutpoints=(0.01,0.99));"
     ],
     "language": "python",
     "metadata": {},
     "outputs": [
      {
       "output_type": "stream",
       "stream": "stdout",
       "text": [
        "BIAS: -0.029\n",
        "RMSE: 0.090\n",
        "A-ratio: 1.072\n",
        "M-ratio: 1.027\n",
        "\n",
        "XS len: 10000\n",
        "SE len: 10000\n"
       ]
      }
     ],
     "prompt_number": 72
    },
    {
     "cell_type": "code",
     "collapsed": false,
     "input": [
      "pickle.dump(res250, file(\"W:\\\\CNOP\\\\dumps\\\\SE 06.04\\\\1No\\\\res250_CHECKED\", \"w\"))\n",
      "#del genr, res125,  item125"
     ],
     "language": "python",
     "metadata": {},
     "outputs": [],
     "prompt_number": 73
    },
    {
     "cell_type": "code",
     "collapsed": false,
     "input": [
      "genr = recalcSE(\"W:\\\\CNOP\\\\dumps\\\\MC 31.03-results\\\\1No+\\\\res500_CHECKED\", no_overlapSE, df=x2000, chunksize=50)\n",
      "item500 = next(genr)"
     ],
     "language": "python",
     "metadata": {},
     "outputs": [
      {
       "output_type": "stream",
       "stream": "stdout",
       "text": [
        "Starting SE on 12 cores, \"no_overlapSE\"\n",
        "NO BACKUP\n",
        "Results loaded"
       ]
      },
      {
       "output_type": "stream",
       "stream": "stdout",
       "text": [
        "\n",
        "Job type 1, 9998\n"
       ]
      }
     ],
     "prompt_number": 74
    },
    {
     "cell_type": "code",
     "collapsed": false,
     "input": [
      "res500 = next(genr)"
     ],
     "language": "python",
     "metadata": {},
     "outputs": [
      {
       "output_type": "stream",
       "stream": "stdout",
       "text": [
        " 200/200 tasks finished after   20 s"
       ]
      },
      {
       "output_type": "stream",
       "stream": "stdout",
       "text": [
        "\n",
        "done\n",
        "DONE!\n"
       ]
      }
     ],
     "prompt_number": 75
    },
    {
     "cell_type": "code",
     "collapsed": false,
     "input": [
      "process_dump(res500, res_real_no, cutpoints=(0.01,0.99));"
     ],
     "language": "python",
     "metadata": {},
     "outputs": [
      {
       "output_type": "stream",
       "stream": "stdout",
       "text": [
        "BIAS: -0.016\n",
        "RMSE: 0.042\n",
        "A-ratio: 1.050\n",
        "M-ratio: 1.027\n",
        "\n",
        "XS len: 9996\n",
        "SE len: 9996\n"
       ]
      }
     ],
     "prompt_number": 76
    },
    {
     "cell_type": "code",
     "collapsed": false,
     "input": [
      "genr = recalcSE(\"W:\\\\CNOP\\\\dumps\\\\MC 31.03-results\\\\1No+\\\\res1000_OK\", no_overlapSE, df=x2000, chunksize=50)\n",
      "item1000 = next(genr)"
     ],
     "language": "python",
     "metadata": {},
     "outputs": [
      {
       "output_type": "stream",
       "stream": "stdout",
       "text": [
        "Starting SE on 12 cores, \"no_overlapSE\"\n",
        "NO BACKUP\n",
        "Results loaded"
       ]
      },
      {
       "output_type": "stream",
       "stream": "stdout",
       "text": [
        "\n",
        "Job type 1, 9810\n"
       ]
      }
     ],
     "prompt_number": 78
    },
    {
     "cell_type": "code",
     "collapsed": false,
     "input": [
      "res1000 = next(genr)"
     ],
     "language": "python",
     "metadata": {},
     "outputs": [
      {
       "output_type": "stream",
       "stream": "stdout",
       "text": [
        " 197/197 tasks finished after   26 s"
       ]
      },
      {
       "output_type": "stream",
       "stream": "stdout",
       "text": [
        "\n",
        "done\n",
        "DONE!\n"
       ]
      }
     ],
     "prompt_number": 79
    },
    {
     "cell_type": "code",
     "collapsed": false,
     "input": [
      "process_dump(res1000, res_real_no, cutpoints=(0.01,0.99));"
     ],
     "language": "python",
     "metadata": {},
     "outputs": [
      {
       "output_type": "stream",
       "stream": "stdout",
       "text": [
        "BIAS: -0.008\n",
        "RMSE: 0.020\n",
        "A-ratio: 1.057\n",
        "M-ratio: 1.045\n",
        "\n",
        "XS len: 9810\n",
        "SE len: 9810\n"
       ]
      }
     ],
     "prompt_number": 82
    },
    {
     "cell_type": "code",
     "collapsed": false,
     "input": [],
     "language": "python",
     "metadata": {},
     "outputs": []
    },
    {
     "cell_type": "heading",
     "level": 1,
     "metadata": {},
     "source": [
      "\u041a\u0430\u0440\u0442\u0438\u043d\u043a\u0438 \u0441 \u0430\u043d\u0430\u043b\u0438\u0437\u043e\u043c \u043f\u0440\u0438\u0447\u0438\u043d \u043e\u0448\u0438\u0431\u043e\u043a SE"
     ]
    },
    {
     "cell_type": "code",
     "collapsed": false,
     "input": [
      "res500 = pickle.load(file(\"W:\\\\CNOP\\\\dumps\\\\SE 06.04\\\\3Full\\\\res500_CHECKED\"))"
     ],
     "language": "python",
     "metadata": {},
     "outputs": [],
     "prompt_number": 14
    },
    {
     "cell_type": "code",
     "collapsed": false,
     "input": [
      "process_dump(res500, res_real_full)"
     ],
     "language": "python",
     "metadata": {},
     "outputs": [
      {
       "output_type": "stream",
       "stream": "stdout",
       "text": [
        "BIAS: -0.046\n",
        "RMSE: 0.934\n",
        "A-ratio: 9.16270764603\n",
        "M-ratio: 0.57874313989\n",
        "\n",
        "XS len: 10000\n",
        "SE len: 4206\n",
        "SE mean: [  1.53555917e-01   1.60922561e-01   2.28463284e-01   6.31994080e-01\n",
        "   6.53792057e-01   1.79356521e-01   1.74371071e-01   6.03300991e-01\n",
        "   6.38446552e-01   2.37879996e+02   1.68329086e-01   1.84051068e-01\n",
        "   2.58926706e-01   2.04603058e+01   5.94976933e-01] \n",
        "XS variance: [ 0.27806553  0.28299973  0.40269704  0.9256248   0.83828652  0.23898903\n",
        "  0.20130879  0.40140243  0.42256586  2.03963691  0.23671607  0.24916129\n",
        "  0.32550367  2.03863356  0.7942897 ] \n"
       ]
      }
     ],
     "prompt_number": 16
    },
    {
     "cell_type": "code",
     "collapsed": false,
     "input": [
      "len(res500)"
     ],
     "language": "python",
     "metadata": {},
     "outputs": [
      {
       "metadata": {},
       "output_type": "pyout",
       "prompt_number": 92,
       "text": [
        "10000"
       ]
      }
     ],
     "prompt_number": 92
    },
    {
     "cell_type": "code",
     "collapsed": false,
     "input": [
      "ses = np.array([item[0][0].se for item in res500 \n",
      "                if len(item)==2 and linalg.norm(item[0][0].x, ord=np.inf) < 100 \\\n",
      "                and \"se\" in item[0][0].keys() and not np.isnan(item[0][0].se).any() \\\n",
      "                #and linalg.norm(item[0][0].se, ord=np.inf) < 100 ])    \n",
      "                ])  \n"
     ],
     "language": "python",
     "metadata": {},
     "outputs": [],
     "prompt_number": 99
    },
    {
     "cell_type": "code",
     "collapsed": false,
     "input": [
      "ses.shape[0]"
     ],
     "language": "python",
     "metadata": {},
     "outputs": [
      {
       "metadata": {},
       "output_type": "pyout",
       "prompt_number": 100,
       "text": [
        "10000L"
       ]
      }
     ],
     "prompt_number": 100
    },
    {
     "cell_type": "code",
     "collapsed": false,
     "input": [
      "import pandas as pd\n",
      "%matplotlib inline"
     ],
     "language": "python",
     "metadata": {},
     "outputs": [],
     "prompt_number": 52
    },
    {
     "cell_type": "code",
     "collapsed": false,
     "input": [
      "df = pd.DataFrame(ses)"
     ],
     "language": "python",
     "metadata": {},
     "outputs": [],
     "prompt_number": 50
    },
    {
     "cell_type": "code",
     "collapsed": false,
     "input": [
      "(df.median()/ses.std(axis=0))"
     ],
     "language": "python",
     "metadata": {},
     "outputs": [
      {
       "metadata": {},
       "output_type": "pyout",
       "prompt_number": 88,
       "text": [
        "0     4.525358e-01\n",
        "1     5.632764e-01\n",
        "2     1.398709e-06\n",
        "3     3.564833e-01\n",
        "4     4.688591e-01\n",
        "5     5.274583e-01\n",
        "6     8.799986e-01\n",
        "7     9.736958e-09\n",
        "8     1.096920e-08\n",
        "9     1.545197e-07\n",
        "10    4.106955e-01\n",
        "11    5.001354e-01\n",
        "12    1.327804e-07\n",
        "13    7.574424e-14\n",
        "14    4.455820e-07\n",
        "dtype: float64"
       ]
      }
     ],
     "prompt_number": 88
    },
    {
     "cell_type": "code",
     "collapsed": false,
     "input": [
      "ses.std(axis=0)"
     ],
     "language": "python",
     "metadata": {},
     "outputs": [
      {
       "metadata": {},
       "output_type": "pyout",
       "prompt_number": 89,
       "text": [
        "array([  3.34408050e-01,   3.42291517e-01,   1.96369992e+05,\n",
        "         1.06378004e+00,   9.46158211e-01,   5.33496519e-01,\n",
        "         3.40365686e-01,   4.70614140e+07,   4.66976587e+07,\n",
        "         3.57328712e+06,   3.91573390e-01,   5.75672831e-01,\n",
        "         2.81340750e+06,   5.47920815e+12,   9.88736786e+05])"
       ]
      }
     ],
     "prompt_number": 89
    },
    {
     "cell_type": "code",
     "collapsed": false,
     "input": [
      "df.mean()"
     ],
     "language": "python",
     "metadata": {},
     "outputs": [
      {
       "metadata": {},
       "output_type": "pyout",
       "prompt_number": 90,
       "text": [
        "0     1.883167e-01\n",
        "1     2.377810e-01\n",
        "2     2.186035e+03\n",
        "3     5.712088e-01\n",
        "4     6.095025e-01\n",
        "5     3.500693e-01\n",
        "6     3.437068e-01\n",
        "7     1.562116e+06\n",
        "8     1.534973e+06\n",
        "9     6.702975e+04\n",
        "10    2.132596e-01\n",
        "11    3.718374e-01\n",
        "12    7.778845e+04\n",
        "13    6.091778e+10\n",
        "14    1.757047e+04\n",
        "dtype: float64"
       ]
      }
     ],
     "prompt_number": 90
    },
    {
     "cell_type": "code",
     "collapsed": false,
     "input": [
      "np.std?"
     ],
     "language": "python",
     "metadata": {},
     "outputs": [],
     "prompt_number": 77
    },
    {
     "cell_type": "code",
     "collapsed": false,
     "input": [
      "#df.ix[:, 6:8].plot(kind = 'density', figsize=(9,9));\n",
      "df.plot(kind = 'density', figsize=(9,9), logx=True);"
     ],
     "language": "python",
     "metadata": {},
     "outputs": [
      {
       "metadata": {},
       "output_type": "display_data",
       "png": "[encoded data removed]",
       "text": [
        "<matplotlib.figure.Figure at 0x6c05e588>"
       ]
      }
     ],
     "prompt_number": 53
    },
    {
     "cell_type": "code",
     "collapsed": false,
     "input": [
      "df.ix[:,:4].boxplot();\n",
      "df.ix[:,0:8].boxplot();"
     ],
     "language": "python",
     "metadata": {},
     "outputs": [
      {
       "metadata": {},
       "output_type": "display_data",
       "png": "[encoded data removed]",
       "text": [
        "<matplotlib.figure.Figure at 0x2abaf2e8>"
       ]
      }
     ],
     "prompt_number": 69
    },
    {
     "cell_type": "code",
     "collapsed": false,
     "input": [
      "dfClean = df[abs(df)<200]"
     ],
     "language": "python",
     "metadata": {},
     "outputs": [],
     "prompt_number": 70
    },
    {
     "cell_type": "code",
     "collapsed": false,
     "input": [
      "dfClean.dropna(inplace=True)"
     ],
     "language": "python",
     "metadata": {},
     "outputs": [],
     "prompt_number": 74
    },
    {
     "cell_type": "code",
     "collapsed": false,
     "input": [
      "len(dfClean)"
     ],
     "language": "python",
     "metadata": {},
     "outputs": [
      {
       "metadata": {},
       "output_type": "pyout",
       "prompt_number": 76,
       "text": [
        "3715"
       ]
      }
     ],
     "prompt_number": 76
    },
    {
     "cell_type": "code",
     "collapsed": false,
     "input": [
      "len(df)"
     ],
     "language": "python",
     "metadata": {},
     "outputs": [
      {
       "metadata": {},
       "output_type": "pyout",
       "prompt_number": 91,
       "text": [
        "4206"
       ]
      }
     ],
     "prompt_number": 91
    },
    {
     "cell_type": "code",
     "collapsed": false,
     "input": [
      "#dfClean.plot(kind = 'density', figsize=(9,9), logx=True);\n",
      "#dfClean[[0,9,14]].plot(kind = 'density', figsize=(9,9), logx=False);\n",
      "df.hist(figsize=(9,9));"
     ],
     "language": "python",
     "metadata": {},
     "outputs": [
      {
       "metadata": {},
       "output_type": "display_data",
       "png": "[encoded data removed]",
       "text": [
        "<matplotlib.figure.Figure at 0x2e3e3c88>"
       ]
      }
     ],
     "prompt_number": 90
    },
    {
     "cell_type": "code",
     "collapsed": false,
     "input": [
      "dfClean.mean()"
     ],
     "language": "python",
     "metadata": {},
     "outputs": [
      {
       "metadata": {},
       "output_type": "pyout",
       "prompt_number": 80,
       "text": [
        "0      0.161814\n",
        "1      0.169732\n",
        "2      0.241862\n",
        "3      0.649407\n",
        "4      0.665445\n",
        "5      0.181347\n",
        "6      0.174770\n",
        "7      0.282221\n",
        "8      0.316585\n",
        "9     13.966356\n",
        "10     0.169297\n",
        "11     0.185394\n",
        "12     0.259970\n",
        "13     9.727243\n",
        "14     0.599305\n",
        "dtype: float64"
       ]
      }
     ],
     "prompt_number": 80
    },
    {
     "cell_type": "code",
     "collapsed": false,
     "input": [],
     "language": "python",
     "metadata": {},
     "outputs": []
    },
    {
     "cell_type": "code",
     "collapsed": false,
     "input": [
      "np.isnan(np.inf)"
     ],
     "language": "python",
     "metadata": {},
     "outputs": [
      {
       "metadata": {},
       "output_type": "pyout",
       "prompt_number": 38,
       "text": [
        "False"
       ]
      }
     ],
     "prompt_number": 38
    },
    {
     "cell_type": "code",
     "collapsed": false,
     "input": [],
     "language": "python",
     "metadata": {},
     "outputs": []
    },
    {
     "cell_type": "code",
     "collapsed": false,
     "input": [],
     "language": "python",
     "metadata": {},
     "outputs": []
    },
    {
     "cell_type": "code",
     "collapsed": false,
     "input": [],
     "language": "python",
     "metadata": {},
     "outputs": []
    },
    {
     "cell_type": "code",
     "collapsed": false,
     "input": [],
     "language": "python",
     "metadata": {},
     "outputs": []
    },
    {
     "cell_type": "code",
     "collapsed": false,
     "input": [],
     "language": "python",
     "metadata": {},
     "outputs": []
    }
   ],
   "metadata": {}
  }
 ]
}